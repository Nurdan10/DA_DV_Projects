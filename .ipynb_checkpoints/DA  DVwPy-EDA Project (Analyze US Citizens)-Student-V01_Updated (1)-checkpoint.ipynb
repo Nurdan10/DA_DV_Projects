{
 "cells": [
  {
   "cell_type": "markdown",
   "metadata": {
    "id": "RBgL2bqDjwN_"
   },
   "source": [
    "<p style=\"text-align: center;\"><img src=\"https://docs.google.com/uc?id=1lY0Uj5R04yMY3-ZppPWxqCr5pvBLYPnV\" class=\"img-fluid\" \n",
    "alt=\"CLRSWY\"></p>\n",
    "\n",
    "<p style=\"background-color:romance; color:plum; font-size:150%; text-align:center; border-radius:10px 10px; font-family:newtimeroman; line-height: 1; font-weight:bold;\">WAY TO REINVENT YOURSELF</p>\n",
    "\n",
    "<p style=\"background-color:romance; color:jaguar; font-size:250%; text-align:center; border-radius:10px 10px; font-family:newtimeroman; line-height: 1.4;\"><strong>Data Analysis & Visualization with Python</strong></p>\n",
    "\n",
    "![image.png](https://i.ibb.co/mT1GG7j/US-citizen.jpg)\n",
    "\n",
    "<p style=\"background-color:romance; color:jaguar; font-size:200%; text-align:center; border-radius:10px 10px; font-family:newtimeroman; line-height: 1.4;\"><strong>Analysis of US Citizens by Income Levels</strong></p>\n",
    "\n",
    "<!-- <p style=\"background-color:romance; color:jaguar; font-size:200%; text-align:center; border-radius:10px 10px; font-family:newtimeroman; line-height: 1.1;\">Project Solution</p> -->"
   ]
  },
  {
   "cell_type": "markdown",
   "metadata": {},
   "source": [
    "<a id=\"content\"></a>\n",
    "<p style=\"background-color:plum; color:floralwhite; font-size:175%; text-align:center; border-radius:10px 10px; font-family:newtimeroman; line-height: 1.4;\">Content</p>\n",
    "\n",
    "* [Introduction](#0)\n",
    "* [About Dataset](#1)\n",
    "* [Importing Related Libraries](#2)\n",
    "* [Recognizing & Understanding Data](#3)\n",
    "* [Univariate & Multivariate Analysis](#4)    \n",
    "* [Other Specific Analysis Questions](#5)\n",
    "* [Dropping Similar & Unneccessary Features](#6)\n",
    "* [Handling with Missing Values](#7)\n",
    "* [Handling with Outliers](#8)    \n",
    "* [Final Step to make ready dataset for ML Models](#9)\n",
    "* [The End of the Project](#10)"
   ]
  },
  {
   "cell_type": "markdown",
   "metadata": {
    "id": "wN-5l4z7jwN_"
   },
   "source": [
    "<a id=\"0\"></a>\n",
    "<p style=\"background-color:plum; color:floralwhite; font-size:175%; text-align:center; border-radius:10px 10px; font-family:newtimeroman; line-height: 1.4;\">Introduction</p>\n",
    "\n",
    "<a href=\"#content\" class=\"btn btn-primary btn-sm\" role=\"button\" aria-pressed=\"true\" style=\"color:blue; background-color:#dfa8e4\" data-toggle=\"popover\">Content</a>\n",
    "\n",
    "One of the most important components to any data science experiment that doesn’t get as much importance as it should is **``Exploratory Data Analysis (EDA)``**. In short, EDA is **``\"A first look at the data\"``**. It is a critical step in analyzing the data from an experiment. It is used to understand and summarize the content of the dataset to ensure that the features which we feed to our machine learning algorithms are refined and we get valid, correctly interpreted results.\n",
    "In general, looking at a column of numbers or a whole spreadsheet and determining the important characteristics of the data can be very tedious and boring. Moreover, it is **good practice to understand the problem statement** and the data before you get your hands dirty, which in view, **helps to gain a lot of insights**. I will try to explain the concept using the Adult dataset/Census Income dataset available on the [UCI Machine Learning Repository](https://archive.ics.uci.edu/ml/datasets/Adult). The problem statement here is to predict whether the income exceeds 50k a year or not based on the census data.\n",
    "\n",
    "**Aim of the Project**\n",
    "\n",
    "Applying Exploratory Data Analysis (EDA) and preparing the data to implement the Machine Learning Algorithms;\n",
    "1. Analyzing the characteristics of individuals according to income groups\n",
    "2. Preparing data to create a model that will predict the income levels of people according to their characteristics (So the \"salary\" feature is the target feature)"
   ]
  },
  {
   "cell_type": "markdown",
   "metadata": {
    "id": "XzZP-nZ5jwOA"
   },
   "source": [
    "<a id=\"1\"></a>\n",
    "<p style=\"background-color:plum; color:floralwhite; font-size:175%; text-align:center; border-radius:10px 10px; font-family:newtimeroman; line-height: 1.4;\">About Dataset</p>\n",
    "\n",
    "<a href=\"https://www.kaggle.com/code/jieyima/income-classification-model/notebook\" class=\"btn btn-primary btn-sm\" role=\"button\" aria-pressed=\"true\" style=\"color:blue; background-color:#dfa8e4\" data-toggle=\"popover\">Kaggle: Income Classification Model</a>\n",
    "\n",
    "The Census Income dataset has 48,842 entries. Each entry contains the following information about an individual:\n",
    "\n",
    "- **salary (target feature/label):** whether or not an individual makes more than $50,000 annually. (<= 50K, >50K)\n",
    "- **age:** the age of an individual. (Integer greater than 0)\n",
    "- **workclass:** a general term to represent the employment status of an individual. (Private, Self-emp-not-inc, Self-emp-inc, Federal-gov, Local-gov, State-gov, Without-pay, Never-worked)\n",
    "- **fnlwgt:** this is the number of people the census believes the entry represents. People with similar demographic characteristics should have similar weights.  There is one important caveat to remember about this statement. That is that since the CPS sample is actually a collection of 51 state samples, each with its own probability of selection, the statement only applies within state.(Integer greater than 0)\n",
    "- **education:** the highest level of education achieved by an individual. (Bachelors, Some-college, 11th, HS-grad, Prof-school, Assoc-acdm, Assoc-voc, 9th, 7th-8th, 12th, Masters, 1st-4th, 10th, Doctorate, 5th-6th, Preschool.)\n",
    "- **education-num:** the highest level of education achieved in numerical form. (Integer greater than 0)\n",
    "- **marital-status:** marital status of an individual. Married-civ-spouse corresponds to a civilian spouse while Married-AF-spouse is a spouse in the Armed Forces. Married-spouse-absent includes married people living apart because either the husband or wife was employed and living at a considerable distance from home (Married-civ-spouse, Divorced, Never-married, Separated, Widowed, Married-spouse-absent, Married-AF-spouse)\n",
    "- **occupation:** the general type of occupation of an individual. (Tech-support, Craft-repair, Other-service, Sales, Exec-managerial, Prof-specialty, Handlers-cleaners, Machine-op-inspct, Adm-clerical, Farming-fishing, Transport-moving, Priv-house-serv, Protective-serv, Armed-Forces)\n",
    "- **relationship:** represents what this individual is relative to others. For example an individual could be a Husband. Each entry only has one relationship attribute. (Wife, Own-child, Husband, Not-in-family, Other-relative, Unmarried)\n",
    "- **race:** Descriptions of an individual’s race. (White, Asian-Pac-Islander, Amer-Indian-Eskimo, Other, Black)\n",
    "- **sex:** the biological sex of the individual. (Male, female)\n",
    "- **capital-gain:** capital gains for an individual. (Integer greater than or equal to 0)\n",
    "- **capital-loss:** capital loss for an individual. (Integer greater than or equal to 0)\n",
    "- **hours-per-week:** the hours an individual has reported to work per week. (continuous)\n",
    "- **native-country:** country of origin for an individual (United-States, Cambodia, England, Puerto-Rico, Canada, Germany, Outlying-US(Guam-USVI-etc), India, Japan, Greece, South, China, Cuba, Iran, Honduras, Philippines, Italy, Poland, Jamaica, Vietnam, Mexico, Portugal, Ireland, France, Dominican-Republic, Laos, Ecuador, Taiwan, Haiti, Columbia, Hungary, Guatemala, Nicaragua, Scotland, Thailand, Yugoslavia, El-Salvador, Trinadad&Tobago, Peru, Hong, Holand-Netherlands)"
   ]
  },
  {
   "cell_type": "markdown",
   "metadata": {},
   "source": [
    "<p style=\"background-color:plum; color:floralwhite; font-size:175%; text-align:center; border-radius:10px 10px; font-family:newtimeroman; line-height: 1.4;\">How to Installing/Enabling Intellisense or Autocomplete in Jupyter Notebook</p>\n",
    "\n",
    "**Installing [jupyter_contrib_nbextensions](https://jupyter-contrib-nbextensions.readthedocs.io/en/latest/install.html)**\n",
    "\n",
    "**To install the current version from The Python Package Index (PyPI), which is a repository of software for the Python programming language, simply type:**\n",
    "\n",
    "!pip install jupyter_contrib_nbextensions\n",
    "\n",
    "**Alternatively, you can install directly from the current master branch of the repository:**\n",
    "\n",
    "!pip install https://github.com/ipython-contrib/jupyter_contrib_nbextensions/tarball/master\n",
    "\n",
    "**Enabling [Intellisense or Autocomplete in Jupyter Notebook](https://botbark.com/2019/12/18/how-to-enable-intellisense-or-autocomplete-in-jupyter-notebook/)**\n",
    "\n",
    "\n",
    "**Installing hinterland for jupyter without anaconda**\n",
    "\n",
    "**``STEP 1:``** ``Open cmd prompt and run the following commands``\n",
    " 1) pip install jupyter_contrib_nbextensions<br>\n",
    " 2) pip install jupyter_nbextensions_configurator<br>\n",
    " 3) jupyter contrib nbextension install --user<br> \n",
    " 4) jupyter nbextensions_configurator enable --user<br>\n",
    "\n",
    "**``STEP 2:``** ``Open jupyter notebook``\n",
    " - click on nbextensions tab<br>\n",
    " - unckeck disable configuration for nbextensions without explicit compatibility<br>\n",
    " - put a check on Hinterland<br>\n",
    "\n",
    "**``Step 3:``** ``Open new python file and check autocomplete feature``\n",
    "\n",
    "[VIDEO SOURCE](https://www.youtube.com/watch?v=DKE8hED0fow)\n",
    "\n",
    "![Image_Assignment](https://i.ibb.co/RbmDmD6/E8-EED4-F3-B3-F4-4571-B6-A0-1-B3224-AAB060-4-5005-c.jpg)"
   ]
  },
  {
   "cell_type": "markdown",
   "metadata": {
    "id": "rvbIoNsjjwOD"
   },
   "source": [
    "<a id=\"2\"></a>\n",
    "<p style=\"background-color:plum; color:floralwhite; font-size:175%; text-align:center; border-radius:10px 10px; font-family:newtimeroman; line-height: 1.4;\">Importing Related Libraries</p>\n",
    "\n",
    "<a href=\"#content\" class=\"btn btn-primary btn-sm\" role=\"button\" aria-pressed=\"true\" style=\"color:blue; background-color:#dfa8e4\" data-toggle=\"popover\">Content</a>\n",
    "\n",
    "- Once you've Installed NumPy and Pandas etc. you can Import them as a Library.\n",
    "- Reading the Data from File"
   ]
  },
  {
   "cell_type": "code",
   "execution_count": 1,
   "metadata": {
    "id": "p7_KEHrAjwOE"
   },
   "outputs": [],
   "source": [
    "import re\n",
    "import numpy as np\n",
    "import pandas as pd\n",
    "import matplotlib.pyplot as plt\n",
    "import seaborn as sns\n",
    "\n",
    "# Statistics functions\n",
    "from scipy import stats\n",
    "\n",
    "import warnings\n",
    "# Suppressing a warning \n",
    "warnings.filterwarnings(\"ignore\") \n",
    "warnings.warn(\"this will not show\")\n",
    "\n",
    "# The style parameters control properties like the color of the background and whether a grid is enabled by default.\n",
    "sns.set_style(\"darkgrid\")\n",
    "\n",
    "params = {\n",
    "'figure.figsize':(12,5),\n",
    "'figure.titlesize':20,\n",
    "'font.size': 15,\n",
    "'axes.titlesize': 20,\n",
    "'axes.labelsize': 15,\n",
    "'xtick.labelsize': 15,\n",
    "'ytick.labelsize': 15,\n",
    "'legend.fontsize': 15,\n",
    "'boxplot.showmeans': True,\n",
    "'boxplot.meanprops.marker': 'o',\n",
    "'boxplot.meanprops.markeredgecolor': 'k',\n",
    "'boxplot.meanprops.markerfacecolor': 'w',\n",
    "'boxplot.meanprops.markersize': 10.1,\n",
    "}\n",
    "# print(plt.style.library)\n",
    "plt.rcParams.update(params)\n",
    "# plt.rcParams.update(plt.rcParamsDefault)\n",
    "# print(plt.rcParams['figure.figsize'])\n",
    "\n",
    "# Environment settings: \n",
    "pd.set_option('display.float_format', lambda x: '%.3f' % x)\n",
    "# Set it None to display all rows in the dataframe\n",
    "pd.set_option('display.max_rows', 100)\n",
    "# Set it to None to display all columns in the dataframe\n",
    "pd.set_option('display.max_columns', None)\n",
    "\n",
    "# It is a magic function that renders the figure in the notebook\n",
    "# Attention if U use this inline Command not work 'figure.figsize'\n",
    "# %matplotlib inline "
   ]
  },
  {
   "cell_type": "markdown",
   "metadata": {
    "id": "12VFNmTfjwOG"
   },
   "source": [
    "## Reading the Data from File"
   ]
  },
  {
   "cell_type": "code",
   "execution_count": null,
   "metadata": {
    "id": "p0ntrObJjwOG"
   },
   "outputs": [],
   "source": []
  },
  {
   "cell_type": "markdown",
   "metadata": {
    "id": "Y_VGwqWCjwOH"
   },
   "source": [
    "<a id=\"3\"></a>\n",
    "<p style=\"background-color:plum; color:floralwhite; font-size:175%; text-align:center; border-radius:10px 10px; font-family:newtimeroman; line-height: 1.4;\">Recognizing and Understanding Data</p>\n",
    "\n",
    "<a href=\"#content\" class=\"btn btn-primary btn-sm\" role=\"button\" aria-pressed=\"true\" style=\"color:blue; background-color:#dfa8e4\" data-toggle=\"popover\">Content</a>\n",
    "\n",
    "## Try to understand what the data looks like\n",
    "- Check the head, shape, data-types of the features.\n",
    "- Check if there are some dublicate rows or not. If there are, then drop them. \n",
    "- Check the statistical values of features.\n",
    "- Basically check the missing values. (NaN, None)\n",
    "- If needed, rename the columns' names for easy use. "
   ]
  },
  {
   "cell_type": "markdown",
   "metadata": {},
   "source": [
    "### Check the head, shape, data-types of the features."
   ]
  },
  {
   "cell_type": "code",
   "execution_count": 3,
   "metadata": {},
   "outputs": [],
   "source": [
    "# Your Code is Here\n",
    "\n",
    "df = pd.read_csv('adult_eda.csv')"
   ]
  },
  {
   "cell_type": "code",
   "execution_count": 4,
   "metadata": {},
   "outputs": [
    {
     "data": {
      "text/html": [
       "<div>\n",
       "<style scoped>\n",
       "    .dataframe tbody tr th:only-of-type {\n",
       "        vertical-align: middle;\n",
       "    }\n",
       "\n",
       "    .dataframe tbody tr th {\n",
       "        vertical-align: top;\n",
       "    }\n",
       "\n",
       "    .dataframe thead th {\n",
       "        text-align: right;\n",
       "    }\n",
       "</style>\n",
       "<table border=\"1\" class=\"dataframe\">\n",
       "  <thead>\n",
       "    <tr style=\"text-align: right;\">\n",
       "      <th></th>\n",
       "      <th>age</th>\n",
       "      <th>workclass</th>\n",
       "      <th>fnlwgt</th>\n",
       "      <th>education</th>\n",
       "      <th>education-num</th>\n",
       "      <th>marital-status</th>\n",
       "      <th>occupation</th>\n",
       "      <th>relationship</th>\n",
       "      <th>race</th>\n",
       "      <th>sex</th>\n",
       "      <th>capital-gain</th>\n",
       "      <th>capital-loss</th>\n",
       "      <th>hours-per-week</th>\n",
       "      <th>native-country</th>\n",
       "      <th>salary</th>\n",
       "    </tr>\n",
       "  </thead>\n",
       "  <tbody>\n",
       "    <tr>\n",
       "      <th>0</th>\n",
       "      <td>39</td>\n",
       "      <td>State-gov</td>\n",
       "      <td>77516</td>\n",
       "      <td>Bachelors</td>\n",
       "      <td>13.000</td>\n",
       "      <td>Never-married</td>\n",
       "      <td>Adm-clerical</td>\n",
       "      <td>Not-in-family</td>\n",
       "      <td>White</td>\n",
       "      <td>Male</td>\n",
       "      <td>2174</td>\n",
       "      <td>0</td>\n",
       "      <td>40</td>\n",
       "      <td>United-States</td>\n",
       "      <td>&lt;=50K</td>\n",
       "    </tr>\n",
       "    <tr>\n",
       "      <th>1</th>\n",
       "      <td>50</td>\n",
       "      <td>Self-emp-not-inc</td>\n",
       "      <td>83311</td>\n",
       "      <td>Bachelors</td>\n",
       "      <td>13.000</td>\n",
       "      <td>Married-civ-spouse</td>\n",
       "      <td>Exec-managerial</td>\n",
       "      <td>Husband</td>\n",
       "      <td>White</td>\n",
       "      <td>Male</td>\n",
       "      <td>0</td>\n",
       "      <td>0</td>\n",
       "      <td>13</td>\n",
       "      <td>United-States</td>\n",
       "      <td>&lt;=50K</td>\n",
       "    </tr>\n",
       "    <tr>\n",
       "      <th>2</th>\n",
       "      <td>38</td>\n",
       "      <td>Private</td>\n",
       "      <td>215646</td>\n",
       "      <td>HS-grad</td>\n",
       "      <td>9.000</td>\n",
       "      <td>Divorced</td>\n",
       "      <td>Handlers-cleaners</td>\n",
       "      <td>Not-in-family</td>\n",
       "      <td>White</td>\n",
       "      <td>Male</td>\n",
       "      <td>0</td>\n",
       "      <td>0</td>\n",
       "      <td>40</td>\n",
       "      <td>United-States</td>\n",
       "      <td>&lt;=50K</td>\n",
       "    </tr>\n",
       "    <tr>\n",
       "      <th>3</th>\n",
       "      <td>53</td>\n",
       "      <td>Private</td>\n",
       "      <td>234721</td>\n",
       "      <td>11th</td>\n",
       "      <td>7.000</td>\n",
       "      <td>Married-civ-spouse</td>\n",
       "      <td>Handlers-cleaners</td>\n",
       "      <td>Husband</td>\n",
       "      <td>Black</td>\n",
       "      <td>Male</td>\n",
       "      <td>0</td>\n",
       "      <td>0</td>\n",
       "      <td>40</td>\n",
       "      <td>United-States</td>\n",
       "      <td>&lt;=50K</td>\n",
       "    </tr>\n",
       "    <tr>\n",
       "      <th>4</th>\n",
       "      <td>28</td>\n",
       "      <td>Private</td>\n",
       "      <td>338409</td>\n",
       "      <td>Bachelors</td>\n",
       "      <td>13.000</td>\n",
       "      <td>Married-civ-spouse</td>\n",
       "      <td>Prof-specialty</td>\n",
       "      <td>Wife</td>\n",
       "      <td>Black</td>\n",
       "      <td>Female</td>\n",
       "      <td>0</td>\n",
       "      <td>0</td>\n",
       "      <td>40</td>\n",
       "      <td>Cuba</td>\n",
       "      <td>&lt;=50K</td>\n",
       "    </tr>\n",
       "  </tbody>\n",
       "</table>\n",
       "</div>"
      ],
      "text/plain": [
       "   age         workclass  fnlwgt  education  education-num  \\\n",
       "0   39         State-gov   77516  Bachelors         13.000   \n",
       "1   50  Self-emp-not-inc   83311  Bachelors         13.000   \n",
       "2   38           Private  215646    HS-grad          9.000   \n",
       "3   53           Private  234721       11th          7.000   \n",
       "4   28           Private  338409  Bachelors         13.000   \n",
       "\n",
       "       marital-status         occupation   relationship   race     sex  \\\n",
       "0       Never-married       Adm-clerical  Not-in-family  White    Male   \n",
       "1  Married-civ-spouse    Exec-managerial        Husband  White    Male   \n",
       "2            Divorced  Handlers-cleaners  Not-in-family  White    Male   \n",
       "3  Married-civ-spouse  Handlers-cleaners        Husband  Black    Male   \n",
       "4  Married-civ-spouse     Prof-specialty           Wife  Black  Female   \n",
       "\n",
       "   capital-gain  capital-loss  hours-per-week native-country salary  \n",
       "0          2174             0              40  United-States  <=50K  \n",
       "1             0             0              13  United-States  <=50K  \n",
       "2             0             0              40  United-States  <=50K  \n",
       "3             0             0              40  United-States  <=50K  \n",
       "4             0             0              40           Cuba  <=50K  "
      ]
     },
     "execution_count": 4,
     "metadata": {},
     "output_type": "execute_result"
    }
   ],
   "source": [
    "df.head()"
   ]
  },
  {
   "cell_type": "markdown",
   "metadata": {},
   "source": [
    "Desired Output:\n",
    "\n",
    "![image.png](https://i.ibb.co/qFn8RZs/US-Citicens1.png)"
   ]
  },
  {
   "cell_type": "code",
   "execution_count": 5,
   "metadata": {},
   "outputs": [
    {
     "data": {
      "text/plain": [
       "(32561, 15)"
      ]
     },
     "execution_count": 5,
     "metadata": {},
     "output_type": "execute_result"
    }
   ],
   "source": [
    "# Your Code is Here\n",
    "df.shape"
   ]
  },
  {
   "cell_type": "raw",
   "metadata": {},
   "source": [
    "Desired Output:\n",
    "\n",
    "(32561, 15)"
   ]
  },
  {
   "cell_type": "code",
   "execution_count": 6,
   "metadata": {},
   "outputs": [
    {
     "name": "stdout",
     "output_type": "stream",
     "text": [
      "<class 'pandas.core.frame.DataFrame'>\n",
      "RangeIndex: 32561 entries, 0 to 32560\n",
      "Data columns (total 15 columns):\n",
      " #   Column          Non-Null Count  Dtype  \n",
      "---  ------          --------------  -----  \n",
      " 0   age             32561 non-null  int64  \n",
      " 1   workclass       32561 non-null  object \n",
      " 2   fnlwgt          32561 non-null  int64  \n",
      " 3   education       32561 non-null  object \n",
      " 4   education-num   31759 non-null  float64\n",
      " 5   marital-status  32561 non-null  object \n",
      " 6   occupation      32561 non-null  object \n",
      " 7   relationship    27493 non-null  object \n",
      " 8   race            32561 non-null  object \n",
      " 9   sex             32561 non-null  object \n",
      " 10  capital-gain    32561 non-null  int64  \n",
      " 11  capital-loss    32561 non-null  int64  \n",
      " 12  hours-per-week  32561 non-null  int64  \n",
      " 13  native-country  32561 non-null  object \n",
      " 14  salary          32561 non-null  object \n",
      "dtypes: float64(1), int64(5), object(9)\n",
      "memory usage: 3.7+ MB\n"
     ]
    }
   ],
   "source": [
    "# Your Code is Here\n",
    "df.info()"
   ]
  },
  {
   "cell_type": "raw",
   "metadata": {},
   "source": [
    "Desired Output:\n",
    "\n",
    "<class 'pandas.core.frame.DataFrame'>\n",
    "RangeIndex: 32561 entries, 0 to 32560\n",
    "Data columns (total 15 columns):\n",
    " #   Column          Non-Null Count  Dtype  \n",
    "---  ------          --------------  -----  \n",
    " 0   age             32561 non-null  int64  \n",
    " 1   workclass       32561 non-null  object \n",
    " 2   fnlwgt          32561 non-null  int64  \n",
    " 3   education       32561 non-null  object \n",
    " 4   education-num   31759 non-null  float64\n",
    " 5   marital-status  32561 non-null  object \n",
    " 6   occupation      32561 non-null  object \n",
    " 7   relationship    27493 non-null  object \n",
    " 8   race            32561 non-null  object \n",
    " 9   sex             32561 non-null  object \n",
    " 10  capital-gain    32561 non-null  int64  \n",
    " 11  capital-loss    32561 non-null  int64  \n",
    " 12  hours-per-week  32561 non-null  int64  \n",
    " 13  native-country  32561 non-null  object \n",
    " 14  salary          32561 non-null  object \n",
    "dtypes: float64(1), int64(5), object(9)\n",
    "memory usage: 3.7+ MB"
   ]
  },
  {
   "cell_type": "markdown",
   "metadata": {},
   "source": [
    "### Check if there are some dublicate rows or not. If there are, then drop them."
   ]
  },
  {
   "cell_type": "code",
   "execution_count": 14,
   "metadata": {},
   "outputs": [
    {
     "data": {
      "text/plain": [
       "False    32537\n",
       "True        24\n",
       "Name: count, dtype: int64"
      ]
     },
     "execution_count": 14,
     "metadata": {},
     "output_type": "execute_result"
    }
   ],
   "source": [
    "# Check if the Dataset have any Duplicate\n",
    "\n",
    "# Your Code is Here\n",
    "df.duplicated().value_counts()\n"
   ]
  },
  {
   "cell_type": "raw",
   "metadata": {},
   "source": [
    "Desired Output:\n",
    "\n",
    "False    32537\n",
    "True        24\n",
    "dtype: int64"
   ]
  },
  {
   "cell_type": "code",
   "execution_count": 17,
   "metadata": {},
   "outputs": [],
   "source": [
    "# Drop Duplicates\n",
    "\n",
    "# Your Code is Here\n",
    "df.drop_duplicates(inplace=True)\n"
   ]
  },
  {
   "cell_type": "code",
   "execution_count": 18,
   "metadata": {},
   "outputs": [
    {
     "data": {
      "text/plain": [
       "(32537, 15)"
      ]
     },
     "execution_count": 18,
     "metadata": {},
     "output_type": "execute_result"
    }
   ],
   "source": [
    "# Check the shape of the Dataset\n",
    "\n",
    "# Your Code is Here\n",
    "\n",
    "df.shape"
   ]
  },
  {
   "cell_type": "raw",
   "metadata": {},
   "source": [
    "Desired Output:\n",
    "\n",
    "(32537, 15)"
   ]
  },
  {
   "cell_type": "markdown",
   "metadata": {},
   "source": [
    "### Check the statistical values of features."
   ]
  },
  {
   "cell_type": "code",
   "execution_count": 20,
   "metadata": {},
   "outputs": [
    {
     "data": {
      "text/html": [
       "<div>\n",
       "<style scoped>\n",
       "    .dataframe tbody tr th:only-of-type {\n",
       "        vertical-align: middle;\n",
       "    }\n",
       "\n",
       "    .dataframe tbody tr th {\n",
       "        vertical-align: top;\n",
       "    }\n",
       "\n",
       "    .dataframe thead th {\n",
       "        text-align: right;\n",
       "    }\n",
       "</style>\n",
       "<table border=\"1\" class=\"dataframe\">\n",
       "  <thead>\n",
       "    <tr style=\"text-align: right;\">\n",
       "      <th></th>\n",
       "      <th>count</th>\n",
       "      <th>mean</th>\n",
       "      <th>std</th>\n",
       "      <th>min</th>\n",
       "      <th>25%</th>\n",
       "      <th>50%</th>\n",
       "      <th>75%</th>\n",
       "      <th>max</th>\n",
       "    </tr>\n",
       "  </thead>\n",
       "  <tbody>\n",
       "    <tr>\n",
       "      <th>age</th>\n",
       "      <td>32537.000</td>\n",
       "      <td>38.586</td>\n",
       "      <td>13.638</td>\n",
       "      <td>17.000</td>\n",
       "      <td>28.000</td>\n",
       "      <td>37.000</td>\n",
       "      <td>48.000</td>\n",
       "      <td>90.000</td>\n",
       "    </tr>\n",
       "    <tr>\n",
       "      <th>fnlwgt</th>\n",
       "      <td>32537.000</td>\n",
       "      <td>189780.849</td>\n",
       "      <td>105556.471</td>\n",
       "      <td>12285.000</td>\n",
       "      <td>117827.000</td>\n",
       "      <td>178356.000</td>\n",
       "      <td>236993.000</td>\n",
       "      <td>1484705.000</td>\n",
       "    </tr>\n",
       "    <tr>\n",
       "      <th>education-num</th>\n",
       "      <td>31735.000</td>\n",
       "      <td>10.084</td>\n",
       "      <td>2.575</td>\n",
       "      <td>1.000</td>\n",
       "      <td>9.000</td>\n",
       "      <td>10.000</td>\n",
       "      <td>12.000</td>\n",
       "      <td>16.000</td>\n",
       "    </tr>\n",
       "    <tr>\n",
       "      <th>capital-gain</th>\n",
       "      <td>32537.000</td>\n",
       "      <td>1078.444</td>\n",
       "      <td>7387.957</td>\n",
       "      <td>0.000</td>\n",
       "      <td>0.000</td>\n",
       "      <td>0.000</td>\n",
       "      <td>0.000</td>\n",
       "      <td>99999.000</td>\n",
       "    </tr>\n",
       "    <tr>\n",
       "      <th>capital-loss</th>\n",
       "      <td>32537.000</td>\n",
       "      <td>87.368</td>\n",
       "      <td>403.102</td>\n",
       "      <td>0.000</td>\n",
       "      <td>0.000</td>\n",
       "      <td>0.000</td>\n",
       "      <td>0.000</td>\n",
       "      <td>4356.000</td>\n",
       "    </tr>\n",
       "    <tr>\n",
       "      <th>hours-per-week</th>\n",
       "      <td>32537.000</td>\n",
       "      <td>40.440</td>\n",
       "      <td>12.347</td>\n",
       "      <td>1.000</td>\n",
       "      <td>40.000</td>\n",
       "      <td>40.000</td>\n",
       "      <td>45.000</td>\n",
       "      <td>99.000</td>\n",
       "    </tr>\n",
       "  </tbody>\n",
       "</table>\n",
       "</div>"
      ],
      "text/plain": [
       "                   count       mean        std       min        25%  \\\n",
       "age            32537.000     38.586     13.638    17.000     28.000   \n",
       "fnlwgt         32537.000 189780.849 105556.471 12285.000 117827.000   \n",
       "education-num  31735.000     10.084      2.575     1.000      9.000   \n",
       "capital-gain   32537.000   1078.444   7387.957     0.000      0.000   \n",
       "capital-loss   32537.000     87.368    403.102     0.000      0.000   \n",
       "hours-per-week 32537.000     40.440     12.347     1.000     40.000   \n",
       "\n",
       "                      50%        75%         max  \n",
       "age                37.000     48.000      90.000  \n",
       "fnlwgt         178356.000 236993.000 1484705.000  \n",
       "education-num      10.000     12.000      16.000  \n",
       "capital-gain        0.000      0.000   99999.000  \n",
       "capital-loss        0.000      0.000    4356.000  \n",
       "hours-per-week     40.000     45.000      99.000  "
      ]
     },
     "execution_count": 20,
     "metadata": {},
     "output_type": "execute_result"
    }
   ],
   "source": [
    "# Your Code is Here\n",
    "df.describe().T\n"
   ]
  },
  {
   "cell_type": "markdown",
   "metadata": {},
   "source": [
    "Desired Output:\n",
    "\n",
    "![image.png](https://i.ibb.co/HnG6Xdn/US-Citicens2.png)"
   ]
  },
  {
   "cell_type": "markdown",
   "metadata": {},
   "source": [
    "### Basically check the missing values. (NaN, None)"
   ]
  },
  {
   "cell_type": "code",
   "execution_count": 23,
   "metadata": {},
   "outputs": [
    {
     "data": {
      "text/plain": [
       "age                  0\n",
       "workclass            0\n",
       "fnlwgt               0\n",
       "education            0\n",
       "education-num      802\n",
       "marital-status       0\n",
       "occupation           0\n",
       "relationship      5064\n",
       "race                 0\n",
       "sex                  0\n",
       "capital-gain         0\n",
       "capital-loss         0\n",
       "hours-per-week       0\n",
       "native-country       0\n",
       "salary               0\n",
       "dtype: int64"
      ]
     },
     "execution_count": 23,
     "metadata": {},
     "output_type": "execute_result"
    }
   ],
   "source": [
    "# Check the sum of Missing Values per column\n",
    "# Your Code is Here\n",
    "df.isnull().sum()\n"
   ]
  },
  {
   "cell_type": "raw",
   "metadata": {},
   "source": [
    "age                  0\n",
    "workclass            0\n",
    "fnlwgt               0\n",
    "education            0\n",
    "education_num      802\n",
    "marital_status       0\n",
    "occupation           0\n",
    "relationship      5064\n",
    "race                 0\n",
    "gender               0\n",
    "capital_gain         0\n",
    "capital_loss         0\n",
    "hours_per_week       0\n",
    "native_country       0\n",
    "salary               0\n",
    "dtype: int64"
   ]
  },
  {
   "cell_type": "code",
   "execution_count": 24,
   "metadata": {},
   "outputs": [
    {
     "data": {
      "text/plain": [
       "age               0.000\n",
       "workclass         0.000\n",
       "fnlwgt            0.000\n",
       "education         0.000\n",
       "education-num     2.465\n",
       "marital-status    0.000\n",
       "occupation        0.000\n",
       "relationship     15.564\n",
       "race              0.000\n",
       "sex               0.000\n",
       "capital-gain      0.000\n",
       "capital-loss      0.000\n",
       "hours-per-week    0.000\n",
       "native-country    0.000\n",
       "salary            0.000\n",
       "dtype: float64"
      ]
     },
     "execution_count": 24,
     "metadata": {},
     "output_type": "execute_result"
    }
   ],
   "source": [
    "# Check the Percentage of Missing Values\n",
    "# Your Code is Here\n",
    "\n",
    "df.isnull().sum() / len(df) * 100 "
   ]
  },
  {
   "cell_type": "raw",
   "metadata": {},
   "source": [
    "Desired Output:\n",
    "\n",
    "age               0.000\n",
    "workclass         0.000\n",
    "fnlwgt            0.000\n",
    "education         0.000\n",
    "education_num     2.465\n",
    "marital_status    0.000\n",
    "occupation        0.000\n",
    "relationship     15.564\n",
    "race              0.000\n",
    "gender            0.000\n",
    "capital_gain      0.000\n",
    "capital_loss      0.000\n",
    "hours_per_week    0.000\n",
    "native_country    0.000\n",
    "salary            0.000\n",
    "dtype: float64"
   ]
  },
  {
   "cell_type": "markdown",
   "metadata": {},
   "source": [
    "### If needed, rename the columns' names for easy use. "
   ]
  },
  {
   "cell_type": "markdown",
   "metadata": {},
   "source": [
    "**Rename the features of;**<br>\n",
    "**``\"education-num\"``**, **``\"marital-status\"``**, **``\"capital-gain\"``**, **``\"capital-loss\"``**, **``\"hours-per-week\"``**, **``\"native-country\"``** **as**<br>\n",
    "**``\"education_num\"``**, **``\"marital_status\"``**, **``\"capital_gain\"``**, **``\"capital_loss\"``**, **``\"hours_per_week\"``**, **``\"native_country\"``**, **respectively and permanently.**"
   ]
  },
  {
   "cell_type": "code",
   "execution_count": null,
   "metadata": {},
   "outputs": [],
   "source": [
    "# Your Code is Here\n",
    "\n"
   ]
  },
  {
   "cell_type": "markdown",
   "metadata": {
    "id": "3QuB60ZKjwOM"
   },
   "source": [
    "## Examining the Data\n",
    "- Look at the counts of columns that have OBJECT datatype \n",
    "- Assign the Columns (Features) of object data type as** **`\"object_col\"`**\n",
    "- Detect strange values apart from the NaN Values.(isin(),Count(),Sum(),Any())"
   ]
  },
  {
   "cell_type": "markdown",
   "metadata": {},
   "source": [
    "### Look at the value counts of columns that have OBJECT datatype"
   ]
  },
  {
   "cell_type": "code",
   "execution_count": 146,
   "metadata": {},
   "outputs": [
    {
     "data": {
      "text/plain": [
       "Index(['age', 'workclass', 'fnlwgt', 'education', 'education-num',\n",
       "       'marital-status', 'occupation', 'relationship', 'race', 'sex',\n",
       "       'capital-gain', 'capital-loss', 'hours-per-week', 'native-country',\n",
       "       'salary'],\n",
       "      dtype='object')"
      ]
     },
     "execution_count": 146,
     "metadata": {},
     "output_type": "execute_result"
    }
   ],
   "source": [
    "# Your Code is Here\n",
    "df.columns\n"
   ]
  },
  {
   "cell_type": "raw",
   "metadata": {},
   "source": [
    "Desired Output:\n",
    "\n",
    "Index(['age', 'workclass', 'fnlwgt', 'education', 'education_num',\n",
    "       'marital_status', 'occupation', 'relationship', 'race', 'gender',\n",
    "       'capital_gain', 'capital_loss', 'hours_per_week', 'native_country',\n",
    "       'salary'],\n",
    "      dtype='object')"
   ]
  },
  {
   "cell_type": "code",
   "execution_count": 147,
   "metadata": {},
   "outputs": [
    {
     "data": {
      "text/html": [
       "<div>\n",
       "<style scoped>\n",
       "    .dataframe tbody tr th:only-of-type {\n",
       "        vertical-align: middle;\n",
       "    }\n",
       "\n",
       "    .dataframe tbody tr th {\n",
       "        vertical-align: top;\n",
       "    }\n",
       "\n",
       "    .dataframe thead th {\n",
       "        text-align: right;\n",
       "    }\n",
       "</style>\n",
       "<table border=\"1\" class=\"dataframe\">\n",
       "  <thead>\n",
       "    <tr style=\"text-align: right;\">\n",
       "      <th></th>\n",
       "      <th>count</th>\n",
       "      <th>unique</th>\n",
       "      <th>top</th>\n",
       "      <th>freq</th>\n",
       "    </tr>\n",
       "  </thead>\n",
       "  <tbody>\n",
       "    <tr>\n",
       "      <th>workclass</th>\n",
       "      <td>32537</td>\n",
       "      <td>9</td>\n",
       "      <td>Private</td>\n",
       "      <td>22673</td>\n",
       "    </tr>\n",
       "    <tr>\n",
       "      <th>education</th>\n",
       "      <td>32537</td>\n",
       "      <td>16</td>\n",
       "      <td>HS-grad</td>\n",
       "      <td>10494</td>\n",
       "    </tr>\n",
       "    <tr>\n",
       "      <th>marital-status</th>\n",
       "      <td>32537</td>\n",
       "      <td>7</td>\n",
       "      <td>Married-civ-spouse</td>\n",
       "      <td>14970</td>\n",
       "    </tr>\n",
       "    <tr>\n",
       "      <th>occupation</th>\n",
       "      <td>32537</td>\n",
       "      <td>15</td>\n",
       "      <td>Prof-specialty</td>\n",
       "      <td>4136</td>\n",
       "    </tr>\n",
       "    <tr>\n",
       "      <th>relationship</th>\n",
       "      <td>27473</td>\n",
       "      <td>5</td>\n",
       "      <td>Husband</td>\n",
       "      <td>13187</td>\n",
       "    </tr>\n",
       "    <tr>\n",
       "      <th>race</th>\n",
       "      <td>32537</td>\n",
       "      <td>5</td>\n",
       "      <td>White</td>\n",
       "      <td>27795</td>\n",
       "    </tr>\n",
       "    <tr>\n",
       "      <th>sex</th>\n",
       "      <td>32537</td>\n",
       "      <td>2</td>\n",
       "      <td>Male</td>\n",
       "      <td>21775</td>\n",
       "    </tr>\n",
       "    <tr>\n",
       "      <th>native-country</th>\n",
       "      <td>32537</td>\n",
       "      <td>42</td>\n",
       "      <td>United-States</td>\n",
       "      <td>29153</td>\n",
       "    </tr>\n",
       "    <tr>\n",
       "      <th>salary</th>\n",
       "      <td>32537</td>\n",
       "      <td>2</td>\n",
       "      <td>&lt;=50K</td>\n",
       "      <td>24698</td>\n",
       "    </tr>\n",
       "  </tbody>\n",
       "</table>\n",
       "</div>"
      ],
      "text/plain": [
       "                count unique                 top   freq\n",
       "workclass       32537      9             Private  22673\n",
       "education       32537     16             HS-grad  10494\n",
       "marital-status  32537      7  Married-civ-spouse  14970\n",
       "occupation      32537     15      Prof-specialty   4136\n",
       "relationship    27473      5             Husband  13187\n",
       "race            32537      5               White  27795\n",
       "sex             32537      2                Male  21775\n",
       "native-country  32537     42       United-States  29153\n",
       "salary          32537      2               <=50K  24698"
      ]
     },
     "execution_count": 147,
     "metadata": {},
     "output_type": "execute_result"
    }
   ],
   "source": [
    "# Your Code is Here\n",
    "\n",
    "df[df.columns[df.dtypes == 'object']].describe().T"
   ]
  },
  {
   "cell_type": "markdown",
   "metadata": {},
   "source": [
    "Desired Output:\n",
    "\n",
    "![image.png](https://i.ibb.co/WspBGfZ/US-Citicens3.png)"
   ]
  },
  {
   "cell_type": "markdown",
   "metadata": {},
   "source": [
    "### Assign the Columns (Features) of object data type as** **``\"object_col\"``"
   ]
  },
  {
   "cell_type": "code",
   "execution_count": 46,
   "metadata": {},
   "outputs": [
    {
     "data": {
      "text/plain": [
       "Index(['workclass', 'education', 'marital-status', 'occupation',\n",
       "       'relationship', 'race', 'sex', 'native-country', 'salary'],\n",
       "      dtype='object')"
      ]
     },
     "execution_count": 46,
     "metadata": {},
     "output_type": "execute_result"
    }
   ],
   "source": [
    "# Your Code is Here\n",
    "object_col = df.columns[df.dtypes == 'object']\n",
    "object_col\n"
   ]
  },
  {
   "cell_type": "raw",
   "metadata": {},
   "source": [
    "Desired Output:\n",
    "\n",
    "Index(['workclass', 'education', 'marital_status', 'occupation',\n",
    "       'relationship', 'race', 'gender', 'native_country', 'salary'],\n",
    "      dtype='object')"
   ]
  },
  {
   "cell_type": "code",
   "execution_count": 47,
   "metadata": {
    "id": "FM8sgFTQjwON",
    "outputId": "c0318cba-8524-48e9-dc63-056d6660cb96"
   },
   "outputs": [
    {
     "name": "stdout",
     "output_type": "stream",
     "text": [
      "workclass\n",
      "****************************************\n",
      "workclass\n",
      "Private             22673\n",
      "Self-emp-not-inc     2540\n",
      "Local-gov            2093\n",
      "?                    1836\n",
      "State-gov            1298\n",
      "Self-emp-inc         1116\n",
      "Federal-gov           960\n",
      "Without-pay            14\n",
      "Never-worked            7\n",
      "Name: count, dtype: int64\n",
      "----------------------------------------\n",
      "education\n",
      "****************************************\n",
      "education\n",
      "HS-grad         10494\n",
      "Some-college     7282\n",
      "Bachelors        5353\n",
      "Masters          1722\n",
      "Assoc-voc        1382\n",
      "11th             1175\n",
      "Assoc-acdm       1067\n",
      "10th              933\n",
      "7th-8th           645\n",
      "Prof-school       576\n",
      "9th               514\n",
      "12th              433\n",
      "Doctorate         413\n",
      "5th-6th           332\n",
      "1st-4th           166\n",
      "Preschool          50\n",
      "Name: count, dtype: int64\n",
      "----------------------------------------\n",
      "marital-status\n",
      "****************************************\n",
      "marital-status\n",
      "Married-civ-spouse       14970\n",
      "Never-married            10667\n",
      "Divorced                  4441\n",
      "Separated                 1025\n",
      "Widowed                    993\n",
      "Married-spouse-absent      418\n",
      "Married-AF-spouse           23\n",
      "Name: count, dtype: int64\n",
      "----------------------------------------\n",
      "occupation\n",
      "****************************************\n",
      "occupation\n",
      "Prof-specialty       4136\n",
      "Craft-repair         4094\n",
      "Exec-managerial      4065\n",
      "Adm-clerical         3768\n",
      "Sales                3650\n",
      "Other-service        3291\n",
      "Machine-op-inspct    2000\n",
      "?                    1843\n",
      "Transport-moving     1597\n",
      "Handlers-cleaners    1369\n",
      "Farming-fishing       992\n",
      "Tech-support          927\n",
      "Protective-serv       649\n",
      "Priv-house-serv       147\n",
      "Armed-Forces            9\n",
      "Name: count, dtype: int64\n",
      "----------------------------------------\n",
      "relationship\n",
      "****************************************\n",
      "relationship\n",
      "Husband           13187\n",
      "Not-in-family      8292\n",
      "NaN                5064\n",
      "Unmarried          3445\n",
      "Wife               1568\n",
      "Other-relative      981\n",
      "Name: count, dtype: int64\n",
      "----------------------------------------\n",
      "race\n",
      "****************************************\n",
      "race\n",
      "White                 27795\n",
      "Black                  3122\n",
      "Asian-Pac-Islander     1038\n",
      "Amer-Indian-Eskimo      311\n",
      "Other                   271\n",
      "Name: count, dtype: int64\n",
      "----------------------------------------\n",
      "sex\n",
      "****************************************\n",
      "sex\n",
      "Male      21775\n",
      "Female    10762\n",
      "Name: count, dtype: int64\n",
      "----------------------------------------\n",
      "native-country\n",
      "****************************************\n",
      "native-country\n",
      "United-States                 29153\n",
      "Mexico                          639\n",
      "?                               582\n",
      "Philippines                     198\n",
      "Germany                         137\n",
      "Canada                          121\n",
      "Puerto-Rico                     114\n",
      "El-Salvador                     106\n",
      "India                           100\n",
      "Cuba                             95\n",
      "England                          90\n",
      "Jamaica                          81\n",
      "South                            80\n",
      "China                            75\n",
      "Italy                            73\n",
      "Dominican-Republic               70\n",
      "Vietnam                          67\n",
      "Japan                            62\n",
      "Guatemala                        62\n",
      "Poland                           60\n",
      "Columbia                         59\n",
      "Taiwan                           51\n",
      "Haiti                            44\n",
      "Iran                             43\n",
      "Portugal                         37\n",
      "Nicaragua                        34\n",
      "Peru                             31\n",
      "France                           29\n",
      "Greece                           29\n",
      "Ecuador                          28\n",
      "Ireland                          24\n",
      "Hong                             20\n",
      "Cambodia                         19\n",
      "Trinadad&Tobago                  19\n",
      "Laos                             18\n",
      "Thailand                         18\n",
      "Yugoslavia                       16\n",
      "Outlying-US(Guam-USVI-etc)       14\n",
      "Honduras                         13\n",
      "Hungary                          13\n",
      "Scotland                         12\n",
      "Holand-Netherlands                1\n",
      "Name: count, dtype: int64\n",
      "----------------------------------------\n",
      "salary\n",
      "****************************************\n",
      "salary\n",
      "<=50K    24698\n",
      ">50K      7839\n",
      "Name: count, dtype: int64\n",
      "----------------------------------------\n"
     ]
    }
   ],
   "source": [
    "for col in object_col:\n",
    "    print(col)\n",
    "    print(\"**\"*20)\n",
    "    print(df[col].value_counts(dropna=False))\n",
    "    print(\"--\"*20)"
   ]
  },
  {
   "cell_type": "markdown",
   "metadata": {},
   "source": [
    "### Detect strange values apart from the NaN Values.(isin(),Count(),Sum(),Any())"
   ]
  },
  {
   "cell_type": "markdown",
   "metadata": {},
   "source": [
    "**Check if the Dataset has any Question Mark** **``\"?\"``**"
   ]
  },
  {
   "cell_type": "code",
   "execution_count": 48,
   "metadata": {},
   "outputs": [
    {
     "data": {
      "text/plain": [
       "age               False\n",
       "workclass          True\n",
       "fnlwgt            False\n",
       "education         False\n",
       "education-num     False\n",
       "marital-status    False\n",
       "occupation         True\n",
       "relationship      False\n",
       "race              False\n",
       "sex               False\n",
       "capital-gain      False\n",
       "capital-loss      False\n",
       "hours-per-week    False\n",
       "native-country     True\n",
       "salary            False\n",
       "dtype: bool"
      ]
     },
     "execution_count": 48,
     "metadata": {},
     "output_type": "execute_result"
    }
   ],
   "source": [
    "# Your Code is Here\n",
    "\n",
    "df.isin(['?']).any()"
   ]
  },
  {
   "cell_type": "raw",
   "metadata": {},
   "source": [
    "Desired Output:\n",
    "\n",
    "age               False\n",
    "workclass          True\n",
    "fnlwgt            False\n",
    "education         False\n",
    "education_num     False\n",
    "marital_status    False\n",
    "occupation         True\n",
    "relationship      False\n",
    "race              False\n",
    "gender            False\n",
    "capital_gain      False\n",
    "capital_loss      False\n",
    "hours_per_week    False\n",
    "native_country     True\n",
    "salary            False\n",
    "dtype: bool"
   ]
  },
  {
   "cell_type": "markdown",
   "metadata": {
    "id": "tRENVPjsjwOO"
   },
   "source": [
    "<a id=\"4\"></a>\n",
    "<p style=\"background-color:plum; color:floralwhite; font-size:175%; text-align:center; border-radius:10px 10px; font-family:newtimeroman; line-height: 1.4;\">Univariate & Multivariate Analysis</p>\n",
    "\n",
    "<a href=\"#content\" class=\"btn btn-primary btn-sm\" role=\"button\" aria-pressed=\"true\" style=\"color:blue; background-color:#dfa8e4\" data-toggle=\"popover\">Content</a>\n",
    "\n",
    "Examine all Features:\n",
    "- **Target Feature**\n",
    "- **Numeric Ones**\n",
    "- **Categoric Ones** separately from different aspects according to target feature.\n",
    "\n",
    "**to do list for numeric features:**\n",
    "1. Check the boxplot to see extreme values \n",
    "2. Check the histplot/kdeplot to see distribution of feature\n",
    "3. Check the statistical values\n",
    "4. Check the boxplot and histplot/kdeplot by target feature\n",
    "5. Check the statistical values by target feature\n",
    "6. Write down the conclusions you draw from your analysis\n",
    "\n",
    "**to do list for categoric features:**\n",
    "1. Find the features which contains similar values, examine the similarities and analyze them together \n",
    "2. Check the count/percentage in each categories and visualize it with a suitable plot\n",
    "3. If need, decrease the number of categories by combining similar categories\n",
    "4. Check the count/percentage in each target feature by categories and visualize it with a suitable plot\n",
    "5. Check the percentage distribution in each target feature by categories and visualize it with suitable plot\n",
    "6. Check the count in each categories by target feature and visualize it with a suitable plot\n",
    "7. Check the percentage distribution in each categories by target feature and visualize it with suitable plot\n",
    "8. Write down the conclusions you draw from your analysis\n",
    "\n",
    "**Note :** **Instruction/direction** for each feature is available under the corresponding feature in detail, as well."
   ]
  },
  {
   "cell_type": "markdown",
   "metadata": {
    "id": "FWVwlGMnjwOO"
   },
   "source": [
    "## Target Feature\n",
    "- Salary"
   ]
  },
  {
   "cell_type": "markdown",
   "metadata": {
    "id": "aZEah_LljwOO"
   },
   "source": [
    "**Check the count of person in each \"salary\" levels and visualize it with a countplot**"
   ]
  },
  {
   "cell_type": "code",
   "execution_count": 64,
   "metadata": {},
   "outputs": [
    {
     "data": {
      "image/png": "[encoded data removed]",
      "text/plain": [
       "<Figure size 1200x500 with 1 Axes>"
      ]
     },
     "metadata": {},
     "output_type": "display_data"
    }
   ],
   "source": [
    "plt.figure()\n",
    "ax = sns.countplot(x='salary', lw=(0,5), data=df)\n",
    "for p in ax.patches:\n",
    "    ax.annotate(format(p.get_height(), '.0f'), \n",
    "                (p.get_x() + p.get_width() / 2., p.get_height()), \n",
    "                ha = 'center', va = 'center', \n",
    "                xytext = (0,5), \n",
    "                textcoords = 'offset points')"
   ]
  },
  {
   "cell_type": "markdown",
   "metadata": {},
   "source": [
    "Desired Output:\n",
    "\n",
    "![image.png](https://i.ibb.co/9qwrtB1/US-Citicens4.png)"
   ]
  },
  {
   "cell_type": "code",
   "execution_count": 68,
   "metadata": {},
   "outputs": [
    {
     "data": {
      "text/plain": [
       "salary\n",
       "<=50K    24698\n",
       ">50K      7839\n",
       "Name: count, dtype: int64"
      ]
     },
     "execution_count": 68,
     "metadata": {},
     "output_type": "execute_result"
    }
   ],
   "source": [
    "# Your Code is Here\n",
    "df.salary.value_counts()"
   ]
  },
  {
   "cell_type": "raw",
   "metadata": {},
   "source": [
    "Desired Output:\n",
    "\n",
    "<=50K    24698\n",
    ">50K      7839\n",
    "Name: salary, dtype: int64"
   ]
  },
  {
   "cell_type": "markdown",
   "metadata": {
    "id": "u92U8F26jwOP"
   },
   "source": [
    "**Check the percentage of person in each \"salary\" levels and visualize it with a pieplot**"
   ]
  },
  {
   "cell_type": "code",
   "execution_count": 71,
   "metadata": {},
   "outputs": [
    {
     "data": {
      "text/plain": [
       "salary\n",
       "<=50K   0.759\n",
       ">50K    0.241\n",
       "Name: proportion, dtype: float64"
      ]
     },
     "execution_count": 71,
     "metadata": {},
     "output_type": "execute_result"
    }
   ],
   "source": [
    "# Your Code is Here\n",
    "\n",
    "salary_percentage = df.salary.value_counts(normalize=True)\n",
    "salary_percentage"
   ]
  },
  {
   "cell_type": "code",
   "execution_count": 89,
   "metadata": {},
   "outputs": [
    {
     "data": {
      "image/png": "[encoded data removed]",
      "text/plain": [
       "<Figure size 1200x500 with 1 Axes>"
      ]
     },
     "metadata": {},
     "output_type": "display_data"
    }
   ],
   "source": [
    "# Your Code is Here\n",
    "colors='#87CEFA', '#FFE45B'\n",
    "plt.title('Percentage of Income-Levels', fontsize=15)\n",
    "plt.pie(salary_percentage, colors=colors, labels=salary_percentage.index, autopct='%1.1f%%', startangle=140)\n",
    "plt.tight_layout()\n",
    "plt.show()"
   ]
  },
  {
   "cell_type": "raw",
   "metadata": {},
   "source": [
    "Desired Output:\n",
    "\n",
    "<=50K   0.759\n",
    ">50K    0.241\n",
    "Name: salary, dtype: float64"
   ]
  },
  {
   "cell_type": "markdown",
   "metadata": {},
   "source": [
    "Desired Output:\n",
    "\n",
    "![image.png](https://i.ibb.co/8YFvBrq/US-Citices5.png)"
   ]
  },
  {
   "cell_type": "markdown",
   "metadata": {
    "id": "P5GiZjZNjwOP"
   },
   "source": [
    "**Write down the conclusions you draw from your analysis**"
   ]
  },
  {
   "cell_type": "markdown",
   "metadata": {
    "id": "u38tpMPujwOQ"
   },
   "source": [
    "**Result :** Approximately one-third of US citizens in our data earn over $50,000, with a rate of 24.1%."
   ]
  },
  {
   "cell_type": "markdown",
   "metadata": {
    "id": "O-WjXfO7jwOQ"
   },
   "source": [
    "## Numeric Features"
   ]
  },
  {
   "cell_type": "markdown",
   "metadata": {
    "id": "UVjAplv8jwOQ"
   },
   "source": [
    "### age"
   ]
  },
  {
   "cell_type": "markdown",
   "metadata": {
    "id": "JSlVem-ZjwOQ"
   },
   "source": [
    "**Check the boxplot to see extreme values**"
   ]
  },
  {
   "cell_type": "code",
   "execution_count": 98,
   "metadata": {},
   "outputs": [
    {
     "data": {
      "image/png": "[encoded data removed]",
      "text/plain": [
       "<Figure size 1200x500 with 1 Axes>"
      ]
     },
     "metadata": {},
     "output_type": "display_data"
    }
   ],
   "source": [
    "# Your Code is Here\n",
    "\n",
    "sns.boxplot(data=df, x='age', showmeans=False,);\n"
   ]
  },
  {
   "cell_type": "markdown",
   "metadata": {},
   "source": [
    "Desired Output:\n",
    "\n",
    "![image.png](https://i.ibb.co/JKKwy5K/US-Citizens6.png)"
   ]
  },
  {
   "cell_type": "markdown",
   "metadata": {
    "id": "IjetyvahjwOQ"
   },
   "source": [
    "**Check the histplot/kdeplot to see distribution of feature**"
   ]
  },
  {
   "cell_type": "code",
   "execution_count": 108,
   "metadata": {},
   "outputs": [
    {
     "data": {
      "image/png": "[encoded data removed]",
      "text/plain": [
       "<Figure size 800x600 with 1 Axes>"
      ]
     },
     "metadata": {},
     "output_type": "display_data"
    }
   ],
   "source": [
    "# Your Code is Here\n",
    "plt.figure(figsize=(8, 6))\n",
    "sns.histplot(data=df, x='age', kde=True, binwidth=4);"
   ]
  },
  {
   "cell_type": "markdown",
   "metadata": {},
   "source": [
    "Desired Output:\n",
    "\n",
    "![image.png](https://i.ibb.co/JcJ9cyp/US-Citizens7.png)"
   ]
  },
  {
   "cell_type": "markdown",
   "metadata": {
    "id": "QqEkjaaHjwOR"
   },
   "source": [
    "**Check the statistical values**"
   ]
  },
  {
   "cell_type": "code",
   "execution_count": 109,
   "metadata": {},
   "outputs": [
    {
     "data": {
      "text/plain": [
       "count   32537.000\n",
       "mean       38.586\n",
       "std        13.638\n",
       "min        17.000\n",
       "25%        28.000\n",
       "50%        37.000\n",
       "75%        48.000\n",
       "max        90.000\n",
       "Name: age, dtype: float64"
      ]
     },
     "execution_count": 109,
     "metadata": {},
     "output_type": "execute_result"
    }
   ],
   "source": [
    "# Your Code is Here\n",
    "df['age'].describe()\n"
   ]
  },
  {
   "cell_type": "raw",
   "metadata": {},
   "source": [
    "Desired Output:\n",
    "\n",
    "count   32537.000\n",
    "mean       38.586\n",
    "std        13.638\n",
    "min        17.000\n",
    "25%        28.000\n",
    "50%        37.000\n",
    "75%        48.000\n",
    "max        90.000\n",
    "Name: age, dtype: float64"
   ]
  },
  {
   "cell_type": "markdown",
   "metadata": {
    "id": "M998V8hVjwOR"
   },
   "source": [
    "**Check the boxplot and histplot/kdeplot by \"salary\" levels**"
   ]
  },
  {
   "cell_type": "code",
   "execution_count": 115,
   "metadata": {},
   "outputs": [
    {
     "data": {
      "image/png": "[encoded data removed]",
      "text/plain": [
       "<Figure size 800x600 with 1 Axes>"
      ]
     },
     "metadata": {},
     "output_type": "display_data"
    }
   ],
   "source": [
    "# Your Code is Here\n",
    "plt.figure(figsize=(8, 6))\n",
    "sns.boxplot(x='salary', y='age', data=df, showmeans=False);"
   ]
  },
  {
   "cell_type": "markdown",
   "metadata": {},
   "source": [
    "Desired Output:\n",
    "\n",
    "![image.png](https://i.ibb.co/64tBVNT/US-Citizens8.png)"
   ]
  },
  {
   "cell_type": "code",
   "execution_count": 125,
   "metadata": {},
   "outputs": [
    {
     "data": {
      "image/png": "[encoded data removed]",
      "text/plain": [
       "<Figure size 1000x600 with 1 Axes>"
      ]
     },
     "metadata": {},
     "output_type": "display_data"
    }
   ],
   "source": [
    "# Your Code is Here\n",
    "plt.figure(figsize=(10, 6))\n",
    "sns.histplot(x='age', data=df, kde=True, hue='salary', legend=True, binwidth=4);"
   ]
  },
  {
   "cell_type": "markdown",
   "metadata": {},
   "source": [
    "Desired Output:\n",
    "\n",
    "![image.png](https://i.ibb.co/q5P0sVf/US-Citizens9.png)"
   ]
  },
  {
   "cell_type": "code",
   "execution_count": 128,
   "metadata": {},
   "outputs": [
    {
     "data": {
      "image/png": "[encoded data removed]",
      "text/plain": [
       "<Figure size 800x600 with 1 Axes>"
      ]
     },
     "metadata": {},
     "output_type": "display_data"
    }
   ],
   "source": [
    "# Your Code is Here\n",
    "plt.figure(figsize=(8, 6))\n",
    "sns.kdeplot(x='age', data=df, legend=True, hue='salary', fill=True);"
   ]
  },
  {
   "cell_type": "markdown",
   "metadata": {},
   "source": [
    "Desired Output:\n",
    "\n",
    "![image.png](https://i.ibb.co/7Y2HkxB/US-Citizens10.png)"
   ]
  },
  {
   "cell_type": "markdown",
   "metadata": {
    "id": "Ue0sit4hjwOS"
   },
   "source": [
    "**Check the statistical values by \"salary\" levels**"
   ]
  },
  {
   "cell_type": "code",
   "execution_count": 129,
   "metadata": {},
   "outputs": [
    {
     "data": {
      "text/html": [
       "<div>\n",
       "<style scoped>\n",
       "    .dataframe tbody tr th:only-of-type {\n",
       "        vertical-align: middle;\n",
       "    }\n",
       "\n",
       "    .dataframe tbody tr th {\n",
       "        vertical-align: top;\n",
       "    }\n",
       "\n",
       "    .dataframe thead th {\n",
       "        text-align: right;\n",
       "    }\n",
       "</style>\n",
       "<table border=\"1\" class=\"dataframe\">\n",
       "  <thead>\n",
       "    <tr style=\"text-align: right;\">\n",
       "      <th></th>\n",
       "      <th>count</th>\n",
       "      <th>mean</th>\n",
       "      <th>std</th>\n",
       "      <th>min</th>\n",
       "      <th>25%</th>\n",
       "      <th>50%</th>\n",
       "      <th>75%</th>\n",
       "      <th>max</th>\n",
       "    </tr>\n",
       "    <tr>\n",
       "      <th>salary</th>\n",
       "      <th></th>\n",
       "      <th></th>\n",
       "      <th></th>\n",
       "      <th></th>\n",
       "      <th></th>\n",
       "      <th></th>\n",
       "      <th></th>\n",
       "      <th></th>\n",
       "    </tr>\n",
       "  </thead>\n",
       "  <tbody>\n",
       "    <tr>\n",
       "      <th>&lt;=50K</th>\n",
       "      <td>24698.000</td>\n",
       "      <td>36.787</td>\n",
       "      <td>14.017</td>\n",
       "      <td>17.000</td>\n",
       "      <td>25.000</td>\n",
       "      <td>34.000</td>\n",
       "      <td>46.000</td>\n",
       "      <td>90.000</td>\n",
       "    </tr>\n",
       "    <tr>\n",
       "      <th>&gt;50K</th>\n",
       "      <td>7839.000</td>\n",
       "      <td>44.251</td>\n",
       "      <td>10.520</td>\n",
       "      <td>19.000</td>\n",
       "      <td>36.000</td>\n",
       "      <td>44.000</td>\n",
       "      <td>51.000</td>\n",
       "      <td>90.000</td>\n",
       "    </tr>\n",
       "  </tbody>\n",
       "</table>\n",
       "</div>"
      ],
      "text/plain": [
       "           count   mean    std    min    25%    50%    75%    max\n",
       "salary                                                           \n",
       "<=50K  24698.000 36.787 14.017 17.000 25.000 34.000 46.000 90.000\n",
       ">50K    7839.000 44.251 10.520 19.000 36.000 44.000 51.000 90.000"
      ]
     },
     "execution_count": 129,
     "metadata": {},
     "output_type": "execute_result"
    }
   ],
   "source": [
    "# Your Code is Here\n",
    "df.groupby('salary')['age'].describe()\n"
   ]
  },
  {
   "cell_type": "markdown",
   "metadata": {},
   "source": [
    "Desired Output:\n",
    "\n",
    "![image.png](https://i.ibb.co/xYYZcZZ/US-Citizens11.png)"
   ]
  },
  {
   "cell_type": "markdown",
   "metadata": {
    "id": "vWei7u-ljwOS"
   },
   "source": [
    "**Write down the conclusions you draw from your analysis**"
   ]
  },
  {
   "cell_type": "markdown",
   "metadata": {
    "id": "SkgAmdjnjwOT"
   },
   "source": [
    "**Result :** From the statistical summary of age grouped by salary levels:\r\n",
    "\r\n",
    "Individuals with higher salaries tend to be older on average compared to those with lower salaries.\r\n",
    "\r\n",
    "The distribution of ages among individuals earning more than 50.000 dolars has a smaller standard deviation, indicating less variability compared to those earning less than or equal to 50.000 dolars.\r\n",
    "\r\n",
    "The median age for individuals earning more than 50.000 dolars is higher, indicating a tendency towards older ages within this group.\r\n",
    "\r\n",
    "The minimum age for individuals earning more than 50.000 dolars is slightly higher than for those earning less than or equal to 50.000 dolars, indicating that higher salaries may generally require more experience or qualifications.\r\n",
    "\r\n",
    "The maximum age is the same for both salary groups, suggesting that there may be a limit on the age of individuals in the dataset, possibly due to retirement or oth.r factors. factors.rs.rs.ors.\n",
    "ors.\n",
    "ors.\n",
    "ors.factors.tors."
   ]
  },
  {
   "cell_type": "markdown",
   "metadata": {
    "id": "HOIESqNjjwOT"
   },
   "source": [
    "### fnlwgt"
   ]
  },
  {
   "cell_type": "markdown",
   "metadata": {
    "id": "j1M9913CjwOT"
   },
   "source": [
    "**Check the boxplot to see extreme values**"
   ]
  },
  {
   "cell_type": "code",
   "execution_count": 131,
   "metadata": {},
   "outputs": [
    {
     "data": {
      "image/png": "[encoded data removed]",
      "text/plain": [
       "<Figure size 800x600 with 1 Axes>"
      ]
     },
     "metadata": {},
     "output_type": "display_data"
    }
   ],
   "source": [
    "# Your Code is Here\n",
    "plt.figure(figsize=(8, 6))\n",
    "sns.boxplot(x='fnlwgt', data=df, showmeans=False);"
   ]
  },
  {
   "cell_type": "markdown",
   "metadata": {},
   "source": [
    "Desired Output:\n",
    "\n",
    "![image.png](https://i.ibb.co/x2TtkzH/US-Citizens12.png)"
   ]
  },
  {
   "cell_type": "markdown",
   "metadata": {
    "id": "_fMFmKvVjwOT"
   },
   "source": [
    "**Check the histplot/kdeplot to see distribution of feature**"
   ]
  },
  {
   "cell_type": "code",
   "execution_count": 134,
   "metadata": {},
   "outputs": [
    {
     "data": {
      "image/png": "[encoded data removed]",
      "text/plain": [
       "<Figure size 800x600 with 1 Axes>"
      ]
     },
     "metadata": {},
     "output_type": "display_data"
    }
   ],
   "source": [
    "# Your Code is Here\n",
    "plt.figure(figsize=(8, 6))\n",
    "sns.kdeplot(x='fnlwgt', data=df, fill=True);"
   ]
  },
  {
   "cell_type": "markdown",
   "metadata": {},
   "source": [
    "Desired Output:\n",
    "\n",
    "![image.png](https://i.ibb.co/ZmMV8nv/US-Citizens13.png)"
   ]
  },
  {
   "cell_type": "markdown",
   "metadata": {
    "id": "6RFyLaCZjwOU"
   },
   "source": [
    "**Check the statistical values**"
   ]
  },
  {
   "cell_type": "code",
   "execution_count": 135,
   "metadata": {},
   "outputs": [
    {
     "data": {
      "text/plain": [
       "count     32537.000\n",
       "mean     189780.849\n",
       "std      105556.471\n",
       "min       12285.000\n",
       "25%      117827.000\n",
       "50%      178356.000\n",
       "75%      236993.000\n",
       "max     1484705.000\n",
       "Name: fnlwgt, dtype: float64"
      ]
     },
     "execution_count": 135,
     "metadata": {},
     "output_type": "execute_result"
    }
   ],
   "source": [
    "# Your Code is Here\n",
    "\n",
    "df['fnlwgt'].describe()"
   ]
  },
  {
   "cell_type": "raw",
   "metadata": {},
   "source": [
    "Desired Output:\n",
    "\n",
    "count     32537.000\n",
    "mean     189780.849\n",
    "std      105556.471\n",
    "min       12285.000\n",
    "25%      117827.000\n",
    "50%      178356.000\n",
    "75%      236993.000\n",
    "max     1484705.000\n",
    "Name: fnlwgt, dtype: float64"
   ]
  },
  {
   "cell_type": "markdown",
   "metadata": {
    "id": "0c0RZVyfjwOU"
   },
   "source": [
    "**Check the boxplot and histplot/kdeplot by \"salary\" levels**"
   ]
  },
  {
   "cell_type": "code",
   "execution_count": 138,
   "metadata": {},
   "outputs": [
    {
     "data": {
      "image/png": "[encoded data removed]",
      "text/plain": [
       "<Figure size 800x600 with 1 Axes>"
      ]
     },
     "metadata": {},
     "output_type": "display_data"
    }
   ],
   "source": [
    "# Your Code is Here\n",
    "plt.figure(figsize=(8, 6))\n",
    "sns.boxplot(x='salary', y='fnlwgt', data=df, showmeans=False);\n"
   ]
  },
  {
   "cell_type": "markdown",
   "metadata": {},
   "source": [
    "Desired Output:\n",
    "\n",
    "![image.png](https://i.ibb.co/ZxJS7JW/US-Citizens14.png)"
   ]
  },
  {
   "cell_type": "code",
   "execution_count": 142,
   "metadata": {},
   "outputs": [
    {
     "data": {
      "image/png": "[encoded data removed]",
      "text/plain": [
       "<Figure size 800x600 with 1 Axes>"
      ]
     },
     "metadata": {},
     "output_type": "display_data"
    }
   ],
   "source": [
    "# Your Code is Here\n",
    "plt.figure(figsize=(8, 6))\n",
    "sns.kdeplot(x='fnlwgt', data=df, legend=True, hue='salary', fill=True);"
   ]
  },
  {
   "cell_type": "markdown",
   "metadata": {},
   "source": [
    "Desired Output:\n",
    "\n",
    "![image.png](https://i.ibb.co/TgygLrz/US-Citizens15.png)"
   ]
  },
  {
   "cell_type": "markdown",
   "metadata": {
    "id": "7pfCMuMYjwOV"
   },
   "source": [
    "**Check the statistical values by \"salary\" levels**"
   ]
  },
  {
   "cell_type": "code",
   "execution_count": 144,
   "metadata": {},
   "outputs": [
    {
     "data": {
      "text/html": [
       "<div>\n",
       "<style scoped>\n",
       "    .dataframe tbody tr th:only-of-type {\n",
       "        vertical-align: middle;\n",
       "    }\n",
       "\n",
       "    .dataframe tbody tr th {\n",
       "        vertical-align: top;\n",
       "    }\n",
       "\n",
       "    .dataframe thead th {\n",
       "        text-align: right;\n",
       "    }\n",
       "</style>\n",
       "<table border=\"1\" class=\"dataframe\">\n",
       "  <thead>\n",
       "    <tr style=\"text-align: right;\">\n",
       "      <th></th>\n",
       "      <th>count</th>\n",
       "      <th>mean</th>\n",
       "      <th>std</th>\n",
       "      <th>min</th>\n",
       "      <th>25%</th>\n",
       "      <th>50%</th>\n",
       "      <th>75%</th>\n",
       "      <th>max</th>\n",
       "    </tr>\n",
       "    <tr>\n",
       "      <th>salary</th>\n",
       "      <th></th>\n",
       "      <th></th>\n",
       "      <th></th>\n",
       "      <th></th>\n",
       "      <th></th>\n",
       "      <th></th>\n",
       "      <th></th>\n",
       "      <th></th>\n",
       "    </tr>\n",
       "  </thead>\n",
       "  <tbody>\n",
       "    <tr>\n",
       "      <th>&lt;=50K</th>\n",
       "      <td>24698.000</td>\n",
       "      <td>190345.927</td>\n",
       "      <td>106487.413</td>\n",
       "      <td>12285.000</td>\n",
       "      <td>117606.000</td>\n",
       "      <td>179465.000</td>\n",
       "      <td>238968.250</td>\n",
       "      <td>1484705.000</td>\n",
       "    </tr>\n",
       "    <tr>\n",
       "      <th>&gt;50K</th>\n",
       "      <td>7839.000</td>\n",
       "      <td>188000.481</td>\n",
       "      <td>102554.464</td>\n",
       "      <td>14878.000</td>\n",
       "      <td>119100.000</td>\n",
       "      <td>176063.000</td>\n",
       "      <td>230969.000</td>\n",
       "      <td>1226583.000</td>\n",
       "    </tr>\n",
       "  </tbody>\n",
       "</table>\n",
       "</div>"
      ],
      "text/plain": [
       "           count       mean        std       min        25%        50%  \\\n",
       "salary                                                                   \n",
       "<=50K  24698.000 190345.927 106487.413 12285.000 117606.000 179465.000   \n",
       ">50K    7839.000 188000.481 102554.464 14878.000 119100.000 176063.000   \n",
       "\n",
       "              75%         max  \n",
       "salary                         \n",
       "<=50K  238968.250 1484705.000  \n",
       ">50K   230969.000 1226583.000  "
      ]
     },
     "execution_count": 144,
     "metadata": {},
     "output_type": "execute_result"
    }
   ],
   "source": [
    "# Your Code is Here\n",
    "\n",
    "df.groupby('salary')['fnlwgt'].describe()"
   ]
  },
  {
   "cell_type": "markdown",
   "metadata": {},
   "source": [
    "Desired Output:\n",
    "\n",
    "![image.png](https://i.ibb.co/LzWqdBf/US-Citizens16.png)"
   ]
  },
  {
   "cell_type": "markdown",
   "metadata": {
    "id": "mHHIE5i1jwOV"
   },
   "source": [
    "**Write down the conclusions you draw from your analysis**"
   ]
  },
  {
   "cell_type": "markdown",
   "metadata": {
    "id": "B1cHhb2ejwOV"
   },
   "source": [
    "**Result :** The provided statistical values contain the statistical summary of the \"fnlwgt\" column grouped by the \"salary\" categories.  Here are some conclusions that can be drawn based on these statistics:\r\n",
    "\r\n",
    "Count: There are 24.698 individuals earning less than or equal to 50.000 dolars and 7.839 individuals earning more than 50.000 dolars. This indicates that individuals with lower salaries are represented in larger numbers.\r\n",
    "\r\n",
    "Mean: The average number of people represented by entries for individuals earning less than or equal to 50.000 dolars is approximately 190.346, while for individuals earning more than 50.000 dolars, it is approximately 188.000. This suggests that both salary groups have a similar average number of represented individuals.\r\n",
    "\r\n",
    "Standard Deviation: The standard deviation of the number of people represented by entries for individuals earning less than or equal to 50.000 dolars is approximately 106.487, whereas for individuals earning more than 50.000 dolars, it is approximately 102.554. This indicates that there is a similar spread in the number of represented individuals between the two groups.\r\n",
    "\r\n",
    "Minimum and Maximum: The minimum number of represented individuals for those earning less than or equal to 50.000 dolars is 12.285, and the maximum is 1.484.705. For those earning more than 50.000 dolars, the minimum is 14.878, and the maximum is 1.226.583. This shows that both salary groups have different ranges of represented individuals, but both groups have a wide range.\r\n",
    "\r\n",
    "These results suggest that the \"fnlwgt\" attribute (number of people represented by the census entry) is not evenly distributed across salary categories. Individuals with lower salaries are represented in larger numbers and have greater diversity.diversity."
   ]
  },
  {
   "cell_type": "markdown",
   "metadata": {
    "id": "6MCscpw1jwOV"
   },
   "source": [
    "### capital_gain"
   ]
  },
  {
   "cell_type": "markdown",
   "metadata": {
    "id": "MYcwxtzxjwOV"
   },
   "source": [
    "**Check the boxplot to see extreme values**"
   ]
  },
  {
   "cell_type": "code",
   "execution_count": 145,
   "metadata": {},
   "outputs": [
    {
     "ename": "ValueError",
     "evalue": "Could not interpret input 'capital_gain'",
     "output_type": "error",
     "traceback": [
      "\u001b[1;31m---------------------------------------------------------------------------\u001b[0m",
      "\u001b[1;31mValueError\u001b[0m                                Traceback (most recent call last)",
      "Cell \u001b[1;32mIn[145], line 3\u001b[0m\n\u001b[0;32m      1\u001b[0m \u001b[38;5;66;03m# Your Code is Here\u001b[39;00m\n\u001b[1;32m----> 3\u001b[0m sns\u001b[38;5;241m.\u001b[39mboxplot(x\u001b[38;5;241m=\u001b[39m\u001b[38;5;124m'\u001b[39m\u001b[38;5;124mcapital_gain\u001b[39m\u001b[38;5;124m'\u001b[39m, data\u001b[38;5;241m=\u001b[39mdf, showmeans\u001b[38;5;241m=\u001b[39m\u001b[38;5;28;01mFalse\u001b[39;00m)\n",
      "File \u001b[1;32m~\\anaconda3\\Lib\\site-packages\\seaborn\\categorical.py:2231\u001b[0m, in \u001b[0;36mboxplot\u001b[1;34m(data, x, y, hue, order, hue_order, orient, color, palette, saturation, width, dodge, fliersize, linewidth, whis, ax, **kwargs)\u001b[0m\n\u001b[0;32m   2224\u001b[0m \u001b[38;5;28;01mdef\u001b[39;00m \u001b[38;5;21mboxplot\u001b[39m(\n\u001b[0;32m   2225\u001b[0m     data\u001b[38;5;241m=\u001b[39m\u001b[38;5;28;01mNone\u001b[39;00m, \u001b[38;5;241m*\u001b[39m, x\u001b[38;5;241m=\u001b[39m\u001b[38;5;28;01mNone\u001b[39;00m, y\u001b[38;5;241m=\u001b[39m\u001b[38;5;28;01mNone\u001b[39;00m, hue\u001b[38;5;241m=\u001b[39m\u001b[38;5;28;01mNone\u001b[39;00m, order\u001b[38;5;241m=\u001b[39m\u001b[38;5;28;01mNone\u001b[39;00m, hue_order\u001b[38;5;241m=\u001b[39m\u001b[38;5;28;01mNone\u001b[39;00m,\n\u001b[0;32m   2226\u001b[0m     orient\u001b[38;5;241m=\u001b[39m\u001b[38;5;28;01mNone\u001b[39;00m, color\u001b[38;5;241m=\u001b[39m\u001b[38;5;28;01mNone\u001b[39;00m, palette\u001b[38;5;241m=\u001b[39m\u001b[38;5;28;01mNone\u001b[39;00m, saturation\u001b[38;5;241m=\u001b[39m\u001b[38;5;241m.75\u001b[39m, width\u001b[38;5;241m=\u001b[39m\u001b[38;5;241m.8\u001b[39m,\n\u001b[0;32m   2227\u001b[0m     dodge\u001b[38;5;241m=\u001b[39m\u001b[38;5;28;01mTrue\u001b[39;00m, fliersize\u001b[38;5;241m=\u001b[39m\u001b[38;5;241m5\u001b[39m, linewidth\u001b[38;5;241m=\u001b[39m\u001b[38;5;28;01mNone\u001b[39;00m, whis\u001b[38;5;241m=\u001b[39m\u001b[38;5;241m1.5\u001b[39m, ax\u001b[38;5;241m=\u001b[39m\u001b[38;5;28;01mNone\u001b[39;00m,\n\u001b[0;32m   2228\u001b[0m     \u001b[38;5;241m*\u001b[39m\u001b[38;5;241m*\u001b[39mkwargs\n\u001b[0;32m   2229\u001b[0m ):\n\u001b[1;32m-> 2231\u001b[0m     plotter \u001b[38;5;241m=\u001b[39m _BoxPlotter(x, y, hue, data, order, hue_order,\n\u001b[0;32m   2232\u001b[0m                           orient, color, palette, saturation,\n\u001b[0;32m   2233\u001b[0m                           width, dodge, fliersize, linewidth)\n\u001b[0;32m   2235\u001b[0m     \u001b[38;5;28;01mif\u001b[39;00m ax \u001b[38;5;129;01mis\u001b[39;00m \u001b[38;5;28;01mNone\u001b[39;00m:\n\u001b[0;32m   2236\u001b[0m         ax \u001b[38;5;241m=\u001b[39m plt\u001b[38;5;241m.\u001b[39mgca()\n",
      "File \u001b[1;32m~\\anaconda3\\Lib\\site-packages\\seaborn\\categorical.py:785\u001b[0m, in \u001b[0;36m_BoxPlotter.__init__\u001b[1;34m(self, x, y, hue, data, order, hue_order, orient, color, palette, saturation, width, dodge, fliersize, linewidth)\u001b[0m\n\u001b[0;32m    781\u001b[0m \u001b[38;5;28;01mdef\u001b[39;00m \u001b[38;5;21m__init__\u001b[39m(\u001b[38;5;28mself\u001b[39m, x, y, hue, data, order, hue_order,\n\u001b[0;32m    782\u001b[0m              orient, color, palette, saturation,\n\u001b[0;32m    783\u001b[0m              width, dodge, fliersize, linewidth):\n\u001b[1;32m--> 785\u001b[0m     \u001b[38;5;28mself\u001b[39m\u001b[38;5;241m.\u001b[39mestablish_variables(x, y, hue, data, orient, order, hue_order)\n\u001b[0;32m    786\u001b[0m     \u001b[38;5;28mself\u001b[39m\u001b[38;5;241m.\u001b[39mestablish_colors(color, palette, saturation)\n\u001b[0;32m    788\u001b[0m     \u001b[38;5;28mself\u001b[39m\u001b[38;5;241m.\u001b[39mdodge \u001b[38;5;241m=\u001b[39m dodge\n",
      "File \u001b[1;32m~\\anaconda3\\Lib\\site-packages\\seaborn\\categorical.py:541\u001b[0m, in \u001b[0;36m_CategoricalPlotter.establish_variables\u001b[1;34m(self, x, y, hue, data, orient, order, hue_order, units)\u001b[0m\n\u001b[0;32m    539\u001b[0m     \u001b[38;5;28;01mif\u001b[39;00m \u001b[38;5;28misinstance\u001b[39m(var, \u001b[38;5;28mstr\u001b[39m):\n\u001b[0;32m    540\u001b[0m         err \u001b[38;5;241m=\u001b[39m \u001b[38;5;124mf\u001b[39m\u001b[38;5;124m\"\u001b[39m\u001b[38;5;124mCould not interpret input \u001b[39m\u001b[38;5;124m'\u001b[39m\u001b[38;5;132;01m{\u001b[39;00mvar\u001b[38;5;132;01m}\u001b[39;00m\u001b[38;5;124m'\u001b[39m\u001b[38;5;124m\"\u001b[39m\n\u001b[1;32m--> 541\u001b[0m         \u001b[38;5;28;01mraise\u001b[39;00m \u001b[38;5;167;01mValueError\u001b[39;00m(err)\n\u001b[0;32m    543\u001b[0m \u001b[38;5;66;03m# Figure out the plotting orientation\u001b[39;00m\n\u001b[0;32m    544\u001b[0m orient \u001b[38;5;241m=\u001b[39m infer_orient(\n\u001b[0;32m    545\u001b[0m     x, y, orient, require_numeric\u001b[38;5;241m=\u001b[39m\u001b[38;5;28mself\u001b[39m\u001b[38;5;241m.\u001b[39mrequire_numeric\n\u001b[0;32m    546\u001b[0m )\n",
      "\u001b[1;31mValueError\u001b[0m: Could not interpret input 'capital_gain'"
     ]
    }
   ],
   "source": [
    "# Your Code is Here\n",
    "\n",
    "sns.boxplot(x='capital_gain', data=df, showmeans=False);"
   ]
  },
  {
   "cell_type": "markdown",
   "metadata": {},
   "source": [
    "Desired Output:\n",
    "\n",
    "![image.png](https://i.ibb.co/6Xj1TCz/US-Citizens17.png)"
   ]
  },
  {
   "cell_type": "markdown",
   "metadata": {
    "id": "GVV5v0CzjwOW"
   },
   "source": [
    "**Check the histplot/kdeplot to see distribution of feature**"
   ]
  },
  {
   "cell_type": "code",
   "execution_count": null,
   "metadata": {},
   "outputs": [],
   "source": [
    "# Your Code is Here\n",
    "\n"
   ]
  },
  {
   "cell_type": "markdown",
   "metadata": {},
   "source": [
    "Desired Output:\n",
    "\n",
    "![image.png](https://i.ibb.co/X3nW72Q/US-Citizens18.png)"
   ]
  },
  {
   "cell_type": "markdown",
   "metadata": {
    "id": "dap9OeI-jwOW"
   },
   "source": [
    "**Check the statistical values**"
   ]
  },
  {
   "cell_type": "code",
   "execution_count": null,
   "metadata": {},
   "outputs": [],
   "source": [
    "# Your Code is Here\n",
    "\n"
   ]
  },
  {
   "cell_type": "raw",
   "metadata": {},
   "source": [
    "Desired Output:\n",
    "\n",
    "count   32537.000\n",
    "mean     1078.444\n",
    "std      7387.957\n",
    "min         0.000\n",
    "25%         0.000\n",
    "50%         0.000\n",
    "75%         0.000\n",
    "max     99999.000\n",
    "Name: capital_gain, dtype: float64"
   ]
  },
  {
   "cell_type": "markdown",
   "metadata": {
    "id": "3SWvge41jwOW"
   },
   "source": [
    "**Check the boxplot and histplot/kdeplot by \"salary\" levels**"
   ]
  },
  {
   "cell_type": "code",
   "execution_count": null,
   "metadata": {},
   "outputs": [],
   "source": [
    "# Your Code is Here\n",
    "\n"
   ]
  },
  {
   "cell_type": "markdown",
   "metadata": {},
   "source": [
    "Desired Output:\n",
    "\n",
    "![image.png](https://i.ibb.co/CM3cTgt/19.png)"
   ]
  },
  {
   "cell_type": "code",
   "execution_count": null,
   "metadata": {},
   "outputs": [],
   "source": [
    "# Your Code is Here\n",
    "\n"
   ]
  },
  {
   "cell_type": "markdown",
   "metadata": {},
   "source": [
    "Desired Output:\n",
    "\n",
    "![image.png](https://i.ibb.co/h7DKvLY/20.png)"
   ]
  },
  {
   "cell_type": "markdown",
   "metadata": {
    "id": "4WCEcxNHjwOX"
   },
   "source": [
    "**Check the statistical values by \"salary\" levels**"
   ]
  },
  {
   "cell_type": "code",
   "execution_count": null,
   "metadata": {},
   "outputs": [],
   "source": [
    "# Your Code is Here\n",
    "\n"
   ]
  },
  {
   "cell_type": "markdown",
   "metadata": {},
   "source": [
    "Desired Output:\n",
    "\n",
    "![image.png](https://i.ibb.co/mzYxTD4/21.png)"
   ]
  },
  {
   "cell_type": "markdown",
   "metadata": {
    "id": "uUU2P7HujwOX"
   },
   "source": [
    "**Check the statistical values by \"salary\" levels for capital_gain not equal the zero**"
   ]
  },
  {
   "cell_type": "code",
   "execution_count": null,
   "metadata": {},
   "outputs": [],
   "source": [
    "# Your Code is Here\n",
    "\n"
   ]
  },
  {
   "cell_type": "markdown",
   "metadata": {},
   "source": [
    "Desired Output:\n",
    "\n",
    "![image.png](https://i.ibb.co/r3mdBkK/22.png)"
   ]
  },
  {
   "cell_type": "markdown",
   "metadata": {
    "id": "oGTkUS7-jwOX"
   },
   "source": [
    "**Write down the conclusions you draw from your analysis**"
   ]
  },
  {
   "cell_type": "markdown",
   "metadata": {
    "id": "bkZ9CSZrjwOY"
   },
   "source": [
    "**Result :** ..........................."
   ]
  },
  {
   "cell_type": "markdown",
   "metadata": {
    "id": "9Xgur7CdjwOY"
   },
   "source": [
    "### capital_loss"
   ]
  },
  {
   "cell_type": "markdown",
   "metadata": {
    "id": "ronhkqMUjwOY"
   },
   "source": [
    "**Check the boxplot to see extreme values**"
   ]
  },
  {
   "cell_type": "code",
   "execution_count": null,
   "metadata": {},
   "outputs": [],
   "source": [
    "# Your Code is Here\n",
    "\n"
   ]
  },
  {
   "cell_type": "markdown",
   "metadata": {},
   "source": [
    "Desired Output:\n",
    "\n",
    "![image.png](https://i.ibb.co/Db3XHKz/23.png)"
   ]
  },
  {
   "cell_type": "markdown",
   "metadata": {
    "id": "xHU4BWzbjwOY"
   },
   "source": [
    "**Check the histplot/kdeplot to see distribution of feature**"
   ]
  },
  {
   "cell_type": "code",
   "execution_count": null,
   "metadata": {},
   "outputs": [],
   "source": [
    "# Your Code is Here\n",
    "\n"
   ]
  },
  {
   "cell_type": "markdown",
   "metadata": {},
   "source": [
    "Desired Output:\n",
    "\n",
    "![image.png](https://i.ibb.co/z7P15zX/24.png)"
   ]
  },
  {
   "cell_type": "markdown",
   "metadata": {
    "id": "I_cP71DijwOY"
   },
   "source": [
    "**Check the statistical values**"
   ]
  },
  {
   "cell_type": "code",
   "execution_count": null,
   "metadata": {},
   "outputs": [],
   "source": [
    "# Your Code is Here\n",
    "\n"
   ]
  },
  {
   "cell_type": "raw",
   "metadata": {},
   "source": [
    "Desired Output:\n",
    "\n",
    "count   32537.000\n",
    "mean       87.368\n",
    "std       403.102\n",
    "min         0.000\n",
    "25%         0.000\n",
    "50%         0.000\n",
    "75%         0.000\n",
    "max      4356.000\n",
    "Name: capital_loss, dtype: float64"
   ]
  },
  {
   "cell_type": "markdown",
   "metadata": {
    "id": "oQh80H7ejwOZ"
   },
   "source": [
    "**Check the boxplot and histplot/kdeplot by \"salary\" levels**"
   ]
  },
  {
   "cell_type": "code",
   "execution_count": null,
   "metadata": {},
   "outputs": [],
   "source": [
    "# Your Code is Here\n",
    "\n"
   ]
  },
  {
   "cell_type": "markdown",
   "metadata": {},
   "source": [
    "Desired Output:\n",
    "\n",
    "![image.png](https://i.ibb.co/Dr7Bv9V/25.png)"
   ]
  },
  {
   "cell_type": "code",
   "execution_count": null,
   "metadata": {},
   "outputs": [],
   "source": [
    "# Your Code is Here\n",
    "\n"
   ]
  },
  {
   "cell_type": "markdown",
   "metadata": {},
   "source": [
    "Desired Output:\n",
    "\n",
    "![image.png](https://i.ibb.co/4Vg5Zyy/26.png)"
   ]
  },
  {
   "cell_type": "markdown",
   "metadata": {
    "id": "nv0MQVuQjwOZ"
   },
   "source": [
    "**Check the statistical values by \"salary\" levels**"
   ]
  },
  {
   "cell_type": "code",
   "execution_count": null,
   "metadata": {},
   "outputs": [],
   "source": [
    "# Your Code is Here\n",
    "\n"
   ]
  },
  {
   "cell_type": "markdown",
   "metadata": {},
   "source": [
    "Desired Output:\n",
    "\n",
    "![image.png](https://i.ibb.co/h9DTKNW/27.png)"
   ]
  },
  {
   "cell_type": "markdown",
   "metadata": {
    "id": "PTPaQHjujwOa"
   },
   "source": [
    "**Check the statistical values by \"salary\" levels for capital_loss not equel the zero**"
   ]
  },
  {
   "cell_type": "code",
   "execution_count": null,
   "metadata": {},
   "outputs": [],
   "source": [
    "# Your Code is Here\n",
    "\n"
   ]
  },
  {
   "cell_type": "markdown",
   "metadata": {},
   "source": [
    "Desired Output:\n",
    "\n",
    "![image.png](https://i.ibb.co/gJzQvmD/28.png)"
   ]
  },
  {
   "cell_type": "markdown",
   "metadata": {
    "id": "WsXY8G85jwOa"
   },
   "source": [
    "**Write down the conclusions you draw from your analysis**"
   ]
  },
  {
   "cell_type": "markdown",
   "metadata": {
    "id": "I56huIocjwOa"
   },
   "source": [
    "**Result :** .................."
   ]
  },
  {
   "cell_type": "markdown",
   "metadata": {
    "id": "x6Q6OxR6jwOa"
   },
   "source": [
    "### hours_per_week"
   ]
  },
  {
   "cell_type": "markdown",
   "metadata": {
    "id": "XVEKpdK8jwOa"
   },
   "source": [
    "**Check the boxplot to see extreme values**"
   ]
  },
  {
   "cell_type": "code",
   "execution_count": null,
   "metadata": {},
   "outputs": [],
   "source": [
    "# Your Code is Here\n",
    "\n"
   ]
  },
  {
   "cell_type": "markdown",
   "metadata": {},
   "source": [
    "Desired Output:\n",
    "\n",
    "![image.png](https://i.ibb.co/TkNCRYY/29.png)"
   ]
  },
  {
   "cell_type": "markdown",
   "metadata": {
    "id": "6lclEo50jwOb"
   },
   "source": [
    "**Check the histplot/kdeplot to see distribution of feature**"
   ]
  },
  {
   "cell_type": "code",
   "execution_count": null,
   "metadata": {},
   "outputs": [],
   "source": [
    "# Your Code is Here\n",
    "\n"
   ]
  },
  {
   "cell_type": "markdown",
   "metadata": {},
   "source": [
    "Desired Output:\n",
    "\n",
    "![image.png](https://i.ibb.co/tsp5GXb/30.png)"
   ]
  },
  {
   "cell_type": "markdown",
   "metadata": {
    "id": "lXvtJXUhjwOb"
   },
   "source": [
    "**Check the statistical values**"
   ]
  },
  {
   "cell_type": "code",
   "execution_count": null,
   "metadata": {},
   "outputs": [],
   "source": [
    "# Your Code is Here\n",
    "\n"
   ]
  },
  {
   "cell_type": "raw",
   "metadata": {},
   "source": [
    "Desired Output:\n",
    "\n",
    "count   32537.000\n",
    "mean       40.440\n",
    "std        12.347\n",
    "min         1.000\n",
    "25%        40.000\n",
    "50%        40.000\n",
    "75%        45.000\n",
    "max        99.000\n",
    "Name: hours_per_week, dtype: float64"
   ]
  },
  {
   "cell_type": "markdown",
   "metadata": {
    "id": "HseRL6G5jwOb"
   },
   "source": [
    "**Check the boxplot and histplot/kdeplot by \"salary\" levels**"
   ]
  },
  {
   "cell_type": "code",
   "execution_count": null,
   "metadata": {},
   "outputs": [],
   "source": [
    "# Your Code is Here\n",
    "\n"
   ]
  },
  {
   "cell_type": "markdown",
   "metadata": {},
   "source": [
    "Desired Output:\n",
    "\n",
    "![image.png](https://i.ibb.co/4RhSct7/31.png)"
   ]
  },
  {
   "cell_type": "code",
   "execution_count": null,
   "metadata": {},
   "outputs": [],
   "source": [
    "# Your Code is Here\n",
    "\n"
   ]
  },
  {
   "cell_type": "markdown",
   "metadata": {},
   "source": [
    "Desired Output:\n",
    "\n",
    "![image.png](https://i.ibb.co/pbbVnMG/32.png)"
   ]
  },
  {
   "cell_type": "markdown",
   "metadata": {
    "id": "ZNgKEn8pjwOc"
   },
   "source": [
    "**Check the statistical values by \"salary\" levels**"
   ]
  },
  {
   "cell_type": "code",
   "execution_count": null,
   "metadata": {},
   "outputs": [],
   "source": [
    "# Your Code is Here\n",
    "\n"
   ]
  },
  {
   "cell_type": "markdown",
   "metadata": {},
   "source": [
    "Desired Output:\n",
    "\n",
    "![image.png](https://i.ibb.co/6NbWfzz/33.png)"
   ]
  },
  {
   "cell_type": "markdown",
   "metadata": {
    "id": "eSSyAXhmjwOc"
   },
   "source": [
    "**Write down the conclusions you draw from your analysis**"
   ]
  },
  {
   "cell_type": "markdown",
   "metadata": {
    "id": "ohMQzPJkjwOc"
   },
   "source": [
    "**Result :** ....................."
   ]
  },
  {
   "cell_type": "markdown",
   "metadata": {
    "id": "jWt2NRMNjwOd"
   },
   "source": [
    "### See the relationship between each numeric features by target feature (salary) in one plot basically"
   ]
  },
  {
   "cell_type": "code",
   "execution_count": null,
   "metadata": {},
   "outputs": [],
   "source": [
    "# Your Code is Here\n",
    "\n"
   ]
  },
  {
   "cell_type": "markdown",
   "metadata": {},
   "source": [
    "Desired Output:\n",
    "\n",
    "![image.png](https://i.ibb.co/N7Fz4hg/34.png)"
   ]
  },
  {
   "cell_type": "markdown",
   "metadata": {
    "id": "KoqL-m8HjwOd"
   },
   "source": [
    "## Categorical Features"
   ]
  },
  {
   "cell_type": "markdown",
   "metadata": {
    "id": "r2MBtjItjwOd"
   },
   "source": [
    "### education & education_num"
   ]
  },
  {
   "cell_type": "markdown",
   "metadata": {
    "id": "rBi5WgmdjwOd"
   },
   "source": [
    "**Detect the similarities between these features by comparing unique values**"
   ]
  },
  {
   "cell_type": "code",
   "execution_count": null,
   "metadata": {},
   "outputs": [],
   "source": [
    "# Your Code is Here\n",
    "\n"
   ]
  },
  {
   "cell_type": "raw",
   "metadata": {},
   "source": [
    "Desired Output:\n",
    "\n",
    "HS-grad         10494\n",
    "Some-college     7282\n",
    "Bachelors        5353\n",
    "Masters          1722\n",
    "Assoc-voc        1382\n",
    "11th             1175\n",
    "Assoc-acdm       1067\n",
    "10th              933\n",
    "7th-8th           645\n",
    "Prof-school       576\n",
    "9th               514\n",
    "12th              433\n",
    "Doctorate         413\n",
    "5th-6th           332\n",
    "1st-4th           166\n",
    "Preschool          50\n",
    "Name: education, dtype: int64"
   ]
  },
  {
   "cell_type": "code",
   "execution_count": null,
   "metadata": {},
   "outputs": [],
   "source": [
    "# Your Code is Here\n",
    "\n"
   ]
  },
  {
   "cell_type": "raw",
   "metadata": {},
   "source": [
    "Desired Output:\n",
    "\n",
    "9.000     10208\n",
    "10.000     7089\n",
    "13.000     5245\n",
    "14.000     1686\n",
    "11.000     1343\n",
    "7.000      1146\n",
    "12.000     1044\n",
    "6.000       916\n",
    "NaN         802\n",
    "4.000       630\n",
    "15.000      559\n",
    "5.000       503\n",
    "8.000       424\n",
    "16.000      405\n",
    "3.000       329\n",
    "2.000       159\n",
    "1.000        49\n",
    "Name: education_num, dtype: int64"
   ]
  },
  {
   "cell_type": "code",
   "execution_count": null,
   "metadata": {},
   "outputs": [],
   "source": [
    "# Your Code is Here\n",
    "\n"
   ]
  },
  {
   "cell_type": "raw",
   "metadata": {},
   "source": [
    "Desired Output:\n",
    "\n",
    "education     education_num\n",
    "10th          6.000              916\n",
    "              NaN                 17\n",
    "11th          7.000             1146\n",
    "              NaN                 29\n",
    "12th          8.000              424\n",
    "              NaN                  9\n",
    "1st-4th       2.000              159\n",
    "              NaN                  7\n",
    "5th-6th       3.000              329\n",
    "              NaN                  3\n",
    "7th-8th       4.000              630\n",
    "              NaN                 15\n",
    "9th           5.000              503\n",
    "              NaN                 11\n",
    "Assoc-acdm    12.000            1044\n",
    "              NaN                 23\n",
    "Assoc-voc     11.000            1343\n",
    "              NaN                 39\n",
    "Bachelors     13.000            5245\n",
    "              NaN                108\n",
    "Doctorate     16.000             405\n",
    "              NaN                  8\n",
    "HS-grad       9.000            10208\n",
    "              NaN                286\n",
    "Masters       14.000            1686\n",
    "              NaN                 36\n",
    "Preschool     1.000               49\n",
    "              NaN                  1\n",
    "Prof-school   15.000             559\n",
    "              NaN                 17\n",
    "Some-college  10.000            7089\n",
    "              NaN                193\n",
    "Name: education_num, dtype: int64"
   ]
  },
  {
   "cell_type": "markdown",
   "metadata": {
    "id": "_TBE_09QjwOe"
   },
   "source": [
    "**Visualize the count of person in each categories for these features (education, education_num) separately**"
   ]
  },
  {
   "cell_type": "code",
   "execution_count": null,
   "metadata": {},
   "outputs": [],
   "source": [
    "# Your Code is Here\n",
    "\n"
   ]
  },
  {
   "cell_type": "markdown",
   "metadata": {},
   "source": [
    "Desired Output:\n",
    "\n",
    "![image.png](https://i.ibb.co/5xc31HR/35.png)"
   ]
  },
  {
   "cell_type": "code",
   "execution_count": null,
   "metadata": {},
   "outputs": [],
   "source": [
    "# Your Code is Here\n",
    "\n"
   ]
  },
  {
   "cell_type": "markdown",
   "metadata": {},
   "source": [
    "Desired Output:\n",
    "\n",
    "![image.png](https://i.ibb.co/6HWtNN6/36.png)"
   ]
  },
  {
   "cell_type": "markdown",
   "metadata": {
    "id": "60WFA-LxjwOf"
   },
   "source": [
    "**Check the count of person in each \"salary\" levels by these features (education and education_num) separately and visualize them with countplot**"
   ]
  },
  {
   "cell_type": "code",
   "execution_count": null,
   "metadata": {},
   "outputs": [],
   "source": [
    "# Your Code is Here\n",
    "\n"
   ]
  },
  {
   "cell_type": "raw",
   "metadata": {},
   "source": [
    "Desired Output:\n",
    "\n",
    "education     salary\n",
    "10th          <=50K      871\n",
    "              >50K        62\n",
    "11th          <=50K     1115\n",
    "              >50K        60\n",
    "12th          <=50K      400\n",
    "              >50K        33\n",
    "1st-4th       <=50K      160\n",
    "              >50K         6\n",
    "5th-6th       <=50K      316\n",
    "              >50K        16\n",
    "7th-8th       <=50K      605\n",
    "              >50K        40\n",
    "9th           <=50K      487\n",
    "              >50K        27\n",
    "Assoc-acdm    <=50K      802\n",
    "              >50K       265\n",
    "Assoc-voc     <=50K     1021\n",
    "              >50K       361\n",
    "Bachelors     <=50K     3132\n",
    "              >50K      2221\n",
    "Doctorate     >50K       306\n",
    "              <=50K      107\n",
    "HS-grad       <=50K     8820\n",
    "              >50K      1674\n",
    "Masters       >50K       959\n",
    "              <=50K      763\n",
    "Preschool     <=50K       50\n",
    "Prof-school   >50K       423\n",
    "              <=50K      153\n",
    "Some-college  <=50K     5896\n",
    "              >50K      1386\n",
    "Name: salary, dtype: int64"
   ]
  },
  {
   "cell_type": "code",
   "execution_count": null,
   "metadata": {},
   "outputs": [],
   "source": [
    "# Your Code is Here\n",
    "\n"
   ]
  },
  {
   "cell_type": "markdown",
   "metadata": {},
   "source": [
    "Desired Output:\n",
    "\n",
    "![image.png](https://i.ibb.co/qxZXX1y/37.png)"
   ]
  },
  {
   "cell_type": "code",
   "execution_count": null,
   "metadata": {},
   "outputs": [],
   "source": [
    "# Your Code is Here\n",
    "\n"
   ]
  },
  {
   "cell_type": "raw",
   "metadata": {},
   "source": [
    "Desired Output:\n",
    "\n",
    "education_num  salary\n",
    "1.000          <=50K       49\n",
    "2.000          <=50K      153\n",
    "               >50K         6\n",
    "3.000          <=50K      313\n",
    "               >50K        16\n",
    "4.000          <=50K      592\n",
    "               >50K        38\n",
    "5.000          <=50K      477\n",
    "               >50K        26\n",
    "6.000          <=50K      854\n",
    "               >50K        62\n",
    "7.000          <=50K     1088\n",
    "               >50K        58\n",
    "8.000          <=50K      391\n",
    "               >50K        33\n",
    "9.000          <=50K     8579\n",
    "               >50K      1629\n",
    "10.000         <=50K     5746\n",
    "               >50K      1343\n",
    "11.000         <=50K      994\n",
    "               >50K       349\n",
    "12.000         <=50K      787\n",
    "               >50K       257\n",
    "13.000         <=50K     3078\n",
    "               >50K      2167\n",
    "14.000         >50K       935\n",
    "               <=50K      751\n",
    "15.000         >50K       410\n",
    "               <=50K      149\n",
    "16.000         >50K       302\n",
    "               <=50K      103\n",
    "Name: salary, dtype: int64"
   ]
  },
  {
   "cell_type": "code",
   "execution_count": null,
   "metadata": {},
   "outputs": [],
   "source": [
    "# Your Code is Here\n",
    "\n"
   ]
  },
  {
   "cell_type": "markdown",
   "metadata": {},
   "source": [
    "Desired Output:\n",
    "\n",
    "![image.png](https://i.ibb.co/2M0BYyk/38.png)"
   ]
  },
  {
   "cell_type": "markdown",
   "metadata": {
    "id": "u1tOfC0AjwOh"
   },
   "source": [
    "**Visualize the boxplot of \"education_num\" feature by \"salary\" levels**"
   ]
  },
  {
   "cell_type": "code",
   "execution_count": null,
   "metadata": {},
   "outputs": [],
   "source": [
    "# Your Code is Here\n",
    "\n"
   ]
  },
  {
   "cell_type": "markdown",
   "metadata": {},
   "source": [
    "Desired Output:\n",
    "\n",
    "![image.png](https://i.ibb.co/mSBNzKw/39.png)"
   ]
  },
  {
   "cell_type": "markdown",
   "metadata": {
    "id": "zSe13lNmjwOh"
   },
   "source": [
    "**Decrease the number of categories in \"education\" feature as low, medium, and high level and create a new feature with this new categorical data.**"
   ]
  },
  {
   "cell_type": "code",
   "execution_count": 66,
   "metadata": {
    "id": "ogvWXpzCjwOh"
   },
   "outputs": [],
   "source": [
    "def mapping_education(x):\n",
    "    if x in [\"Preschool\", \"1st-4th\", \"5th-6th\", \"7th-8th\", \"9th\", \"10th\", \"11th\", \"12th\"]:\n",
    "        return \"low_level_grade\"\n",
    "    elif x in [\"HS-grad\", \"Some-college\", \"Assoc-voc\", \"Assoc-acdm\"]:\n",
    "        return \"medium_level_grade\"\n",
    "    elif x in [\"Bachelors\", \"Masters\", \"Prof-school\", \"Doctorate\"]:\n",
    "        return \"high_level_grade\""
   ]
  },
  {
   "cell_type": "code",
   "execution_count": null,
   "metadata": {},
   "outputs": [],
   "source": [
    "# Your Code is Here\n",
    "\n"
   ]
  },
  {
   "cell_type": "raw",
   "metadata": {},
   "source": [
    "Desired Output:\n",
    "\n",
    "medium_level_grade    20225\n",
    "high_level_grade       8064\n",
    "low_level_grade        4248\n",
    "Name: education, dtype: int64"
   ]
  },
  {
   "cell_type": "code",
   "execution_count": null,
   "metadata": {},
   "outputs": [],
   "source": [
    "# By using \"mapping_education\" def function above, create a new column named \"education_summary\"\n",
    "# Your Code is Here\n",
    "\n"
   ]
  },
  {
   "cell_type": "markdown",
   "metadata": {
    "id": "tKtlRPugjwOi"
   },
   "source": [
    "**Visualize the count of person in each categories for these new education levels (high, medium, low)**"
   ]
  },
  {
   "cell_type": "code",
   "execution_count": null,
   "metadata": {},
   "outputs": [],
   "source": [
    "# Your Code is Here\n",
    "\n"
   ]
  },
  {
   "cell_type": "markdown",
   "metadata": {},
   "source": [
    "Desired Output:\n",
    "\n",
    "![image.png](https://i.ibb.co/cx3Dzn1/40.png)"
   ]
  },
  {
   "cell_type": "markdown",
   "metadata": {
    "id": "Hs4Zjh3vjwOj"
   },
   "source": [
    "**Check the count of person in each \"salary\" levels by these new education levels(high, medium, low) and visualize it with countplot**"
   ]
  },
  {
   "cell_type": "code",
   "execution_count": null,
   "metadata": {},
   "outputs": [],
   "source": [
    "# Your Code is Here\n",
    "\n"
   ]
  },
  {
   "cell_type": "raw",
   "metadata": {},
   "source": [
    "Desired Output:\n",
    "\n",
    "education_summary   salary\n",
    "high_level_grade    <=50K      4155\n",
    "                    >50K       3909\n",
    "low_level_grade     <=50K      4004\n",
    "                    >50K        244\n",
    "medium_level_grade  <=50K     16539\n",
    "                    >50K       3686\n",
    "Name: salary, dtype: int64"
   ]
  },
  {
   "cell_type": "code",
   "execution_count": null,
   "metadata": {},
   "outputs": [],
   "source": [
    "# Your Code is Here\n",
    "\n"
   ]
  },
  {
   "cell_type": "markdown",
   "metadata": {},
   "source": [
    "Desired Output:\n",
    "\n",
    "![image.png](https://i.ibb.co/tXk04LJ/41.png)"
   ]
  },
  {
   "cell_type": "markdown",
   "metadata": {
    "id": "67F2OAabjwOj"
   },
   "source": [
    "**Check the percentage distribution of person in each \"salary\" levels by each new education levels (high, medium, low) and visualize it with pie plot separately**"
   ]
  },
  {
   "cell_type": "code",
   "execution_count": null,
   "metadata": {},
   "outputs": [],
   "source": [
    "# Your Code is Here\n",
    "\n"
   ]
  },
  {
   "cell_type": "raw",
   "metadata": {},
   "source": [
    "Desired Output:\n",
    "\n",
    "education_summary   salary\n",
    "high_level_grade    <=50K    0.515\n",
    "                    >50K     0.485\n",
    "low_level_grade     <=50K    0.943\n",
    "                    >50K     0.057\n",
    "medium_level_grade  <=50K    0.818\n",
    "                    >50K     0.182\n",
    "Name: salary, dtype: float64"
   ]
  },
  {
   "cell_type": "code",
   "execution_count": null,
   "metadata": {},
   "outputs": [],
   "source": [
    "# Your Code is Here\n",
    "\n"
   ]
  },
  {
   "cell_type": "markdown",
   "metadata": {},
   "source": [
    "Desired Output:\n",
    "\n",
    "![image.png](https://i.ibb.co/9W6kXc6/42.png)"
   ]
  },
  {
   "cell_type": "markdown",
   "metadata": {
    "id": "b5mSBv18jwOk"
   },
   "source": [
    "**Check the count of person in each these new education levels(high, medium, low) by \"salary\" levels and visualize it with countplot**"
   ]
  },
  {
   "cell_type": "code",
   "execution_count": null,
   "metadata": {},
   "outputs": [],
   "source": [
    "# Your Code is Here\n",
    "\n"
   ]
  },
  {
   "cell_type": "raw",
   "metadata": {},
   "source": [
    "Desired Output:\n",
    "\n",
    "salary  education_summary \n",
    "<=50K   medium_level_grade    16539\n",
    "        high_level_grade       4155\n",
    "        low_level_grade        4004\n",
    ">50K    high_level_grade       3909\n",
    "        medium_level_grade     3686\n",
    "        low_level_grade         244\n",
    "Name: education_summary, dtype: int64"
   ]
  },
  {
   "cell_type": "code",
   "execution_count": null,
   "metadata": {},
   "outputs": [],
   "source": [
    "# Your Code is Here\n",
    "\n"
   ]
  },
  {
   "cell_type": "markdown",
   "metadata": {},
   "source": [
    "Desired Output:\n",
    "\n",
    "![image.png](https://i.ibb.co/K9xLxvF/43.png)"
   ]
  },
  {
   "cell_type": "markdown",
   "metadata": {
    "id": "eAj4WMoCjwOk"
   },
   "source": [
    "**Check the the percentage distribution of person in each these new education levels(high, medium, low) by \"salary\" levels and visualize it with pie plot separately**"
   ]
  },
  {
   "cell_type": "code",
   "execution_count": null,
   "metadata": {},
   "outputs": [],
   "source": [
    "# Your Code is Here\n",
    "\n"
   ]
  },
  {
   "cell_type": "raw",
   "metadata": {},
   "source": [
    "Desired Output:\n",
    "\n",
    "salary  education_summary \n",
    "<=50K   medium_level_grade   0.670\n",
    "        high_level_grade     0.168\n",
    "        low_level_grade      0.162\n",
    ">50K    high_level_grade     0.499\n",
    "        medium_level_grade   0.470\n",
    "        low_level_grade      0.031\n",
    "Name: education_summary, dtype: float64"
   ]
  },
  {
   "cell_type": "code",
   "execution_count": null,
   "metadata": {},
   "outputs": [],
   "source": [
    "# Your Code is Here\n",
    "\n"
   ]
  },
  {
   "cell_type": "markdown",
   "metadata": {},
   "source": [
    "Desired Output:\n",
    "\n",
    "![image.png](https://i.ibb.co/42pnNPc/44.png)"
   ]
  },
  {
   "cell_type": "code",
   "execution_count": null,
   "metadata": {},
   "outputs": [],
   "source": [
    "# Your Code is Here\n",
    "\n"
   ]
  },
  {
   "cell_type": "markdown",
   "metadata": {},
   "source": [
    "Desired Output:\n",
    "\n",
    "![image.png](https://i.ibb.co/jHYrhz8/45.png)"
   ]
  },
  {
   "cell_type": "code",
   "execution_count": null,
   "metadata": {},
   "outputs": [],
   "source": [
    "# Your Code is Here\n",
    "\n"
   ]
  },
  {
   "cell_type": "markdown",
   "metadata": {},
   "source": [
    "Desired Output:\n",
    "\n",
    "![image.png](https://i.ibb.co/5BnYV6h/46.png)"
   ]
  },
  {
   "cell_type": "markdown",
   "metadata": {
    "id": "w94EfDfXjwOq"
   },
   "source": [
    "**Write down the conclusions you draw from your analysis**"
   ]
  },
  {
   "cell_type": "markdown",
   "metadata": {
    "id": "I0rff9v4jwOr"
   },
   "source": [
    "**Result :** ......................"
   ]
  },
  {
   "cell_type": "markdown",
   "metadata": {
    "id": "vqWCeRBujwOr"
   },
   "source": [
    "### marital_status & relationship"
   ]
  },
  {
   "cell_type": "markdown",
   "metadata": {
    "id": "IBrIsEoDjwOr"
   },
   "source": [
    "**Detect the similarities between these features by comparing unique values**"
   ]
  },
  {
   "cell_type": "code",
   "execution_count": null,
   "metadata": {},
   "outputs": [],
   "source": [
    "# Your Code is Here\n",
    "\n"
   ]
  },
  {
   "cell_type": "raw",
   "metadata": {},
   "source": [
    "Desired Output:\n",
    "\n",
    "Married-civ-spouse       14970\n",
    "Never-married            10667\n",
    "Divorced                  4441\n",
    "Separated                 1025\n",
    "Widowed                    993\n",
    "Married-spouse-absent      418\n",
    "Married-AF-spouse           23\n",
    "Name: marital_status, dtype: int64"
   ]
  },
  {
   "cell_type": "code",
   "execution_count": null,
   "metadata": {},
   "outputs": [],
   "source": [
    "# Your Code is Here\n",
    "\n"
   ]
  },
  {
   "cell_type": "raw",
   "metadata": {},
   "source": [
    "Desired Output:\n",
    "\n",
    "Husband           13187\n",
    "Not-in-family      8292\n",
    "NaN                5064\n",
    "Unmarried          3445\n",
    "Wife               1568\n",
    "Other-relative      981\n",
    "Name: relationship, dtype: int64"
   ]
  },
  {
   "cell_type": "code",
   "execution_count": null,
   "metadata": {},
   "outputs": [],
   "source": [
    "# Fill missing values with \"Unknown\" in the column of \"relationship\"\n",
    "\n",
    "# Your Code is Here\n",
    "\n"
   ]
  },
  {
   "cell_type": "code",
   "execution_count": null,
   "metadata": {},
   "outputs": [],
   "source": [
    "# Your Code is Here\n",
    "\n"
   ]
  },
  {
   "cell_type": "raw",
   "metadata": {},
   "source": [
    "Desired Output:\n",
    "\n",
    "relationship    marital_status       \n",
    "Husband         Married-civ-spouse       13178\n",
    "                Married-AF-spouse            9\n",
    "Not-in-family   Never-married             4694\n",
    "                Divorced                  2403\n",
    "                Widowed                    547\n",
    "                Separated                  420\n",
    "                Married-spouse-absent      211\n",
    "                Married-civ-spouse          17\n",
    "Other-relative  Never-married              611\n",
    "                Married-civ-spouse         124\n",
    "                Divorced                   110\n",
    "                Separated                   55\n",
    "                Widowed                     48\n",
    "                Married-spouse-absent       32\n",
    "                Married-AF-spouse            1\n",
    "Unknown         Never-married             4481\n",
    "                Divorced                   328\n",
    "                Separated                   99\n",
    "                Married-civ-spouse          95\n",
    "                Married-spouse-absent       45\n",
    "                Widowed                     15\n",
    "                Married-AF-spouse            1\n",
    "Unmarried       Divorced                  1600\n",
    "                Never-married              881\n",
    "                Separated                  451\n",
    "                Widowed                    383\n",
    "                Married-spouse-absent      130\n",
    "Wife            Married-civ-spouse        1556\n",
    "                Married-AF-spouse           12\n",
    "Name: marital_status, dtype: int64"
   ]
  },
  {
   "cell_type": "markdown",
   "metadata": {
    "id": "yPM-OiBhjwOs"
   },
   "source": [
    "**Assessment :** ........"
   ]
  },
  {
   "cell_type": "markdown",
   "metadata": {
    "id": "K6riSLdzjwOs"
   },
   "source": [
    "**Visualize the count of person in each categories**"
   ]
  },
  {
   "cell_type": "code",
   "execution_count": null,
   "metadata": {},
   "outputs": [],
   "source": [
    "# Your Code is Here\n",
    "\n"
   ]
  },
  {
   "cell_type": "markdown",
   "metadata": {},
   "source": [
    "Desired Output:\n",
    "\n",
    "![image.png](https://i.ibb.co/1RNHVvj/47.png)"
   ]
  },
  {
   "cell_type": "markdown",
   "metadata": {
    "id": "7bcL3vvOjwOs"
   },
   "source": [
    "**Check the count of person in each \"salary\" levels by categories and visualize it with countplot**"
   ]
  },
  {
   "cell_type": "code",
   "execution_count": null,
   "metadata": {},
   "outputs": [],
   "source": [
    "# Your Code is Here\n",
    "\n"
   ]
  },
  {
   "cell_type": "raw",
   "metadata": {},
   "source": [
    "Desired Output:\n",
    "\n",
    "marital_status         salary\n",
    "Divorced               <=50K      3978\n",
    "                       >50K        463\n",
    "Married-AF-spouse      <=50K        13\n",
    "                       >50K         10\n",
    "Married-civ-spouse     <=50K      8280\n",
    "                       >50K       6690\n",
    "Married-spouse-absent  <=50K       384\n",
    "                       >50K         34\n",
    "Never-married          <=50K     10176\n",
    "                       >50K        491\n",
    "Separated              <=50K       959\n",
    "                       >50K         66\n",
    "Widowed                <=50K       908\n",
    "                       >50K         85\n",
    "Name: salary, dtype: int64"
   ]
  },
  {
   "cell_type": "code",
   "execution_count": null,
   "metadata": {},
   "outputs": [],
   "source": [
    "# Your Code is Here\n",
    "\n"
   ]
  },
  {
   "cell_type": "markdown",
   "metadata": {},
   "source": [
    "Desired Output:\n",
    "\n",
    "![image.png](https://i.ibb.co/qjNhW9h/48.png)"
   ]
  },
  {
   "cell_type": "markdown",
   "metadata": {
    "id": "AaZb50BZjwOt"
   },
   "source": [
    "**Decrease the number of categories in \"marital_status\" feature as married, and unmarried and create a new feature with this new categorical data**"
   ]
  },
  {
   "cell_type": "code",
   "execution_count": 87,
   "metadata": {
    "id": "J-Pqmh3ljwOt"
   },
   "outputs": [],
   "source": [
    "def mapping_marital_status(x):\n",
    "    if x in [\"Never-married\", \"Divorced\", \"Separated\", \"Widowed\"]:\n",
    "        return \"unmarried\"\n",
    "    elif x in [\"Married-civ-spouse\", \"Married-AF-spouse\", \"Married-spouse-absent\"]:\n",
    "        return \"married\""
   ]
  },
  {
   "cell_type": "code",
   "execution_count": null,
   "metadata": {},
   "outputs": [],
   "source": [
    "# Your Code is Here\n",
    "\n"
   ]
  },
  {
   "cell_type": "raw",
   "metadata": {},
   "source": [
    "Desired Output:\n",
    "\n",
    "unmarried    17126\n",
    "married      15411\n",
    "Name: marital_status, dtype: int64"
   ]
  },
  {
   "cell_type": "code",
   "execution_count": null,
   "metadata": {},
   "outputs": [],
   "source": [
    "# By using \"mapping_marital_status\" def function above, create a new column named \"marital_status_summary\"\n",
    "\n",
    "# Your Code is Here\n",
    "\n"
   ]
  },
  {
   "cell_type": "markdown",
   "metadata": {
    "id": "ia-VhumAjwOu"
   },
   "source": [
    "**Visualize the count of person in each categories for these new marital status (married, unmarried)**"
   ]
  },
  {
   "cell_type": "code",
   "execution_count": null,
   "metadata": {},
   "outputs": [],
   "source": [
    "# Your Code is Here\n",
    "\n"
   ]
  },
  {
   "cell_type": "markdown",
   "metadata": {},
   "source": [
    "Desired Output:\n",
    "\n",
    "![image.png](https://i.ibb.co/wRjj6Bx/49.png)"
   ]
  },
  {
   "cell_type": "markdown",
   "metadata": {
    "id": "ibWKNY8vjwOu"
   },
   "source": [
    "**Check the count of person in each \"salary\" levels by these new marital status (married, unmarried) and visualize it with countplot**"
   ]
  },
  {
   "cell_type": "code",
   "execution_count": null,
   "metadata": {},
   "outputs": [],
   "source": [
    "# Your Code is Here\n",
    "\n"
   ]
  },
  {
   "cell_type": "raw",
   "metadata": {},
   "source": [
    "Desired Output:\n",
    "\n",
    "marital_status_summary  salary\n",
    "married                 <=50K      8677\n",
    "                        >50K       6734\n",
    "unmarried               <=50K     16021\n",
    "                        >50K       1105\n",
    "Name: salary, dtype: int64"
   ]
  },
  {
   "cell_type": "code",
   "execution_count": null,
   "metadata": {},
   "outputs": [],
   "source": [
    "# Your Code is Here\n",
    "\n"
   ]
  },
  {
   "cell_type": "markdown",
   "metadata": {},
   "source": [
    "Desired Output:\n",
    "\n",
    "![image.png](https://i.ibb.co/0JtYnFb/50.png)"
   ]
  },
  {
   "cell_type": "markdown",
   "metadata": {
    "id": "jN44FLRhjwOu"
   },
   "source": [
    "**Check the percentage distribution of person in each \"salary\" levels by each new marital status (married, unmarried) and visualize it with pie plot separately**"
   ]
  },
  {
   "cell_type": "code",
   "execution_count": null,
   "metadata": {},
   "outputs": [],
   "source": [
    "# Your Code is Here\n",
    "\n"
   ]
  },
  {
   "cell_type": "raw",
   "metadata": {},
   "source": [
    "Desired Output:\n",
    "\n",
    "marital_status_summary  salary\n",
    "married                 <=50K    0.563\n",
    "                        >50K     0.437\n",
    "unmarried               <=50K    0.935\n",
    "                        >50K     0.065\n",
    "Name: salary, dtype: float64"
   ]
  },
  {
   "cell_type": "code",
   "execution_count": null,
   "metadata": {},
   "outputs": [],
   "source": [
    "# Your Code is Here\n",
    "\n"
   ]
  },
  {
   "cell_type": "markdown",
   "metadata": {},
   "source": [
    "Desired Output:\n",
    "\n",
    "![image.png](https://i.ibb.co/TYxT5Zz/51.png)"
   ]
  },
  {
   "cell_type": "markdown",
   "metadata": {
    "id": "fIzvS7m4jwOv"
   },
   "source": [
    "**Check the count of person in each these new marital status (married, unmarried) by \"salary\" levels and visualize it with countplot**"
   ]
  },
  {
   "cell_type": "code",
   "execution_count": null,
   "metadata": {},
   "outputs": [],
   "source": [
    "# Your Code is Here\n",
    "\n"
   ]
  },
  {
   "cell_type": "raw",
   "metadata": {},
   "source": [
    "Desired Output:\n",
    "\n",
    "salary  marital_status_summary\n",
    "<=50K   unmarried                 16021\n",
    "        married                    8677\n",
    ">50K    married                    6734\n",
    "        unmarried                  1105\n",
    "Name: marital_status_summary, dtype: int64"
   ]
  },
  {
   "cell_type": "code",
   "execution_count": null,
   "metadata": {},
   "outputs": [],
   "source": [
    "# Your Code is Here\n",
    "\n"
   ]
  },
  {
   "cell_type": "markdown",
   "metadata": {},
   "source": [
    "Desired Output:\n",
    "\n",
    "![image.png](https://i.ibb.co/YWjjsZP/52.png)"
   ]
  },
  {
   "cell_type": "markdown",
   "metadata": {
    "id": "QmCK3AwHjwOw"
   },
   "source": [
    "**Check the the percentage distribution of person in each these new marital status (married, unmarried) by \"salary\" levels and visualize it with pie plot separately**"
   ]
  },
  {
   "cell_type": "code",
   "execution_count": null,
   "metadata": {},
   "outputs": [],
   "source": [
    "# Your Code is Here\n",
    "\n"
   ]
  },
  {
   "cell_type": "raw",
   "metadata": {},
   "source": [
    "Desired Output:\n",
    "\n",
    "salary  marital_status_summary\n",
    "<=50K   unmarried                0.649\n",
    "        married                  0.351\n",
    ">50K    married                  0.859\n",
    "        unmarried                0.141\n",
    "Name: marital_status_summary, dtype: float64"
   ]
  },
  {
   "cell_type": "code",
   "execution_count": null,
   "metadata": {},
   "outputs": [],
   "source": [
    "# Your Code is Here\n",
    "\n"
   ]
  },
  {
   "cell_type": "markdown",
   "metadata": {},
   "source": [
    "Desired Output:\n",
    "\n",
    "![image.png](https://i.ibb.co/Swb4rb7/v53.png)"
   ]
  },
  {
   "cell_type": "code",
   "execution_count": null,
   "metadata": {},
   "outputs": [],
   "source": [
    "# Your Code is Here\n",
    "\n"
   ]
  },
  {
   "cell_type": "markdown",
   "metadata": {},
   "source": [
    "Desired Output:\n",
    "\n",
    "![image.png](https://i.ibb.co/cJxmqwG/54.png)"
   ]
  },
  {
   "cell_type": "markdown",
   "metadata": {
    "id": "btsOpWP4jwOw"
   },
   "source": [
    "**Write down the conclusions you draw from your analysis**"
   ]
  },
  {
   "cell_type": "markdown",
   "metadata": {
    "id": "AyKIsXirjwOw"
   },
   "source": [
    "**Result :** ................."
   ]
  },
  {
   "cell_type": "markdown",
   "metadata": {
    "id": "ZjfFoHZTjwOx"
   },
   "source": [
    "### workclass"
   ]
  },
  {
   "cell_type": "markdown",
   "metadata": {
    "id": "76aQfVejjwOx"
   },
   "source": [
    "**Check the count of person in each categories and visualize it with countplot**"
   ]
  },
  {
   "cell_type": "code",
   "execution_count": null,
   "metadata": {},
   "outputs": [],
   "source": [
    "# Your Code is Here\n",
    "\n"
   ]
  },
  {
   "cell_type": "raw",
   "metadata": {},
   "source": [
    "Desired Output:\n",
    "\n",
    "Private             22673\n",
    "Self-emp-not-inc     2540\n",
    "Local-gov            2093\n",
    "?                    1836\n",
    "State-gov            1298\n",
    "Self-emp-inc         1116\n",
    "Federal-gov           960\n",
    "Without-pay            14\n",
    "Never-worked            7\n",
    "Name: workclass, dtype: int64"
   ]
  },
  {
   "cell_type": "code",
   "execution_count": null,
   "metadata": {},
   "outputs": [],
   "source": [
    "# Your Code is Here\n",
    "\n"
   ]
  },
  {
   "cell_type": "markdown",
   "metadata": {},
   "source": [
    "Desired Output:\n",
    "\n",
    "![image.png](https://i.ibb.co/NmKTp84/55.png)"
   ]
  },
  {
   "cell_type": "markdown",
   "metadata": {
    "id": "G38jfGGLjwOx"
   },
   "source": [
    "**Replace the value \"?\" to the value \"Unknown\"** "
   ]
  },
  {
   "cell_type": "code",
   "execution_count": null,
   "metadata": {},
   "outputs": [],
   "source": [
    "# Replace \"?\" values with \"Unkown\"\n",
    "\n",
    "# Your Code is Here\n",
    "\n"
   ]
  },
  {
   "cell_type": "markdown",
   "metadata": {
    "id": "MQ8i-iX5jwOy"
   },
   "source": [
    "**Check the count of person in each \"salary\" levels by workclass groups and visualize it with countplot**"
   ]
  },
  {
   "cell_type": "code",
   "execution_count": null,
   "metadata": {},
   "outputs": [],
   "source": [
    "# Your Code is Here\n",
    "\n"
   ]
  },
  {
   "cell_type": "raw",
   "metadata": {},
   "source": [
    "Desired Output:\n",
    "\n",
    "workclass         salary\n",
    "Federal-gov       <=50K       589\n",
    "                  >50K        371\n",
    "Local-gov         <=50K      1476\n",
    "                  >50K        617\n",
    "Never-worked      <=50K         7\n",
    "Private           <=50K     17712\n",
    "                  >50K       4961\n",
    "Self-emp-inc      >50K        622\n",
    "                  <=50K       494\n",
    "Self-emp-not-inc  <=50K      1816\n",
    "                  >50K        724\n",
    "State-gov         <=50K       945\n",
    "                  >50K        353\n",
    "Unknown           <=50K      1645\n",
    "                  >50K        191\n",
    "Without-pay       <=50K        14\n",
    "Name: salary, dtype: int64"
   ]
  },
  {
   "cell_type": "code",
   "execution_count": null,
   "metadata": {},
   "outputs": [],
   "source": [
    "# Your Code is Here\n",
    "\n"
   ]
  },
  {
   "cell_type": "markdown",
   "metadata": {},
   "source": [
    "Desired Output:\n",
    "\n",
    "![image.png](https://i.ibb.co/bPnNvsn/56.png)"
   ]
  },
  {
   "cell_type": "markdown",
   "metadata": {
    "id": "6Fk8gfvtjwOz"
   },
   "source": [
    "**Check the percentage distribution of person in each \"salary\" levels by each workclass groups and visualize it with bar plot**"
   ]
  },
  {
   "cell_type": "code",
   "execution_count": null,
   "metadata": {},
   "outputs": [],
   "source": [
    "# Your Code is Here\n",
    "\n"
   ]
  },
  {
   "cell_type": "raw",
   "metadata": {},
   "source": [
    "Desired Output:\n",
    "\n",
    "workclass         salary\n",
    "Federal-gov       <=50K    0.614\n",
    "                  >50K     0.386\n",
    "Local-gov         <=50K    0.705\n",
    "                  >50K     0.295\n",
    "Never-worked      <=50K    1.000\n",
    "Private           <=50K    0.781\n",
    "                  >50K     0.219\n",
    "Self-emp-inc      >50K     0.557\n",
    "                  <=50K    0.443\n",
    "Self-emp-not-inc  <=50K    0.715\n",
    "                  >50K     0.285\n",
    "State-gov         <=50K    0.728\n",
    "                  >50K     0.272\n",
    "Unknown           <=50K    0.896\n",
    "                  >50K     0.104\n",
    "Without-pay       <=50K    1.000\n",
    "Name: salary, dtype: float64"
   ]
  },
  {
   "cell_type": "code",
   "execution_count": null,
   "metadata": {},
   "outputs": [],
   "source": [
    "# Your Code is Here\n",
    "\n"
   ]
  },
  {
   "cell_type": "markdown",
   "metadata": {},
   "source": [
    "Desired Output:\n",
    "\n",
    "![image.png](https://i.ibb.co/8YvM14M/57.png)"
   ]
  },
  {
   "cell_type": "code",
   "execution_count": null,
   "metadata": {},
   "outputs": [],
   "source": [
    "# Your Code is Here\n",
    "\n"
   ]
  },
  {
   "cell_type": "markdown",
   "metadata": {},
   "source": [
    "Desired Output:\n",
    "\n",
    "![image.png](https://i.ibb.co/NFN5q04/58.png)"
   ]
  },
  {
   "cell_type": "markdown",
   "metadata": {
    "id": "RL8LYvpqjwO0"
   },
   "source": [
    "**Check the count of person in each workclass groups by \"salary\" levels and visualize it with countplot**"
   ]
  },
  {
   "cell_type": "code",
   "execution_count": null,
   "metadata": {},
   "outputs": [],
   "source": [
    "# Your Code is Here\n",
    "\n"
   ]
  },
  {
   "cell_type": "raw",
   "metadata": {},
   "source": [
    "Desired Output:\n",
    "\n",
    "salary  workclass       \n",
    "<=50K   Private             17712\n",
    "        Self-emp-not-inc     1816\n",
    "        Unknown              1645\n",
    "        Local-gov            1476\n",
    "        State-gov             945\n",
    "        Federal-gov           589\n",
    "        Self-emp-inc          494\n",
    "        Without-pay            14\n",
    "        Never-worked            7\n",
    ">50K    Private              4961\n",
    "        Self-emp-not-inc      724\n",
    "        Self-emp-inc          622\n",
    "        Local-gov             617\n",
    "        Federal-gov           371\n",
    "        State-gov             353\n",
    "        Unknown               191\n",
    "Name: workclass, dtype: int64"
   ]
  },
  {
   "cell_type": "code",
   "execution_count": null,
   "metadata": {},
   "outputs": [],
   "source": [
    "# Your Code is Here\n",
    "\n"
   ]
  },
  {
   "cell_type": "markdown",
   "metadata": {},
   "source": [
    "Desired Output:\n",
    "\n",
    "![image.png](https://i.ibb.co/98V8zkN/59.png)"
   ]
  },
  {
   "cell_type": "markdown",
   "metadata": {
    "id": "oGkqNFeyjwO1"
   },
   "source": [
    "**Check the the percentage distribution of person in each workclass groups by \"salary\" levels and visualize it with countplot**"
   ]
  },
  {
   "cell_type": "code",
   "execution_count": null,
   "metadata": {},
   "outputs": [],
   "source": [
    "# Your Code is Here\n",
    "\n"
   ]
  },
  {
   "cell_type": "raw",
   "metadata": {},
   "source": [
    "Desired Output:\n",
    "\n",
    "salary  workclass       \n",
    "<=50K   Private            0.717\n",
    "        Self-emp-not-inc   0.074\n",
    "        Unknown            0.067\n",
    "        Local-gov          0.060\n",
    "        State-gov          0.038\n",
    "        Federal-gov        0.024\n",
    "        Self-emp-inc       0.020\n",
    "        Without-pay        0.001\n",
    "        Never-worked       0.000\n",
    ">50K    Private            0.633\n",
    "        Self-emp-not-inc   0.092\n",
    "        Self-emp-inc       0.079\n",
    "        Local-gov          0.079\n",
    "        Federal-gov        0.047\n",
    "        State-gov          0.045\n",
    "        Unknown            0.024\n",
    "Name: workclass, dtype: float64"
   ]
  },
  {
   "cell_type": "code",
   "execution_count": null,
   "metadata": {},
   "outputs": [],
   "source": [
    "# Your Code is Here\n",
    "\n"
   ]
  },
  {
   "cell_type": "markdown",
   "metadata": {},
   "source": [
    "Desired Output:\n",
    "\n",
    "![image.png](https://i.ibb.co/QcdnXpk/60.png)"
   ]
  },
  {
   "cell_type": "code",
   "execution_count": null,
   "metadata": {},
   "outputs": [],
   "source": [
    "# Your Code is Here\n",
    "\n"
   ]
  },
  {
   "cell_type": "markdown",
   "metadata": {},
   "source": [
    "Desired Output:\n",
    "\n",
    "![image.png](https://i.ibb.co/Kz5BDBj/61.png)"
   ]
  },
  {
   "cell_type": "markdown",
   "metadata": {
    "id": "D9bZC4XKjwO2"
   },
   "source": [
    "**Write down the conclusions you draw from your analysis**"
   ]
  },
  {
   "cell_type": "markdown",
   "metadata": {
    "id": "KmOli0qJjwO2"
   },
   "source": [
    "**Result :** .................."
   ]
  },
  {
   "cell_type": "markdown",
   "metadata": {
    "id": "KxHaqS4mjwO2"
   },
   "source": [
    "### occupation"
   ]
  },
  {
   "cell_type": "markdown",
   "metadata": {
    "id": "YYdf-ElmjwO2"
   },
   "source": [
    "**Check the count of person in each categories and visualize it with countplot**"
   ]
  },
  {
   "cell_type": "code",
   "execution_count": null,
   "metadata": {},
   "outputs": [],
   "source": [
    "# Your Code is Here\n",
    "\n"
   ]
  },
  {
   "cell_type": "raw",
   "metadata": {},
   "source": [
    "Desired Output:\n",
    "\n",
    "Prof-specialty       4136\n",
    "Craft-repair         4094\n",
    "Exec-managerial      4065\n",
    "Adm-clerical         3768\n",
    "Sales                3650\n",
    "Other-service        3291\n",
    "Machine-op-inspct    2000\n",
    "?                    1843\n",
    "Transport-moving     1597\n",
    "Handlers-cleaners    1369\n",
    "Farming-fishing       992\n",
    "Tech-support          927\n",
    "Protective-serv       649\n",
    "Priv-house-serv       147\n",
    "Armed-Forces            9\n",
    "Name: occupation, dtype: int64"
   ]
  },
  {
   "cell_type": "code",
   "execution_count": null,
   "metadata": {},
   "outputs": [],
   "source": [
    "# Your Code is Here\n",
    "\n"
   ]
  },
  {
   "cell_type": "markdown",
   "metadata": {},
   "source": [
    "Desired Output:\n",
    "\n",
    "![image.png](https://i.ibb.co/F3qqLjS/62.png)"
   ]
  },
  {
   "cell_type": "markdown",
   "metadata": {
    "id": "dMs4D0nWjwO3"
   },
   "source": [
    "**Replace the value \"?\" to the value \"Unknown\"**"
   ]
  },
  {
   "cell_type": "code",
   "execution_count": null,
   "metadata": {},
   "outputs": [],
   "source": [
    "# Replace \"?\" values with \"Unknown\"\n",
    "\n",
    "# Your Code is Here\n",
    "\n"
   ]
  },
  {
   "cell_type": "markdown",
   "metadata": {
    "id": "TUN8tSr3jwO3"
   },
   "source": [
    "**Check the count of person in each \"salary\" levels by occupation groups and visualize it with countplot**"
   ]
  },
  {
   "cell_type": "code",
   "execution_count": null,
   "metadata": {},
   "outputs": [],
   "source": [
    "# Your Code is Here\n",
    "\n"
   ]
  },
  {
   "cell_type": "raw",
   "metadata": {},
   "source": [
    "Desired Output:\n",
    "\n",
    "occupation         salary\n",
    "Adm-clerical       <=50K     3261\n",
    "                   >50K       507\n",
    "Armed-Forces       <=50K        8\n",
    "                   >50K         1\n",
    "Craft-repair       <=50K     3165\n",
    "                   >50K       929\n",
    "Exec-managerial    <=50K     2097\n",
    "                   >50K      1968\n",
    "Farming-fishing    <=50K      877\n",
    "                   >50K       115\n",
    "Handlers-cleaners  <=50K     1283\n",
    "                   >50K        86\n",
    "Machine-op-inspct  <=50K     1751\n",
    "                   >50K       249\n",
    "Other-service      <=50K     3154\n",
    "                   >50K       137\n",
    "Priv-house-serv    <=50K      146\n",
    "                   >50K         1\n",
    "Prof-specialty     <=50K     2278\n",
    "                   >50K      1858\n",
    "Protective-serv    <=50K      438\n",
    "                   >50K       211\n",
    "Sales              <=50K     2667\n",
    "                   >50K       983\n",
    "Tech-support       <=50K      644\n",
    "                   >50K       283\n",
    "Transport-moving   <=50K     1277\n",
    "                   >50K       320\n",
    "Unknown            <=50K     1652\n",
    "                   >50K       191\n",
    "Name: salary, dtype: int64"
   ]
  },
  {
   "cell_type": "code",
   "execution_count": null,
   "metadata": {},
   "outputs": [],
   "source": [
    "# Your Code is Here\n",
    "\n"
   ]
  },
  {
   "cell_type": "markdown",
   "metadata": {},
   "source": [
    "Desired Output:\n",
    "\n",
    "![image.png](https://i.ibb.co/RhkhQCW/63.png)"
   ]
  },
  {
   "cell_type": "markdown",
   "metadata": {
    "id": "_rBEm99IjwO3"
   },
   "source": [
    "**Check the percentage distribution of person in each \"salary\" levels by each occupation groups and visualize it with bar plot**"
   ]
  },
  {
   "cell_type": "code",
   "execution_count": null,
   "metadata": {},
   "outputs": [],
   "source": [
    "# Your Code is Here\n",
    "\n"
   ]
  },
  {
   "cell_type": "raw",
   "metadata": {},
   "source": [
    "Desired Output:\n",
    "\n",
    "occupation         salary\n",
    "Adm-clerical       <=50K    0.865\n",
    "                   >50K     0.135\n",
    "Armed-Forces       <=50K    0.889\n",
    "                   >50K     0.111\n",
    "Craft-repair       <=50K    0.773\n",
    "                   >50K     0.227\n",
    "Exec-managerial    <=50K    0.516\n",
    "                   >50K     0.484\n",
    "Farming-fishing    <=50K    0.884\n",
    "                   >50K     0.116\n",
    "Handlers-cleaners  <=50K    0.937\n",
    "                   >50K     0.063\n",
    "Machine-op-inspct  <=50K    0.875\n",
    "                   >50K     0.124\n",
    "Other-service      <=50K    0.958\n",
    "                   >50K     0.042\n",
    "Priv-house-serv    <=50K    0.993\n",
    "                   >50K     0.007\n",
    "Prof-specialty     <=50K    0.551\n",
    "                   >50K     0.449\n",
    "Protective-serv    <=50K    0.675\n",
    "                   >50K     0.325\n",
    "Sales              <=50K    0.731\n",
    "                   >50K     0.269\n",
    "Tech-support       <=50K    0.695\n",
    "                   >50K     0.305\n",
    "Transport-moving   <=50K    0.800\n",
    "                   >50K     0.200\n",
    "Unknown            <=50K    0.896\n",
    "                   >50K     0.104\n",
    "Name: salary, dtype: float64"
   ]
  },
  {
   "cell_type": "code",
   "execution_count": null,
   "metadata": {},
   "outputs": [],
   "source": [
    "# Your Code is Here\n",
    "\n"
   ]
  },
  {
   "cell_type": "markdown",
   "metadata": {},
   "source": [
    "Desired Output:\n",
    "\n",
    "![image.png](https://i.ibb.co/mb7JS3n/64.png)"
   ]
  },
  {
   "cell_type": "code",
   "execution_count": null,
   "metadata": {},
   "outputs": [],
   "source": [
    "# Your Code is Here\n",
    "\n"
   ]
  },
  {
   "cell_type": "markdown",
   "metadata": {},
   "source": [
    "Desired Output:\n",
    "\n",
    "![image.png](https://i.ibb.co/sW2b8wL/65.png)"
   ]
  },
  {
   "cell_type": "markdown",
   "metadata": {
    "id": "7t8zCRj6jwO4"
   },
   "source": [
    "**Check the count of person in each occupation groups by \"salary\" levels and visualize it with countplot**"
   ]
  },
  {
   "cell_type": "code",
   "execution_count": null,
   "metadata": {},
   "outputs": [],
   "source": [
    "# Your Code is Here\n",
    "\n"
   ]
  },
  {
   "cell_type": "raw",
   "metadata": {},
   "source": [
    "Desired Output:\n",
    "\n",
    "salary  occupation       \n",
    "<=50K   Adm-clerical         3261\n",
    "        Craft-repair         3165\n",
    "        Other-service        3154\n",
    "        Sales                2667\n",
    "        Prof-specialty       2278\n",
    "        Exec-managerial      2097\n",
    "        Machine-op-inspct    1751\n",
    "        Unknown              1652\n",
    "        Handlers-cleaners    1283\n",
    "        Transport-moving     1277\n",
    "        Farming-fishing       877\n",
    "        Tech-support          644\n",
    "        Protective-serv       438\n",
    "        Priv-house-serv       146\n",
    "        Armed-Forces            8\n",
    ">50K    Exec-managerial      1968\n",
    "        Prof-specialty       1858\n",
    "        Sales                 983\n",
    "        Craft-repair          929\n",
    "        Adm-clerical          507\n",
    "        Transport-moving      320\n",
    "        Tech-support          283\n",
    "        Machine-op-inspct     249\n",
    "        Protective-serv       211\n",
    "        Unknown               191\n",
    "        Other-service         137\n",
    "        Farming-fishing       115\n",
    "        Handlers-cleaners      86\n",
    "        Armed-Forces            1\n",
    "        Priv-house-serv         1\n",
    "Name: occupation, dtype: int64"
   ]
  },
  {
   "cell_type": "code",
   "execution_count": null,
   "metadata": {},
   "outputs": [],
   "source": [
    "# Your Code is Here\n",
    "\n"
   ]
  },
  {
   "cell_type": "markdown",
   "metadata": {},
   "source": [
    "Desired Output:\n",
    "\n",
    "![image.png](https://i.ibb.co/cvHS3FH/66.png)"
   ]
  },
  {
   "cell_type": "markdown",
   "metadata": {
    "id": "4CQDBKHWjwO5"
   },
   "source": [
    "**Check the the percentage distribution of person in each occupation groups by \"salary\" levels and visualize it with bar plot**"
   ]
  },
  {
   "cell_type": "code",
   "execution_count": null,
   "metadata": {},
   "outputs": [],
   "source": [
    "# Your Code is Here\n",
    "\n"
   ]
  },
  {
   "cell_type": "raw",
   "metadata": {},
   "source": [
    "Desired Output:\n",
    "\n",
    "salary  occupation       \n",
    "<=50K   Adm-clerical        0.132\n",
    "        Craft-repair        0.128\n",
    "        Other-service       0.128\n",
    "        Sales               0.108\n",
    "        Prof-specialty      0.092\n",
    "        Exec-managerial     0.085\n",
    "        Machine-op-inspct   0.071\n",
    "        Unknown             0.067\n",
    "        Handlers-cleaners   0.052\n",
    "        Transport-moving    0.052\n",
    "        Farming-fishing     0.036\n",
    "        Tech-support        0.026\n",
    "        Protective-serv     0.018\n",
    "        Priv-house-serv     0.006\n",
    "        Armed-Forces        0.000\n",
    ">50K    Exec-managerial     0.251\n",
    "        Prof-specialty      0.237\n",
    "        Sales               0.125\n",
    "        Craft-repair        0.119\n",
    "        Adm-clerical        0.065\n",
    "        Transport-moving    0.041\n",
    "        Tech-support        0.036\n",
    "        Machine-op-inspct   0.032\n",
    "        Protective-serv     0.027\n",
    "        Unknown             0.024\n",
    "        Other-service       0.017\n",
    "        Farming-fishing     0.015\n",
    "        Handlers-cleaners   0.011\n",
    "        Armed-Forces        0.000\n",
    "        Priv-house-serv     0.000\n",
    "Name: occupation, dtype: float64"
   ]
  },
  {
   "cell_type": "code",
   "execution_count": null,
   "metadata": {},
   "outputs": [],
   "source": [
    "# Your Code is Here\n",
    "\n"
   ]
  },
  {
   "cell_type": "markdown",
   "metadata": {},
   "source": [
    "Desired Output:\n",
    "\n",
    "![image.png](https://i.ibb.co/7tK0PqX/67.png)"
   ]
  },
  {
   "cell_type": "code",
   "execution_count": null,
   "metadata": {},
   "outputs": [],
   "source": [
    "# Your Code is Here\n",
    "\n"
   ]
  },
  {
   "cell_type": "markdown",
   "metadata": {},
   "source": [
    "Desired Output:\n",
    "\n",
    "![image.png](https://i.ibb.co/7brj34F/68.png)"
   ]
  },
  {
   "cell_type": "markdown",
   "metadata": {
    "id": "gQcGUBTxjwO5"
   },
   "source": [
    "**Write down the conclusions you draw from your analysis**"
   ]
  },
  {
   "cell_type": "markdown",
   "metadata": {
    "id": "UOnnd1YXjwO5"
   },
   "source": [
    "**Result :** ................"
   ]
  },
  {
   "cell_type": "markdown",
   "metadata": {
    "id": "eoAUdH20jwO6"
   },
   "source": [
    "### race"
   ]
  },
  {
   "cell_type": "markdown",
   "metadata": {
    "id": "Minu-UhrjwO6"
   },
   "source": [
    "**Check the count of person in each categories and visualize it with countplot**"
   ]
  },
  {
   "cell_type": "code",
   "execution_count": null,
   "metadata": {},
   "outputs": [],
   "source": [
    "# Your Code is Here\n",
    "\n"
   ]
  },
  {
   "cell_type": "raw",
   "metadata": {},
   "source": [
    "Desired Output:\n",
    "\n",
    "White                 27795\n",
    "Black                  3122\n",
    "Asian-Pac-Islander     1038\n",
    "Amer-Indian-Eskimo      311\n",
    "Other                   271\n",
    "Name: race, dtype: int64"
   ]
  },
  {
   "cell_type": "code",
   "execution_count": null,
   "metadata": {},
   "outputs": [],
   "source": [
    "# Your Code is Here\n",
    "\n"
   ]
  },
  {
   "cell_type": "markdown",
   "metadata": {},
   "source": [
    "Desired Output:\n",
    "\n",
    "![image.png](https://i.ibb.co/LdKct3G/69.png)"
   ]
  },
  {
   "cell_type": "markdown",
   "metadata": {
    "id": "TTfS9EJLjwO6"
   },
   "source": [
    "**Check the count of person in each \"salary\" levels by races and visualize it with countplot**"
   ]
  },
  {
   "cell_type": "code",
   "execution_count": null,
   "metadata": {},
   "outputs": [],
   "source": [
    "# Your Code is Here\n",
    "\n"
   ]
  },
  {
   "cell_type": "raw",
   "metadata": {},
   "source": [
    "Desired Output:\n",
    "\n",
    "race                salary\n",
    "Amer-Indian-Eskimo  <=50K       275\n",
    "                    >50K         36\n",
    "Asian-Pac-Islander  <=50K       762\n",
    "                    >50K        276\n",
    "Black               <=50K      2735\n",
    "                    >50K        387\n",
    "Other               <=50K       246\n",
    "                    >50K         25\n",
    "White               <=50K     20680\n",
    "                    >50K       7115\n",
    "Name: salary, dtype: int64"
   ]
  },
  {
   "cell_type": "code",
   "execution_count": null,
   "metadata": {},
   "outputs": [],
   "source": [
    "# Your Code is Here\n",
    "\n"
   ]
  },
  {
   "cell_type": "markdown",
   "metadata": {},
   "source": [
    "Desired Output:\n",
    "\n",
    "![image.png](https://i.ibb.co/Qb4n8Y5/70.png)"
   ]
  },
  {
   "cell_type": "markdown",
   "metadata": {
    "id": "gwh3_WZ3jwO7"
   },
   "source": [
    "**Check the percentage distribution of person in each \"salary\" levels by each races and visualize it with pie plot**"
   ]
  },
  {
   "cell_type": "code",
   "execution_count": null,
   "metadata": {},
   "outputs": [],
   "source": [
    "# Your Code is Here\n",
    "\n"
   ]
  },
  {
   "cell_type": "raw",
   "metadata": {},
   "source": [
    "Desired Output:\n",
    "\n",
    "race                salary\n",
    "Amer-Indian-Eskimo  <=50K    0.884\n",
    "                    >50K     0.116\n",
    "Asian-Pac-Islander  <=50K    0.734\n",
    "                    >50K     0.266\n",
    "Black               <=50K    0.876\n",
    "                    >50K     0.124\n",
    "Other               <=50K    0.908\n",
    "                    >50K     0.092\n",
    "White               <=50K    0.744\n",
    "                    >50K     0.256\n",
    "Name: salary, dtype: float64"
   ]
  },
  {
   "cell_type": "code",
   "execution_count": null,
   "metadata": {},
   "outputs": [],
   "source": [
    "# Your Code is Here\n",
    "\n"
   ]
  },
  {
   "cell_type": "markdown",
   "metadata": {},
   "source": [
    "Desired Output:\n",
    "\n",
    "![image.png](https://i.ibb.co/xsJWXp4/71.png)"
   ]
  },
  {
   "cell_type": "markdown",
   "metadata": {
    "id": "xl_7einXjwO7"
   },
   "source": [
    "**Check the count of person in each races by \"salary\" levels and visualize it with countplot**"
   ]
  },
  {
   "cell_type": "code",
   "execution_count": null,
   "metadata": {},
   "outputs": [],
   "source": [
    "# Your Code is Here\n",
    "\n"
   ]
  },
  {
   "cell_type": "raw",
   "metadata": {},
   "source": [
    "Desired Output:\n",
    "\n",
    "salary  race              \n",
    "<=50K   White                 20680\n",
    "        Black                  2735\n",
    "        Asian-Pac-Islander      762\n",
    "        Amer-Indian-Eskimo      275\n",
    "        Other                   246\n",
    ">50K    White                  7115\n",
    "        Black                   387\n",
    "        Asian-Pac-Islander      276\n",
    "        Amer-Indian-Eskimo       36\n",
    "        Other                    25\n",
    "Name: race, dtype: int64"
   ]
  },
  {
   "cell_type": "code",
   "execution_count": null,
   "metadata": {},
   "outputs": [],
   "source": [
    "# Your Code is Here\n",
    "\n"
   ]
  },
  {
   "cell_type": "markdown",
   "metadata": {},
   "source": [
    "Desired Output:\n",
    "\n",
    "![image.png](https://i.ibb.co/RBpPR38/72.png)"
   ]
  },
  {
   "cell_type": "markdown",
   "metadata": {
    "id": "y6WnktoJjwO8"
   },
   "source": [
    "**Check the the percentage distribution of person in each races by \"salary\" levels and visualize it with bar plot**"
   ]
  },
  {
   "cell_type": "code",
   "execution_count": null,
   "metadata": {},
   "outputs": [],
   "source": [
    "# Your Code is Here\n",
    "\n"
   ]
  },
  {
   "cell_type": "raw",
   "metadata": {},
   "source": [
    "Desired Output:\n",
    "\n",
    "salary  race              \n",
    "<=50K   White                0.837\n",
    "        Black                0.111\n",
    "        Asian-Pac-Islander   0.031\n",
    "        Amer-Indian-Eskimo   0.011\n",
    "        Other                0.010\n",
    ">50K    White                0.908\n",
    "        Black                0.049\n",
    "        Asian-Pac-Islander   0.035\n",
    "        Amer-Indian-Eskimo   0.005\n",
    "        Other                0.003\n",
    "Name: race, dtype: float64"
   ]
  },
  {
   "cell_type": "code",
   "execution_count": null,
   "metadata": {},
   "outputs": [],
   "source": [
    "# Your Code is Here\n",
    "\n"
   ]
  },
  {
   "cell_type": "markdown",
   "metadata": {},
   "source": [
    "Desired Output:\n",
    "\n",
    "![image.png](https://i.ibb.co/Xy9sYCY/73.png)"
   ]
  },
  {
   "cell_type": "code",
   "execution_count": null,
   "metadata": {},
   "outputs": [],
   "source": [
    "# Your Code is Here\n",
    "\n"
   ]
  },
  {
   "cell_type": "markdown",
   "metadata": {},
   "source": [
    "Desired Output:\n",
    "\n",
    "![image.png](https://i.ibb.co/X8kf9NZ/74.png)"
   ]
  },
  {
   "cell_type": "markdown",
   "metadata": {
    "id": "ektBJBtxjwO8"
   },
   "source": [
    "**Write down the conclusions you draw from your analysis**"
   ]
  },
  {
   "cell_type": "markdown",
   "metadata": {
    "id": "XvzagJjcjwO8"
   },
   "source": [
    "**Result :** ................"
   ]
  },
  {
   "cell_type": "markdown",
   "metadata": {
    "id": "-atLCuBJjwO8"
   },
   "source": [
    "### gender"
   ]
  },
  {
   "cell_type": "markdown",
   "metadata": {
    "id": "UPBcWPwxjwO9"
   },
   "source": [
    "**Check the count of person in each gender and visualize it with countplot**"
   ]
  },
  {
   "cell_type": "code",
   "execution_count": null,
   "metadata": {},
   "outputs": [],
   "source": [
    "# Your Code is Here\n",
    "\n"
   ]
  },
  {
   "cell_type": "raw",
   "metadata": {},
   "source": [
    "Desired Output:\n",
    "\n",
    "Male      21775\n",
    "Female    10762\n",
    "Name: gender, dtype: int64"
   ]
  },
  {
   "cell_type": "code",
   "execution_count": null,
   "metadata": {},
   "outputs": [],
   "source": [
    "# Your Code is Here\n",
    "\n"
   ]
  },
  {
   "cell_type": "markdown",
   "metadata": {},
   "source": [
    "Desired Output:\n",
    "\n",
    "![image.png](https://i.ibb.co/GVTRbrb/75.png)"
   ]
  },
  {
   "cell_type": "markdown",
   "metadata": {
    "id": "pdUFVxrZjwO9"
   },
   "source": [
    "**Check the count of person in each \"salary\" levels by gender and visualize it with countplot**"
   ]
  },
  {
   "cell_type": "code",
   "execution_count": null,
   "metadata": {},
   "outputs": [],
   "source": [
    "# Your Code is Here\n",
    "\n"
   ]
  },
  {
   "cell_type": "raw",
   "metadata": {},
   "source": [
    "Desired Output:\n",
    "\n",
    "gender  salary\n",
    "Female  <=50K      9583\n",
    "        >50K       1179\n",
    "Male    <=50K     15115\n",
    "        >50K       6660\n",
    "Name: salary, dtype: int64"
   ]
  },
  {
   "cell_type": "code",
   "execution_count": null,
   "metadata": {},
   "outputs": [],
   "source": [
    "# Your Code is Here\n",
    "\n"
   ]
  },
  {
   "cell_type": "markdown",
   "metadata": {},
   "source": [
    "Desired Output:\n",
    "\n",
    "![image.png](https://i.ibb.co/Nr8HRPk/76.png)"
   ]
  },
  {
   "cell_type": "markdown",
   "metadata": {
    "id": "HwUybulnjwO9"
   },
   "source": [
    "**Check the percentage distribution of person in each \"salary\" levels by each gender and visualize it with pie plot**"
   ]
  },
  {
   "cell_type": "code",
   "execution_count": null,
   "metadata": {},
   "outputs": [],
   "source": [
    "# Your Code is Here\n",
    "\n"
   ]
  },
  {
   "cell_type": "raw",
   "metadata": {},
   "source": [
    "Desired Output:\n",
    "\n",
    "gender  salary\n",
    "Female  <=50K    0.890\n",
    "        >50K     0.110\n",
    "Male    <=50K    0.694\n",
    "        >50K     0.306\n",
    "Name: salary, dtype: float64"
   ]
  },
  {
   "cell_type": "code",
   "execution_count": null,
   "metadata": {},
   "outputs": [],
   "source": [
    "# Your Code is Here\n",
    "\n"
   ]
  },
  {
   "cell_type": "markdown",
   "metadata": {},
   "source": [
    "Desired Output:\n",
    "\n",
    "![image.png](https://i.ibb.co/nrHj2jk/77.png)"
   ]
  },
  {
   "cell_type": "markdown",
   "metadata": {
    "id": "fJouHbA4jwO-"
   },
   "source": [
    "**Check the count of person in each gender by \"salary\" levels and visualize it with countplot**"
   ]
  },
  {
   "cell_type": "code",
   "execution_count": null,
   "metadata": {},
   "outputs": [],
   "source": [
    "# Your Code is Here\n",
    "\n"
   ]
  },
  {
   "cell_type": "raw",
   "metadata": {},
   "source": [
    "Desired Output:\n",
    "\n",
    "salary  gender\n",
    "<=50K   Male      15115\n",
    "        Female     9583\n",
    ">50K    Male       6660\n",
    "        Female     1179\n",
    "Name: gender, dtype: int64"
   ]
  },
  {
   "cell_type": "code",
   "execution_count": null,
   "metadata": {},
   "outputs": [],
   "source": [
    "# Your Code is Here\n",
    "\n"
   ]
  },
  {
   "cell_type": "markdown",
   "metadata": {},
   "source": [
    "Desired Output:\n",
    "\n",
    "![image.png](https://i.ibb.co/9sfsw11/78.png)"
   ]
  },
  {
   "cell_type": "markdown",
   "metadata": {
    "id": "SOs01uF6jwO-"
   },
   "source": [
    "**Check the the percentage distribution of person in each gender by \"salary\" levels and visualize it with pie plot**"
   ]
  },
  {
   "cell_type": "code",
   "execution_count": null,
   "metadata": {},
   "outputs": [],
   "source": [
    "# Your Code is Here\n",
    "\n"
   ]
  },
  {
   "cell_type": "raw",
   "metadata": {},
   "source": [
    "Desired Output:\n",
    "\n",
    "salary  gender\n",
    "<=50K   Male     0.612\n",
    "        Female   0.388\n",
    ">50K    Male     0.850\n",
    "        Female   0.150\n",
    "Name: gender, dtype: float64"
   ]
  },
  {
   "cell_type": "code",
   "execution_count": null,
   "metadata": {},
   "outputs": [],
   "source": [
    "# Your Code is Here\n",
    "\n"
   ]
  },
  {
   "cell_type": "markdown",
   "metadata": {},
   "source": [
    "Desired Output:\n",
    "\n",
    "![image.png](https://i.ibb.co/0DzhNgG/79.png)"
   ]
  },
  {
   "cell_type": "markdown",
   "metadata": {
    "id": "gZgesr4WjwO_"
   },
   "source": [
    "**Write down the conclusions you draw from your analysis**"
   ]
  },
  {
   "cell_type": "markdown",
   "metadata": {
    "id": "QphA4kCgjwO_"
   },
   "source": [
    "**Result :** .............."
   ]
  },
  {
   "cell_type": "markdown",
   "metadata": {
    "id": "Q1AO-wkrjwO_"
   },
   "source": [
    "### native_country"
   ]
  },
  {
   "cell_type": "markdown",
   "metadata": {
    "id": "7RBYpgOtjwO_"
   },
   "source": [
    "**Check the count of person in each categories and visualize it with countplot**"
   ]
  },
  {
   "cell_type": "code",
   "execution_count": null,
   "metadata": {},
   "outputs": [],
   "source": [
    "# Your Code is Here\n",
    "\n"
   ]
  },
  {
   "cell_type": "raw",
   "metadata": {},
   "source": [
    "Desired Output:\n",
    "\n",
    "United-States                 29153\n",
    "Mexico                          639\n",
    "?                               582\n",
    "Philippines                     198\n",
    "Germany                         137\n",
    "Canada                          121\n",
    "Puerto-Rico                     114\n",
    "El-Salvador                     106\n",
    "India                           100\n",
    "Cuba                             95\n",
    "England                          90\n",
    "Jamaica                          81\n",
    "South                            80\n",
    "China                            75\n",
    "Italy                            73\n",
    "Dominican-Republic               70\n",
    "Vietnam                          67\n",
    "Japan                            62\n",
    "Guatemala                        62\n",
    "Poland                           60\n",
    "Columbia                         59\n",
    "Taiwan                           51\n",
    "Haiti                            44\n",
    "Iran                             43\n",
    "Portugal                         37\n",
    "Nicaragua                        34\n",
    "Peru                             31\n",
    "France                           29\n",
    "Greece                           29\n",
    "Ecuador                          28\n",
    "Ireland                          24\n",
    "Hong                             20\n",
    "Cambodia                         19\n",
    "Trinadad&Tobago                  19\n",
    "Laos                             18\n",
    "Thailand                         18\n",
    "Yugoslavia                       16\n",
    "Outlying-US(Guam-USVI-etc)       14\n",
    "Honduras                         13\n",
    "Hungary                          13\n",
    "Scotland                         12\n",
    "Holand-Netherlands                1\n",
    "Name: native_country, dtype: int64"
   ]
  },
  {
   "cell_type": "code",
   "execution_count": null,
   "metadata": {},
   "outputs": [],
   "source": [
    "# Your Code is Here\n",
    "\n"
   ]
  },
  {
   "cell_type": "markdown",
   "metadata": {},
   "source": [
    "Desired Output:\n",
    "\n",
    "![image.png](https://i.ibb.co/x3TNT7B/80.png)"
   ]
  },
  {
   "cell_type": "markdown",
   "metadata": {
    "id": "IzZNpvJPjwPA"
   },
   "source": [
    "**Replace the value \"?\" to the value \"Unknown\"** "
   ]
  },
  {
   "cell_type": "code",
   "execution_count": null,
   "metadata": {},
   "outputs": [],
   "source": [
    "# Replace \"?\" values with \"Unknown\"\n",
    "\n",
    "# Your Code is Here\n",
    "\n"
   ]
  },
  {
   "cell_type": "markdown",
   "metadata": {
    "id": "jhFDZnJ_jwPA"
   },
   "source": [
    "**Decrease the number of categories in \"native_country\" feature as US, and Others and create a new feature with this new categorical data**"
   ]
  },
  {
   "cell_type": "code",
   "execution_count": 150,
   "metadata": {
    "id": "4L1ZWfZYjwPA"
   },
   "outputs": [],
   "source": [
    "def mapping_native_country(x):\n",
    "    if x == \"United-States\":\n",
    "        return \"US\"\n",
    "    else:\n",
    "        return \"Others\""
   ]
  },
  {
   "cell_type": "code",
   "execution_count": null,
   "metadata": {},
   "outputs": [],
   "source": [
    "# Your Code is Here\n",
    "\n"
   ]
  },
  {
   "cell_type": "raw",
   "metadata": {},
   "source": [
    "Desired Output:\n",
    "\n",
    "US        29153\n",
    "Others     3384\n",
    "Name: native_country, dtype: int64"
   ]
  },
  {
   "cell_type": "code",
   "execution_count": null,
   "metadata": {},
   "outputs": [],
   "source": [
    "# By using \"mapping_native_country\" def function above, create a new column named \"native_country_summary\"\n",
    "\n",
    "# Your Code is Here\n",
    "\n"
   ]
  },
  {
   "cell_type": "raw",
   "metadata": {},
   "source": [
    "Desired Output:\n",
    "\n",
    "0            US\n",
    "1            US\n",
    "2            US\n",
    "3            US\n",
    "4        Others\n",
    "          ...  \n",
    "32556        US\n",
    "32557        US\n",
    "32558        US\n",
    "32559        US\n",
    "32560        US\n",
    "Name: native_country_summary, Length: 32537, dtype: object"
   ]
  },
  {
   "cell_type": "markdown",
   "metadata": {
    "id": "uoX86TB6jwPA"
   },
   "source": [
    "**Visualize the count of person in each new categories (US, Others)**"
   ]
  },
  {
   "cell_type": "code",
   "execution_count": null,
   "metadata": {},
   "outputs": [],
   "source": [
    "# Your Code is Here\n",
    "\n"
   ]
  },
  {
   "cell_type": "markdown",
   "metadata": {},
   "source": [
    "Desired Output:\n",
    "\n",
    "![image.png](https://i.ibb.co/wwDhVGd/81.png)"
   ]
  },
  {
   "cell_type": "markdown",
   "metadata": {
    "id": "x-wiC7UAjwPB"
   },
   "source": [
    "**Check the count of person in each \"salary\" levels by these new native countries (US, Others) and visualize it with countplot**"
   ]
  },
  {
   "cell_type": "code",
   "execution_count": null,
   "metadata": {},
   "outputs": [],
   "source": [
    "# Your Code is Here\n",
    "\n"
   ]
  },
  {
   "cell_type": "raw",
   "metadata": {},
   "source": [
    "Desired Output:\n",
    "\n",
    "native_country_summary  salary\n",
    "Others                  <=50K      2714\n",
    "                        >50K        670\n",
    "US                      <=50K     21984\n",
    "                        >50K       7169\n",
    "Name: salary, dtype: int64"
   ]
  },
  {
   "cell_type": "code",
   "execution_count": null,
   "metadata": {},
   "outputs": [],
   "source": [
    "# Your Code is Here\n",
    "\n"
   ]
  },
  {
   "cell_type": "markdown",
   "metadata": {},
   "source": [
    "Desired Output:\n",
    "\n",
    "![image.png](https://i.ibb.co/SVnKp4k/82.png)"
   ]
  },
  {
   "cell_type": "markdown",
   "metadata": {
    "id": "w_LThintjwPB"
   },
   "source": [
    "**Check the percentage distribution of person in each \"salary\" levels by each new native countries (US, Others) and visualize it with pie plot separately**"
   ]
  },
  {
   "cell_type": "code",
   "execution_count": null,
   "metadata": {},
   "outputs": [],
   "source": [
    "# Your Code is Here\n",
    "\n"
   ]
  },
  {
   "cell_type": "raw",
   "metadata": {},
   "source": [
    "Desired Output:\n",
    "\n",
    "native_country_summary  salary\n",
    "Others                  <=50K    0.802\n",
    "                        >50K     0.198\n",
    "US                      <=50K    0.754\n",
    "                        >50K     0.246\n",
    "Name: salary, dtype: float64"
   ]
  },
  {
   "cell_type": "code",
   "execution_count": null,
   "metadata": {},
   "outputs": [],
   "source": [
    "# Your Code is Here\n",
    "\n"
   ]
  },
  {
   "cell_type": "markdown",
   "metadata": {},
   "source": [
    "Desired Output:\n",
    "\n",
    "![image.png](https://i.ibb.co/4NQ5b1b/83.png)"
   ]
  },
  {
   "cell_type": "markdown",
   "metadata": {
    "id": "PpmDSPKAjwPC"
   },
   "source": [
    "**Check the count of person in each these new native countries (US, Others) by \"salary\" levels and visualize it with countplot**"
   ]
  },
  {
   "cell_type": "code",
   "execution_count": null,
   "metadata": {},
   "outputs": [],
   "source": [
    "# Your Code is Here\n",
    "\n"
   ]
  },
  {
   "cell_type": "raw",
   "metadata": {},
   "source": [
    "Desired Output:\n",
    "\n",
    "salary  native_country_summary\n",
    "<=50K   US                        21984\n",
    "        Others                     2714\n",
    ">50K    US                         7169\n",
    "        Others                      670\n",
    "Name: native_country_summary, dtype: int64"
   ]
  },
  {
   "cell_type": "code",
   "execution_count": null,
   "metadata": {},
   "outputs": [],
   "source": [
    "# Your Code is Here\n",
    "\n"
   ]
  },
  {
   "cell_type": "markdown",
   "metadata": {},
   "source": [
    "Desired Output:\n",
    "\n",
    "![image.png](https://i.ibb.co/c1gQfcg/84.png)"
   ]
  },
  {
   "cell_type": "markdown",
   "metadata": {
    "id": "z8Qi7EFPjwPD"
   },
   "source": [
    "**Check the the percentage distribution of person in each these new native countries (US, Others) by \"salary\" levels and visualize it with pie plot separately**"
   ]
  },
  {
   "cell_type": "code",
   "execution_count": null,
   "metadata": {},
   "outputs": [],
   "source": [
    "# Your Code is Here\n",
    "\n"
   ]
  },
  {
   "cell_type": "raw",
   "metadata": {},
   "source": [
    "Desired Output:\n",
    "\n",
    "salary  native_country_summary\n",
    "<=50K   US                       0.890\n",
    "        Others                   0.110\n",
    ">50K    US                       0.915\n",
    "        Others                   0.085\n",
    "Name: native_country_summary, dtype: float64"
   ]
  },
  {
   "cell_type": "code",
   "execution_count": null,
   "metadata": {},
   "outputs": [],
   "source": [
    "# Your Code is Here\n",
    "\n"
   ]
  },
  {
   "cell_type": "markdown",
   "metadata": {},
   "source": [
    "Desired Output:\n",
    "\n",
    "![image.png](https://i.ibb.co/QHc8m0x/85.png)"
   ]
  },
  {
   "cell_type": "markdown",
   "metadata": {
    "id": "Y9pmpvNZjwPD"
   },
   "source": [
    "**Write down the conclusions you draw from your analysis**"
   ]
  },
  {
   "cell_type": "markdown",
   "metadata": {
    "id": "N1L4tySAjwPE"
   },
   "source": [
    "**Result :** ................."
   ]
  },
  {
   "cell_type": "markdown",
   "metadata": {
    "id": "aQo2OjRBjwPE"
   },
   "source": [
    "<a id=\"5\"></a>\n",
    "<p style=\"background-color:plum; color:floralwhite; font-size:175%; text-align:center; border-radius:10px 10px; font-family:newtimeroman; line-height: 1.4;\">Other Specific Analysis Questions</p>\n",
    "\n",
    "<a href=\"#content\" class=\"btn btn-primary btn-sm\" role=\"button\" aria-pressed=\"true\" style=\"color:blue; background-color:#dfa8e4\" data-toggle=\"popover\">Content</a>\n",
    "\n",
    "## Analysis Questions"
   ]
  },
  {
   "cell_type": "markdown",
   "metadata": {
    "id": "4Nzi2KokjwPE"
   },
   "source": [
    "### What is the average age of males and females by income level?"
   ]
  },
  {
   "cell_type": "code",
   "execution_count": null,
   "metadata": {},
   "outputs": [],
   "source": [
    "# Your Code is Here\n",
    "\n"
   ]
  },
  {
   "cell_type": "raw",
   "metadata": {},
   "source": [
    "Desired Output:\n",
    "\n",
    "salary  gender\n",
    "<=50K   Female   36.217\n",
    "        Male     37.149\n",
    ">50K    Female   42.126\n",
    "        Male     44.627\n",
    "Name: age, dtype: float64"
   ]
  },
  {
   "cell_type": "code",
   "execution_count": null,
   "metadata": {},
   "outputs": [],
   "source": [
    "# Your Code is Here\n",
    "\n"
   ]
  },
  {
   "cell_type": "markdown",
   "metadata": {},
   "source": [
    "Desired Output:\n",
    "\n",
    "![image.png](https://i.ibb.co/BBDy081/86.png)"
   ]
  },
  {
   "cell_type": "code",
   "execution_count": null,
   "metadata": {},
   "outputs": [],
   "source": [
    "# Your Code is Here\n",
    "\n"
   ]
  },
  {
   "cell_type": "markdown",
   "metadata": {},
   "source": [
    "Desired Output:\n",
    "\n",
    "![image.png](https://i.ibb.co/4PD1208/87.png)"
   ]
  },
  {
   "cell_type": "code",
   "execution_count": null,
   "metadata": {},
   "outputs": [],
   "source": [
    "# Your Code is Here\n",
    "\n"
   ]
  },
  {
   "cell_type": "markdown",
   "metadata": {},
   "source": [
    "Desired Output:\n",
    "\n",
    "![image.png](https://i.ibb.co/2n0yGt7/88.png)"
   ]
  },
  {
   "cell_type": "markdown",
   "metadata": {
    "id": "Atr3vfcKjwPF"
   },
   "source": [
    "### What is the workclass percentages of Americans in high-level income group?"
   ]
  },
  {
   "cell_type": "code",
   "execution_count": null,
   "metadata": {},
   "outputs": [],
   "source": [
    "# Your Code is Here\n",
    "\n"
   ]
  },
  {
   "cell_type": "raw",
   "metadata": {},
   "source": [
    "Desired Output:\n",
    "\n",
    "Private            63.314\n",
    "Self-emp-not-inc    9.192\n",
    "Local-gov           8.021\n",
    "Self-emp-inc        7.784\n",
    "Federal-gov         4.687\n",
    "State-gov           4.547\n",
    "Unknown             2.455\n",
    "Name: workclass, dtype: float64"
   ]
  },
  {
   "cell_type": "code",
   "execution_count": null,
   "metadata": {},
   "outputs": [],
   "source": [
    "# Your Code is Here\n",
    "\n"
   ]
  },
  {
   "cell_type": "markdown",
   "metadata": {},
   "source": [
    "Desired Output:\n",
    "\n",
    "![image.png](https://i.ibb.co/gMHzLgH/89.png)"
   ]
  },
  {
   "cell_type": "markdown",
   "metadata": {
    "id": "7CvSp9f7jwPF"
   },
   "source": [
    "### What is the occupation percentages of Americans who work as \"Private\" workclass in high-level income group?"
   ]
  },
  {
   "cell_type": "code",
   "execution_count": null,
   "metadata": {},
   "outputs": [],
   "source": [
    "# Your Code is Here\n",
    "\n"
   ]
  },
  {
   "cell_type": "raw",
   "metadata": {},
   "source": [
    "Desired Output:\n",
    "\n",
    "Exec-managerial     26.438\n",
    "Prof-specialty      19.476\n",
    "Craft-repair        14.695\n",
    "Sales               14.475\n",
    "Adm-clerical         6.389\n",
    "Transport-moving     5.442\n",
    "Tech-support         4.428\n",
    "Machine-op-inspct    4.428\n",
    "Other-service        1.674\n",
    "Handlers-cleaners    1.344\n",
    "Farming-fishing      0.595\n",
    "Protective-serv      0.595\n",
    "Priv-house-serv      0.022\n",
    "Name: occupation, dtype: float64"
   ]
  },
  {
   "cell_type": "code",
   "execution_count": null,
   "metadata": {},
   "outputs": [],
   "source": [
    "# Your Code is Here\n",
    "\n"
   ]
  },
  {
   "cell_type": "markdown",
   "metadata": {},
   "source": [
    "Desired Output:\n",
    "\n",
    "![image.png](https://i.ibb.co/s3Kd7VS/90.png)"
   ]
  },
  {
   "cell_type": "markdown",
   "metadata": {
    "id": "F7sK9___jwPG"
   },
   "source": [
    "### What is the education level percentages of Asian-Pac-Islander race group in high-level income group?"
   ]
  },
  {
   "cell_type": "code",
   "execution_count": null,
   "metadata": {},
   "outputs": [],
   "source": [
    "# Your Code is Here\n",
    "\n"
   ]
  },
  {
   "cell_type": "raw",
   "metadata": {},
   "source": [
    "Desired Output:\n",
    "\n",
    "Bachelors      35.145\n",
    "Masters        15.580\n",
    "HS-grad        12.319\n",
    "Some-college   11.957\n",
    "Prof-school     9.783\n",
    "Doctorate       6.522\n",
    "Assoc-voc       3.261\n",
    "Assoc-acdm      2.899\n",
    "5th-6th         1.087\n",
    "9th             0.362\n",
    "11th            0.362\n",
    "10th            0.362\n",
    "12th            0.362\n",
    "Name: education, dtype: float64"
   ]
  },
  {
   "cell_type": "code",
   "execution_count": null,
   "metadata": {},
   "outputs": [],
   "source": [
    "# Your Code is Here\n",
    "\n"
   ]
  },
  {
   "cell_type": "markdown",
   "metadata": {},
   "source": [
    "Desired Output:\n",
    "\n",
    "![image.png](https://i.ibb.co/rZnSFBX/91.png)"
   ]
  },
  {
   "cell_type": "markdown",
   "metadata": {
    "id": "7qqMjUE9jwPG"
   },
   "source": [
    "### What is the occupation percentages of Asian-Pac-Islander race group who has a Bachelors degree in high-level income group?"
   ]
  },
  {
   "cell_type": "code",
   "execution_count": null,
   "metadata": {},
   "outputs": [],
   "source": [
    "# Your Code is Here\n",
    "\n"
   ]
  },
  {
   "cell_type": "raw",
   "metadata": {},
   "source": [
    "Desired Output:\n",
    "\n",
    "Exec-managerial     27.835\n",
    "Prof-specialty      25.773\n",
    "Adm-clerical        12.371\n",
    "Sales                9.278\n",
    "Other-service        9.278\n",
    "Craft-repair         7.216\n",
    "Tech-support         3.093\n",
    "Protective-serv      2.062\n",
    "Transport-moving     1.031\n",
    "Machine-op-inspct    1.031\n",
    "Farming-fishing      1.031\n",
    "Name: occupation, dtype: float64"
   ]
  },
  {
   "cell_type": "code",
   "execution_count": null,
   "metadata": {},
   "outputs": [],
   "source": [
    "# Your Code is Here\n",
    "\n"
   ]
  },
  {
   "cell_type": "markdown",
   "metadata": {},
   "source": [
    "Desired Output:\n",
    "\n",
    "![image.png](https://i.ibb.co/zZVsbJf/92.png)"
   ]
  },
  {
   "cell_type": "markdown",
   "metadata": {
    "id": "R5sVvHBYjwPH"
   },
   "source": [
    "### What is the mean of working hours per week by gender for education level, workclass and marital status? Try to plot all required in one figure."
   ]
  },
  {
   "cell_type": "code",
   "execution_count": null,
   "metadata": {},
   "outputs": [],
   "source": [
    "# Your Code is Here\n",
    "\n"
   ]
  },
  {
   "cell_type": "markdown",
   "metadata": {},
   "source": [
    "Desired Output:\n",
    "\n",
    "![image.png](https://i.ibb.co/G5KY8nf/93.png)"
   ]
  },
  {
   "cell_type": "markdown",
   "metadata": {
    "id": "tct5KTULjwPH"
   },
   "source": [
    "<a id=\"6\"></a>\n",
    "<p style=\"background-color:plum; color:floralwhite; font-size:175%; text-align:center; border-radius:10px 10px; font-family:newtimeroman; line-height: 1.4;\">Dropping Similar & Unneccessary Features</p>\n",
    "\n",
    "<a href=\"#content\" class=\"btn btn-primary btn-sm\" role=\"button\" aria-pressed=\"true\" style=\"color:blue; background-color:#dfa8e4\" data-toggle=\"popover\">Content</a>"
   ]
  },
  {
   "cell_type": "code",
   "execution_count": null,
   "metadata": {},
   "outputs": [],
   "source": [
    "# Your Code is Here\n",
    "\n"
   ]
  },
  {
   "cell_type": "raw",
   "metadata": {},
   "source": [
    "Desired Output:\n",
    "\n",
    "<class 'pandas.core.frame.DataFrame'>\n",
    "Int64Index: 32537 entries, 0 to 32560\n",
    "Data columns (total 18 columns):\n",
    " #   Column                  Non-Null Count  Dtype  \n",
    "---  ------                  --------------  -----  \n",
    " 0   age                     32537 non-null  int64  \n",
    " 1   workclass               32537 non-null  object \n",
    " 2   fnlwgt                  32537 non-null  int64  \n",
    " 3   education               32537 non-null  object \n",
    " 4   education_num           31735 non-null  float64\n",
    " 5   marital_status          32537 non-null  object \n",
    " 6   occupation              32537 non-null  object \n",
    " 7   relationship            32537 non-null  object \n",
    " 8   race                    32537 non-null  object \n",
    " 9   gender                  32537 non-null  object \n",
    " 10  capital_gain            32537 non-null  int64  \n",
    " 11  capital_loss            32537 non-null  int64  \n",
    " 12  hours_per_week          32537 non-null  int64  \n",
    " 13  native_country          32537 non-null  object \n",
    " 14  salary                  32537 non-null  object \n",
    " 15  education_summary       32537 non-null  object \n",
    " 16  marital_status_summary  32537 non-null  object \n",
    " 17  native_country_summary  32537 non-null  object \n",
    "dtypes: float64(1), int64(5), object(12)\n",
    "memory usage: 5.7+ MB"
   ]
  },
  {
   "cell_type": "code",
   "execution_count": null,
   "metadata": {},
   "outputs": [],
   "source": [
    "# Drop the columns of \"education\", \"education_num\", \"relationship\", \"marital_status\", \"native_country\" permanently\n",
    "\n",
    "# Your Code is Here\n",
    "\n"
   ]
  },
  {
   "cell_type": "markdown",
   "metadata": {
    "id": "-_TS1bdWjwPH"
   },
   "source": [
    "<a id=\"7\"></a>\n",
    "<p style=\"background-color:plum; color:floralwhite; font-size:175%; text-align:center; border-radius:10px 10px; font-family:newtimeroman; line-height: 1.4;\">Handling with Missing Value</p>\n",
    "\n",
    "<a href=\"#content\" class=\"btn btn-primary btn-sm\" role=\"button\" aria-pressed=\"true\" style=\"color:blue; background-color:#dfa8e4\" data-toggle=\"popover\">Content</a>"
   ]
  },
  {
   "cell_type": "markdown",
   "metadata": {
    "id": "-9W89YamjwPI"
   },
   "source": [
    "**Check the missing values for all features basically**"
   ]
  },
  {
   "cell_type": "code",
   "execution_count": null,
   "metadata": {},
   "outputs": [],
   "source": [
    "# Your Code is Here\n",
    "\n"
   ]
  },
  {
   "cell_type": "raw",
   "metadata": {},
   "source": [
    "Desired Output:\n",
    "\n",
    "age                       0\n",
    "workclass                 0\n",
    "fnlwgt                    0\n",
    "occupation                0\n",
    "race                      0\n",
    "gender                    0\n",
    "capital_gain              0\n",
    "capital_loss              0\n",
    "hours_per_week            0\n",
    "salary                    0\n",
    "education_summary         0\n",
    "marital_status_summary    0\n",
    "native_country_summary    0\n",
    "dtype: int64"
   ]
  },
  {
   "cell_type": "markdown",
   "metadata": {
    "id": "gQmPPblQjwPI"
   },
   "source": [
    "**1. It seems that there is no missing value. But we know that \"workclass\", and \"occupation\" features have missing values as the \"Unknown\" string values. Examine these features in more detail.**\n",
    "\n",
    "**2. Decide if drop these \"Unknown\" string values or not**"
   ]
  },
  {
   "cell_type": "code",
   "execution_count": null,
   "metadata": {},
   "outputs": [],
   "source": [
    "# Your Code is Here\n",
    "\n"
   ]
  },
  {
   "cell_type": "raw",
   "metadata": {},
   "source": [
    "Desired Output:\n",
    "\n",
    "Private             22673\n",
    "Self-emp-not-inc     2540\n",
    "Local-gov            2093\n",
    "Unknown              1836\n",
    "State-gov            1298\n",
    "Self-emp-inc         1116\n",
    "Federal-gov           960\n",
    "Without-pay            14\n",
    "Never-worked            7\n",
    "Name: workclass, dtype: int64"
   ]
  },
  {
   "cell_type": "code",
   "execution_count": null,
   "metadata": {},
   "outputs": [],
   "source": [
    "# Your Code is Here\n",
    "\n"
   ]
  },
  {
   "cell_type": "raw",
   "metadata": {},
   "source": [
    "Desired Output:\n",
    "\n",
    "Prof-specialty       4136\n",
    "Craft-repair         4094\n",
    "Exec-managerial      4065\n",
    "Adm-clerical         3768\n",
    "Sales                3650\n",
    "Other-service        3291\n",
    "Machine-op-inspct    2000\n",
    "Unknown              1843\n",
    "Transport-moving     1597\n",
    "Handlers-cleaners    1369\n",
    "Farming-fishing       992\n",
    "Tech-support          927\n",
    "Protective-serv       649\n",
    "Priv-house-serv       147\n",
    "Armed-Forces            9\n",
    "Name: occupation, dtype: int64"
   ]
  },
  {
   "cell_type": "code",
   "execution_count": null,
   "metadata": {},
   "outputs": [],
   "source": [
    "# Your Code is Here\n",
    "\n"
   ]
  },
  {
   "cell_type": "raw",
   "metadata": {},
   "source": [
    "Desired Output:\n",
    "\n",
    "Unknown         1836\n",
    "Never-worked       7\n",
    "Name: workclass, dtype: int64"
   ]
  },
  {
   "cell_type": "code",
   "execution_count": null,
   "metadata": {},
   "outputs": [],
   "source": [
    "# Replace \"Unknown\" values with NaN using numpy library\n",
    "\n",
    "# Your Code is Here\n",
    "\n"
   ]
  },
  {
   "cell_type": "code",
   "execution_count": null,
   "metadata": {},
   "outputs": [],
   "source": [
    "# Your Code is Here\n",
    "\n"
   ]
  },
  {
   "cell_type": "raw",
   "metadata": {},
   "source": [
    "Desired Output:\n",
    "\n",
    "age                          0\n",
    "workclass                 1836\n",
    "fnlwgt                       0\n",
    "occupation                1843\n",
    "race                         0\n",
    "gender                       0\n",
    "capital_gain                 0\n",
    "capital_loss                 0\n",
    "hours_per_week               0\n",
    "salary                       0\n",
    "education_summary            0\n",
    "marital_status_summary       0\n",
    "native_country_summary       0\n",
    "dtype: int64"
   ]
  },
  {
   "cell_type": "code",
   "execution_count": 183,
   "metadata": {
    "id": "er7M7CYSjwPJ"
   },
   "outputs": [],
   "source": [
    "# Drop missing values in df permanently\n",
    "\n",
    "# Your Code is Here\n",
    "\n"
   ]
  },
  {
   "cell_type": "code",
   "execution_count": null,
   "metadata": {},
   "outputs": [],
   "source": [
    "# Your Code is Here\n",
    "\n"
   ]
  },
  {
   "cell_type": "raw",
   "metadata": {},
   "source": [
    "Desired Output:\n",
    "\n",
    "age                       0\n",
    "workclass                 0\n",
    "fnlwgt                    0\n",
    "occupation                0\n",
    "race                      0\n",
    "gender                    0\n",
    "capital_gain              0\n",
    "capital_loss              0\n",
    "hours_per_week            0\n",
    "salary                    0\n",
    "education_summary         0\n",
    "marital_status_summary    0\n",
    "native_country_summary    0\n",
    "dtype: int64"
   ]
  },
  {
   "cell_type": "code",
   "execution_count": null,
   "metadata": {},
   "outputs": [],
   "source": [
    "# Your Code is Here\n",
    "\n"
   ]
  },
  {
   "cell_type": "raw",
   "metadata": {},
   "source": [
    "Desired Output:\n",
    "\n",
    "<class 'pandas.core.frame.DataFrame'>\n",
    "Int64Index: 30694 entries, 0 to 32560\n",
    "Data columns (total 13 columns):\n",
    " #   Column                  Non-Null Count  Dtype \n",
    "---  ------                  --------------  ----- \n",
    " 0   age                     30694 non-null  int64 \n",
    " 1   workclass               30694 non-null  object\n",
    " 2   fnlwgt                  30694 non-null  int64 \n",
    " 3   occupation              30694 non-null  object\n",
    " 4   race                    30694 non-null  object\n",
    " 5   gender                  30694 non-null  object\n",
    " 6   capital_gain            30694 non-null  int64 \n",
    " 7   capital_loss            30694 non-null  int64 \n",
    " 8   hours_per_week          30694 non-null  int64 \n",
    " 9   salary                  30694 non-null  object\n",
    " 10  education_summary       30694 non-null  object\n",
    " 11  marital_status_summary  30694 non-null  object\n",
    " 12  native_country_summary  30694 non-null  object\n",
    "dtypes: int64(5), object(8)\n",
    "memory usage: 3.3+ MB"
   ]
  },
  {
   "cell_type": "markdown",
   "metadata": {
    "id": "OqhEXvvtjwPJ"
   },
   "source": [
    "<a id=\"8\"></a>\n",
    "<p style=\"background-color:plum; color:floralwhite; font-size:175%; text-align:center; border-radius:10px 10px; font-family:newtimeroman; line-height: 1.4;\">Handling with Outliers</p>\n",
    "\n",
    "<a href=\"#content\" class=\"btn btn-primary btn-sm\" role=\"button\" aria-pressed=\"true\" style=\"color:blue; background-color:#dfa8e4\" data-toggle=\"popover\">Content</a>\n",
    "\n",
    "## Analyzing all Features  and Detecting Extreme Values"
   ]
  },
  {
   "cell_type": "markdown",
   "metadata": {
    "id": "A96k9zQ-jwPJ"
   },
   "source": [
    "### Boxplot and Histplot for all numeric features\n",
    "\n",
    "**Plot boxplots for each numeric features at the same figure as subplots**"
   ]
  },
  {
   "cell_type": "code",
   "execution_count": null,
   "metadata": {},
   "outputs": [],
   "source": [
    "# Your Code is Here\n",
    "\n"
   ]
  },
  {
   "cell_type": "markdown",
   "metadata": {},
   "source": [
    "Desired Output:\n",
    "\n",
    "![image.png](https://i.ibb.co/DKMSBDk/94.png)"
   ]
  },
  {
   "cell_type": "code",
   "execution_count": null,
   "metadata": {},
   "outputs": [],
   "source": [
    "# Your Code is Here\n",
    "\n"
   ]
  },
  {
   "cell_type": "markdown",
   "metadata": {},
   "source": [
    "Desired Output:\n",
    "\n",
    "![image.png](https://i.ibb.co/JKtcs9S/95.png)"
   ]
  },
  {
   "cell_type": "markdown",
   "metadata": {
    "id": "RhL1GSZWjwPK"
   },
   "source": [
    "**Plot both boxplots and histograms for each numeric features at the same figure as subplots**"
   ]
  },
  {
   "cell_type": "code",
   "execution_count": null,
   "metadata": {},
   "outputs": [],
   "source": [
    "# Your Code is Here\n",
    "\n"
   ]
  },
  {
   "cell_type": "markdown",
   "metadata": {},
   "source": [
    "Desired Output:\n",
    "\n",
    "![image.png](https://i.ibb.co/fMpP3yR/96.png)"
   ]
  },
  {
   "cell_type": "markdown",
   "metadata": {
    "id": "O6diQd9mjwPK"
   },
   "source": [
    "**Check the statistical values for all numeric features**"
   ]
  },
  {
   "cell_type": "code",
   "execution_count": null,
   "metadata": {},
   "outputs": [],
   "source": [
    "# Your Code is Here\n",
    "\n"
   ]
  },
  {
   "cell_type": "markdown",
   "metadata": {},
   "source": [
    "Desired Output:\n",
    "\n",
    "![image.png](https://i.ibb.co/t3MJHDr/97.png)"
   ]
  },
  {
   "cell_type": "markdown",
   "metadata": {
    "id": "7-GYNYVzjwPK"
   },
   "source": [
    "**1. After analyzing all features, we have decided that we can't evaluate extreme values in \"fnlwgt, capital_gain, capital_loss\" features in the scope of outliers.**\n",
    "\n",
    "**2. So let's examine \"age and hours_per_week\" features and detect extreme values which could be outliers by using IQR Rule.**"
   ]
  },
  {
   "cell_type": "markdown",
   "metadata": {
    "id": "9s-OW2OwjwPR"
   },
   "source": [
    "### age"
   ]
  },
  {
   "cell_type": "code",
   "execution_count": null,
   "metadata": {},
   "outputs": [],
   "source": [
    "# Your Code is Here\n",
    "\n"
   ]
  },
  {
   "cell_type": "markdown",
   "metadata": {},
   "source": [
    "Desired Output:\n",
    "\n",
    "![image.png](https://i.ibb.co/SnzH5Nz/98.png)"
   ]
  },
  {
   "cell_type": "code",
   "execution_count": null,
   "metadata": {},
   "outputs": [],
   "source": [
    "# Find IQR defining quantile 0.25 for low level and 0.75 for high level \n",
    "\n",
    "# Your Code is Here\n",
    "\n"
   ]
  },
  {
   "cell_type": "raw",
   "metadata": {},
   "source": [
    "Desired Output:\n",
    "\n",
    "(28.0, 47.0, 19.0)"
   ]
  },
  {
   "cell_type": "code",
   "execution_count": null,
   "metadata": {},
   "outputs": [],
   "source": [
    "# Find lower and upper limit using IQR\n",
    "\n",
    "# Your Code is Here\n",
    "\n"
   ]
  },
  {
   "cell_type": "raw",
   "metadata": {},
   "source": [
    "Desired Output:\n",
    "\n",
    "(-0.5, 75.5)"
   ]
  },
  {
   "cell_type": "code",
   "execution_count": null,
   "metadata": {},
   "outputs": [],
   "source": [
    "# Your Code is Here\n",
    "\n"
   ]
  },
  {
   "cell_type": "raw",
   "metadata": {},
   "source": [
    "Desired Output:\n",
    "\n",
    "90    35\n",
    "76    30\n",
    "77    20\n",
    "80    16\n",
    "79    15\n",
    "81    14\n",
    "78    14\n",
    "84     8\n",
    "82     7\n",
    "83     5\n",
    "88     3\n",
    "85     3\n",
    "86     1\n",
    "Name: age, dtype: int64"
   ]
  },
  {
   "cell_type": "code",
   "execution_count": 229,
   "metadata": {},
   "outputs": [],
   "source": [
    "# Define the observations whose age is greater than upper limit and sort these observations by age in descending order\n",
    "\n",
    "# Your Code is Here\n",
    "\n"
   ]
  },
  {
   "cell_type": "markdown",
   "metadata": {},
   "source": [
    "Desired Output:\n",
    "\n",
    "![image.png](https://i.ibb.co/x2wDgzQ/99.png)"
   ]
  },
  {
   "cell_type": "markdown",
   "metadata": {
    "id": "vlBdLCMhjwPT"
   },
   "source": [
    "### hours_per_week"
   ]
  },
  {
   "cell_type": "code",
   "execution_count": null,
   "metadata": {},
   "outputs": [],
   "source": [
    "# Your Code is Here\n",
    "\n"
   ]
  },
  {
   "cell_type": "markdown",
   "metadata": {},
   "source": [
    "Desired Output:\n",
    "\n",
    "![image.png](https://i.ibb.co/xq53X6w/100.png)"
   ]
  },
  {
   "cell_type": "code",
   "execution_count": null,
   "metadata": {},
   "outputs": [],
   "source": [
    "# Find IQR defining quantile 0.25 for low level and 0.75 for high level \n",
    "\n",
    "# Your Code is Here\n",
    "\n"
   ]
  },
  {
   "cell_type": "raw",
   "metadata": {},
   "source": [
    "Desired Output:\n",
    "\n",
    "(40.0, 45.0, 5.0)"
   ]
  },
  {
   "cell_type": "code",
   "execution_count": null,
   "metadata": {},
   "outputs": [],
   "source": [
    "# Find the lower and upper limit using IQR\n",
    "\n",
    "# Your Code is Here\n",
    "\n"
   ]
  },
  {
   "cell_type": "raw",
   "metadata": {},
   "source": [
    "Desired Output:\n",
    "\n",
    "(32.5, 52.5)"
   ]
  },
  {
   "cell_type": "code",
   "execution_count": null,
   "metadata": {},
   "outputs": [],
   "source": [
    "# Your Code is Here\n",
    "\n"
   ]
  },
  {
   "cell_type": "raw",
   "metadata": {},
   "source": [
    "Desired Output:\n",
    "\n",
    "99      80\n",
    "98      11\n",
    "97       2\n",
    "96       5\n",
    "95       2\n",
    "94       1\n",
    "92       1\n",
    "91       3\n",
    "90      28\n",
    "89       2\n",
    "88       2\n",
    "87       1\n",
    "86       2\n",
    "85      13\n",
    "84      41\n",
    "82       1\n",
    "81       3\n",
    "80     124\n",
    "78       8\n",
    "77       6\n",
    "76       3\n",
    "75      63\n",
    "74       1\n",
    "73       2\n",
    "72      68\n",
    "70     284\n",
    "68      12\n",
    "67       4\n",
    "66      17\n",
    "65     242\n",
    "64      14\n",
    "63      10\n",
    "62      18\n",
    "61       2\n",
    "60    1441\n",
    "59       5\n",
    "58      27\n",
    "57      17\n",
    "56      91\n",
    "55     683\n",
    "54      39\n",
    "53      23\n",
    "Name: hours_per_week, dtype: int64"
   ]
  },
  {
   "cell_type": "code",
   "execution_count": null,
   "metadata": {},
   "outputs": [],
   "source": [
    "# Define the observations where  hours per week are greater than upper limit and \n",
    "# sort these observations by hours per week in descending order\n",
    "\n",
    "# Your Code is Here\n",
    "\n"
   ]
  },
  {
   "cell_type": "markdown",
   "metadata": {},
   "source": [
    "Desired Output:\n",
    "\n",
    "![image.png](https://i.ibb.co/zGCnbjz/101.png)"
   ]
  },
  {
   "cell_type": "code",
   "execution_count": null,
   "metadata": {},
   "outputs": [],
   "source": [
    "# Your Code is Here\n",
    "\n"
   ]
  },
  {
   "cell_type": "raw",
   "metadata": {},
   "source": [
    "Desired Output:\n",
    "\n",
    "1        8\n",
    "2       15\n",
    "3       24\n",
    "4       28\n",
    "5       39\n",
    "6       40\n",
    "7       20\n",
    "8      103\n",
    "9       17\n",
    "10     223\n",
    "11       9\n",
    "12     143\n",
    "13      19\n",
    "14      28\n",
    "15     350\n",
    "16     182\n",
    "17      27\n",
    "18      64\n",
    "19      14\n",
    "20    1066\n",
    "21      23\n",
    "22      39\n",
    "23      20\n",
    "24     220\n",
    "25     582\n",
    "26      30\n",
    "27      28\n",
    "28      74\n",
    "29       6\n",
    "30    1009\n",
    "31       5\n",
    "32     239\n",
    "Name: hours_per_week, dtype: int64"
   ]
  },
  {
   "cell_type": "code",
   "execution_count": null,
   "metadata": {},
   "outputs": [],
   "source": [
    "# Your Code is Here\n",
    "\n"
   ]
  },
  {
   "cell_type": "markdown",
   "metadata": {},
   "source": [
    "Desired Output:\n",
    "\n",
    "![image.png](https://i.ibb.co/swYNtdM/102.png)"
   ]
  },
  {
   "cell_type": "code",
   "execution_count": null,
   "metadata": {},
   "outputs": [],
   "source": [
    "# Your Code is Here\n",
    "\n"
   ]
  },
  {
   "cell_type": "markdown",
   "metadata": {},
   "source": [
    "Desired Output:\n",
    "\n",
    "![image.png](https://i.ibb.co/S7RWpxD/103.png)"
   ]
  },
  {
   "cell_type": "markdown",
   "metadata": {
    "id": "0CJdRoYMjwPV"
   },
   "source": [
    "**Result :** As we see, there are number of extreme values in both \"age and hours_per_week\" features. But how can we know if these extreme values are outliers or not? At this point, **domain knowledge** comes to the fore.\n",
    "\n",
    "**Domain Knowledge for this dataset:**\n",
    "1. In this dataset, all values are created according to the statements of individuals. So It can be some \"data entries errors\".\n",
    "2. In addition, we have aimed to create an ML model with some restrictions as getting better performance from the ML model.\n",
    "3. In this respect, our sample space ranges for some features are as follows.\n",
    "    - **age : 17 to 80**\n",
    "    - **hours_per_week : 7 to 70**\n",
    "    - **if somebody's age is more than 60, he/she can't work more than 60 hours in a week**"
   ]
  },
  {
   "cell_type": "markdown",
   "metadata": {
    "id": "HE-2lkvajwPV"
   },
   "source": [
    "### Dropping rows according to the domain knownledge "
   ]
  },
  {
   "cell_type": "code",
   "execution_count": null,
   "metadata": {},
   "outputs": [],
   "source": [
    "# Create a condition according to your domain knowledge on age stated above and \n",
    "# sort the observations meeting this condition by age in ascending order\n",
    "\n",
    "# Your Code is Here\n",
    "\n"
   ]
  },
  {
   "cell_type": "markdown",
   "metadata": {},
   "source": [
    "Desired Output:\n",
    "\n",
    "![image.png](https://i.ibb.co/pJC50ZV/104.png)"
   ]
  },
  {
   "cell_type": "code",
   "execution_count": null,
   "metadata": {},
   "outputs": [],
   "source": [
    "# Find the shape of the dataframe created by the condition defined above for age \n",
    "\n",
    "# Your Code is Here\n",
    "\n"
   ]
  },
  {
   "cell_type": "raw",
   "metadata": {},
   "source": [
    "Desired Output:\n",
    "\n",
    "(76, 13)"
   ]
  },
  {
   "cell_type": "code",
   "execution_count": null,
   "metadata": {},
   "outputs": [],
   "source": [
    "# Assign the indices of the rows defined in accordance with condition above for age\n",
    "\n",
    "# Your Code is Here\n",
    "\n"
   ]
  },
  {
   "cell_type": "raw",
   "metadata": {},
   "source": [
    "Desired Output:\n",
    "\n",
    "Int64Index([  222, 18832, 10545, 11512, 11996, 12975, 14159, 15892, 18277,\n",
    "            18413, 18725, 19212,  8973, 19489, 19747, 20610, 22220, 24043,\n",
    "            28463, 31030, 32277, 32367, 10210, 15356,  5370,  4070,  1040,\n",
    "             6232,  1935,  2303,  5272,  6624,  2891,  5406,  8806,  1168,\n",
    "            22895, 21835, 24027, 20463,  8381, 32459, 26731, 27795,  9471,\n",
    "             6214, 14711, 11238,  7720, 15662,  7481, 24395, 23459, 19172,\n",
    "            16302, 14756,  8431, 20421, 22481, 31855, 13696, 24280,  4834,\n",
    "            29594, 28948, 12830,   918, 13295, 24560,  3537, 13928, 19045,\n",
    "             6748,  2906, 21501, 19495],\n",
    "           dtype='int64')"
   ]
  },
  {
   "cell_type": "code",
   "execution_count": null,
   "metadata": {},
   "outputs": [],
   "source": [
    "# Drop these indices defined above for age\n",
    "\n",
    "# Your Code is Here\n",
    "\n"
   ]
  },
  {
   "cell_type": "code",
   "execution_count": null,
   "metadata": {},
   "outputs": [],
   "source": [
    "# Create a condition according to your domain knowledge on hours per week stated above and \n",
    "# sort the observations meeting this condition by hours per week in descending order\n",
    "\n",
    "# Your Code is Here\n",
    "\n"
   ]
  },
  {
   "cell_type": "markdown",
   "metadata": {},
   "source": [
    "Desired Output:\n",
    "\n",
    "![image.png](https://i.ibb.co/rMp7C58/105.png)"
   ]
  },
  {
   "cell_type": "code",
   "execution_count": null,
   "metadata": {},
   "outputs": [],
   "source": [
    "# Find the shape of the dataframe created by the condition defined above for hours per week \n",
    "\n",
    "# Your Code is Here\n",
    "\n",
    "\n"
   ]
  },
  {
   "cell_type": "raw",
   "metadata": {},
   "source": [
    "Desired Output:\n",
    "\n",
    "(621, 13)"
   ]
  },
  {
   "cell_type": "code",
   "execution_count": null,
   "metadata": {},
   "outputs": [],
   "source": [
    "# Assign the indices of the rows defined in accordance with condition above for hours per week\n",
    "\n",
    "# Your Code is Here\n",
    "\n"
   ]
  },
  {
   "cell_type": "raw",
   "metadata": {},
   "source": [
    "Desired Output:\n",
    "\n",
    "Int64Index([22216,  5432, 19053, 19141, 19399, 19529, 19731, 19997, 20036,\n",
    "            21056,\n",
    "            ...\n",
    "             6180, 29867,  1036, 11451, 22960, 20909, 25078, 19750,   189,\n",
    "            24284],\n",
    "           dtype='int64', length=621)"
   ]
  },
  {
   "cell_type": "code",
   "execution_count": null,
   "metadata": {},
   "outputs": [],
   "source": [
    "# Drop these indices defined above for hours per week\n",
    "\n",
    "# Your Code is Here\n",
    "\n"
   ]
  },
  {
   "cell_type": "code",
   "execution_count": null,
   "metadata": {},
   "outputs": [],
   "source": [
    "# Create a condition according to your domain knowledge on both age and hours per week stated above \n",
    "\n",
    "# Your Code is Here\n",
    "\n"
   ]
  },
  {
   "cell_type": "markdown",
   "metadata": {},
   "source": [
    "Desired Output:\n",
    "\n",
    "![image.png](https://i.ibb.co/Ch8XSdW/106.png)"
   ]
  },
  {
   "cell_type": "code",
   "execution_count": null,
   "metadata": {},
   "outputs": [],
   "source": [
    "# Find the shape of the dataframe created by the condition defined above for both age and hours per week\n",
    "\n",
    "\n",
    "# Your Code is Here\n",
    "\n"
   ]
  },
  {
   "cell_type": "raw",
   "metadata": {},
   "source": [
    "Desired Output:\n",
    "\n",
    "(23, 13)"
   ]
  },
  {
   "cell_type": "code",
   "execution_count": null,
   "metadata": {},
   "outputs": [],
   "source": [
    "# Assign the indices of the rows defined in accordance with condition above for both age and hours per week\n",
    "\n",
    "# Your Code is Here\n",
    "\n"
   ]
  },
  {
   "cell_type": "raw",
   "metadata": {},
   "source": [
    "Desired Output:\n",
    "\n",
    "Int64Index([ 1541,  2154,  2184,  2665,  3101,  5417,  6826,  8066,  9646,\n",
    "            12624, 16634, 18367, 19584, 20125, 23399, 23585, 24903, 25910,\n",
    "            26625, 27721, 28294, 31342, 32192],\n",
    "           dtype='int64')"
   ]
  },
  {
   "cell_type": "code",
   "execution_count": null,
   "metadata": {},
   "outputs": [],
   "source": [
    "# Drop these indices defined above for both age and hours per week\n",
    "\n",
    "# Your Code is Here\n",
    "\n"
   ]
  },
  {
   "cell_type": "code",
   "execution_count": null,
   "metadata": {},
   "outputs": [],
   "source": [
    "# What is new shape of dataframe now\n",
    "\n",
    "# Your Code is Here\n",
    "\n"
   ]
  },
  {
   "cell_type": "raw",
   "metadata": {},
   "source": [
    "Desired Output:\n",
    "\n",
    "(29974, 13)"
   ]
  },
  {
   "cell_type": "code",
   "execution_count": null,
   "metadata": {},
   "outputs": [],
   "source": [
    "# Reset the indices and take the head of DataFrame now\n",
    "\n",
    "# Your Code is Here\n",
    "\n"
   ]
  },
  {
   "cell_type": "markdown",
   "metadata": {},
   "source": [
    "Desired Output:\n",
    "\n",
    "![image.png](https://i.ibb.co/5MXPD2b/107.png)"
   ]
  },
  {
   "cell_type": "markdown",
   "metadata": {
    "id": "CQ9PuUCZjwPa"
   },
   "source": [
    "<a id=\"9\"></a>\n",
    "<p style=\"background-color:plum; color:floralwhite; font-size:175%; text-align:center; border-radius:10px 10px; font-family:newtimeroman; line-height: 1.4;\">Final Step to Make the Dataset Ready for ML Models</p>\n",
    "\n",
    "<a href=\"#content\" class=\"btn btn-primary btn-sm\" role=\"button\" aria-pressed=\"true\" style=\"color:blue; background-color:#dfa8e4\" data-toggle=\"popover\">Content</a>\n",
    "\n",
    "## Final Step\n",
    "- Convert all features to numeric\n",
    "- Take a look at correlation between features by utilizing power of visualizing"
   ]
  },
  {
   "cell_type": "markdown",
   "metadata": {
    "id": "slzCtnsnjwPa"
   },
   "source": [
    "### Convert all features to numeric"
   ]
  },
  {
   "cell_type": "markdown",
   "metadata": {
    "id": "MvUDThmpjwPa"
   },
   "source": [
    "**Convert target feature (salary) to numeric (0 and 1) by using map function**"
   ]
  },
  {
   "cell_type": "code",
   "execution_count": null,
   "metadata": {},
   "outputs": [],
   "source": [
    "# Your Code is Here\n",
    "\n"
   ]
  },
  {
   "cell_type": "raw",
   "metadata": {},
   "source": [
    "Desired Output:\n",
    "\n",
    "0        0\n",
    "1        0\n",
    "2        0\n",
    "3        0\n",
    "4        0\n",
    "        ..\n",
    "29969    0\n",
    "29970    1\n",
    "29971    0\n",
    "29972    0\n",
    "29973    1\n",
    "Name: salary, Length: 29974, dtype: int64"
   ]
  },
  {
   "cell_type": "code",
   "execution_count": null,
   "metadata": {},
   "outputs": [],
   "source": [
    "# Your Code is Here\n",
    "\n"
   ]
  },
  {
   "cell_type": "raw",
   "metadata": {},
   "source": [
    "Desired Output:\n",
    "\n",
    "0    22524\n",
    "1     7450\n",
    "Name: salary, dtype: int64"
   ]
  },
  {
   "cell_type": "markdown",
   "metadata": {
    "id": "PsG-ZJftjwPb"
   },
   "source": [
    "**Convert all features to numeric by using get_dummies function**"
   ]
  },
  {
   "cell_type": "code",
   "execution_count": null,
   "metadata": {},
   "outputs": [],
   "source": [
    "# Your Code is Here\n",
    "\n"
   ]
  },
  {
   "cell_type": "markdown",
   "metadata": {},
   "source": [
    "Desired Output:\n",
    "\n",
    "![image.png](https://i.ibb.co/0F1SHRt/108.png)"
   ]
  },
  {
   "cell_type": "code",
   "execution_count": null,
   "metadata": {},
   "outputs": [],
   "source": [
    "# What's the shape of dataframe\n",
    "\n",
    "# Your Code is Here\n",
    "\n"
   ]
  },
  {
   "cell_type": "raw",
   "metadata": {},
   "source": [
    "Desired Output:\n",
    "\n",
    "(29974, 13)"
   ]
  },
  {
   "cell_type": "code",
   "execution_count": null,
   "metadata": {},
   "outputs": [],
   "source": [
    "# What's the shape of dataframe created by dummy operation\n",
    "\n",
    "# Your Code is Here\n",
    "\n"
   ]
  },
  {
   "cell_type": "raw",
   "metadata": {},
   "source": [
    "Desired Output:\n",
    "\n",
    "(29974, 34)"
   ]
  },
  {
   "cell_type": "markdown",
   "metadata": {
    "id": "YjCbYLcxjwPc"
   },
   "source": [
    "### Take a look at correlation between features by utilizing power of visualizing"
   ]
  },
  {
   "cell_type": "code",
   "execution_count": null,
   "metadata": {},
   "outputs": [],
   "source": [
    "# Your Code is Here\n",
    "\n"
   ]
  },
  {
   "cell_type": "markdown",
   "metadata": {},
   "source": [
    "Desired Output:\n",
    "\n",
    "![image.png](https://i.ibb.co/Dgb8RYZ/109.png)"
   ]
  },
  {
   "cell_type": "code",
   "execution_count": null,
   "metadata": {},
   "outputs": [],
   "source": [
    "# Your Code is Here\n",
    "\n"
   ]
  },
  {
   "cell_type": "markdown",
   "metadata": {},
   "source": [
    "Desired Output:\n",
    "\n",
    "![image.png](https://i.ibb.co/5XH3X4q/110.png)"
   ]
  },
  {
   "cell_type": "code",
   "execution_count": null,
   "metadata": {},
   "outputs": [],
   "source": [
    "# Your Code is Here\n",
    "\n"
   ]
  },
  {
   "cell_type": "markdown",
   "metadata": {},
   "source": [
    "Desired Output:\n",
    "\n",
    "![image.png](https://i.ibb.co/19RytkS/111.png)"
   ]
  },
  {
   "cell_type": "code",
   "execution_count": null,
   "metadata": {},
   "outputs": [],
   "source": [
    "# Your Code is Here\n",
    "\n"
   ]
  },
  {
   "cell_type": "markdown",
   "metadata": {},
   "source": [
    "![image.png](https://i.ibb.co/80GcYKr/112.png)"
   ]
  },
  {
   "cell_type": "code",
   "execution_count": null,
   "metadata": {},
   "outputs": [],
   "source": [
    "# Your Code is Here\n",
    "\n"
   ]
  },
  {
   "cell_type": "markdown",
   "metadata": {},
   "source": [
    "Desired Output:\n",
    "\n",
    "![image.png](https://i.ibb.co/0MCPc4d/113.png)"
   ]
  },
  {
   "cell_type": "markdown",
   "metadata": {
    "id": "II2iQLeCjwPd"
   },
   "source": [
    "<a id=\"10\"></a>\n",
    "\n",
    "<p style=\"background-color:romance; color:plum; font-size:220%; text-align:center; border-radius:10px 10px; font-family:newtimeroman; line-height: 1; font-weight:bold;\">The End of the Project</p>\n",
    "\n",
    "<p style=\"text-align: center; line-height: 1\"><img src=\"https://docs.google.com/uc?id=1lY0Uj5R04yMY3-ZppPWxqCr5pvBLYPnV\" class=\"img-fluid\" alt=\"CLRSWY\"></p>\n",
    "\n",
    "<p style=\"background-color:romance; color:plum; font-size:150%; text-align:center; border-radius:10px 10px; font-family:newtimeroman; line-height: 1; font-weight:bold;\">WAY TO REINVENT YOURSELF</p>\n",
    "\n",
    "<a href=\"#content\" class=\"btn btn-primary btn-sm\" role=\"button\" aria-pressed=\"true\" style=\"color:blue; background-color:#dfa8e4\" data-toggle=\"popover\">Content</a>"
   ]
  }
 ],
 "metadata": {
  "colab": {
   "collapsed_sections": [
    "3QuB60ZKjwOM",
    "tRENVPjsjwOO",
    "FWVwlGMnjwOO",
    "O-WjXfO7jwOQ",
    "UVjAplv8jwOQ",
    "HOIESqNjjwOT",
    "6MCscpw1jwOV",
    "9Xgur7CdjwOY",
    "x6Q6OxR6jwOa",
    "jWt2NRMNjwOd",
    "KoqL-m8HjwOd",
    "r2MBtjItjwOd",
    "vqWCeRBujwOr",
    "ZjfFoHZTjwOx",
    "KxHaqS4mjwO2",
    "eoAUdH20jwO6",
    "-atLCuBJjwO8",
    "Q1AO-wkrjwO_",
    "aQo2OjRBjwPE",
    "4Nzi2KokjwPE",
    "Atr3vfcKjwPF",
    "7CvSp9f7jwPF",
    "F7sK9___jwPG",
    "7qqMjUE9jwPG",
    "R5sVvHBYjwPH",
    "tct5KTULjwPH",
    "-_TS1bdWjwPH",
    "OqhEXvvtjwPJ",
    "A96k9zQ-jwPJ",
    "9s-OW2OwjwPR",
    "vlBdLCMhjwPT",
    "HE-2lkvajwPV",
    "CQ9PuUCZjwPa",
    "slzCtnsnjwPa",
    "YjCbYLcxjwPc",
    "II2iQLeCjwPd"
   ],
   "name": "DAwPy (EDA Project- (Analyze US Citizens))-Solution.ipynb",
   "provenance": []
  },
  "kernelspec": {
   "display_name": "Python 3 (ipykernel)",
   "language": "python",
   "name": "python3"
  },
  "language_info": {
   "codemirror_mode": {
    "name": "ipython",
    "version": 3
   },
   "file_extension": ".py",
   "mimetype": "text/x-python",
   "name": "python",
   "nbconvert_exporter": "python",
   "pygments_lexer": "ipython3",
   "version": "3.11.7"
  },
  "nbTranslate": {
   "displayLangs": [
    "*"
   ],
   "hotkey": "alt-t",
   "langInMainMenu": true,
   "sourceLang": "en",
   "targetLang": "fr",
   "useGoogleTranslate": true
  },
  "toc": {
   "base_numbering": 1,
   "nav_menu": {},
   "number_sections": true,
   "sideBar": true,
   "skip_h1_title": false,
   "title_cell": "Table of Contents",
   "title_sidebar": "Contents",
   "toc_cell": false,
   "toc_position": {
    "height": "calc(100% - 180px)",
    "left": "10px",
    "top": "150px",
    "width": "283px"
   },
   "toc_section_display": true,
   "toc_window_display": false
  }
 },
 "nbformat": 4,
 "nbformat_minor": 4
}
